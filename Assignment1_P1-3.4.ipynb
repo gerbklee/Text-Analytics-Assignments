{
 "cells": [
  {
   "cell_type": "markdown",
   "id": "d1c90b7f",
   "metadata": {},
   "source": [
    "### Team Members: Björn Bulkens, Klemens Gerber, Daniel M. Knorr"
   ]
  },
  {
   "cell_type": "code",
   "execution_count": null,
   "id": "21962403",
   "metadata": {},
   "outputs": [],
   "source": [
    "import re\n",
    "\n",
    "#Vorgehensweise wie für Telefonnummer-Parsing bei Bahnstadt\n",
    "\n",
    "directoryPathSource_doubleOcr = './double_ocr_PyPDF.txt'\n",
    "directoryPathSource_singleOcr = './single_ocr_PyPDF.txt'\n",
    "\n",
    "output = open('./Problem1-3.4.txt', 'w')\n",
    "\n",
    "# Outputdatei füllen und Format normalisieren\n",
    "def fill_Output(match):\n",
    "    cleaned = re.sub(r' ', '', match)\n",
    "    cleaned = re.sub(r'-', '', cleaned)\n",
    "    cleaned = re.sub(r'/', '', cleaned)\n",
    "    cleaned = re.sub(r'\\(', '', cleaned)\n",
    "    cleaned = re.sub(r'\\)', '', cleaned)\n",
    "    print(cleaned)\n",
    "    output.write(cleaned + '\\n')\n",
    "\n",
    "print(\"#-------------------------\")\n",
    "print(\"Double_ocr-Telefon\")\n",
    "print(\"#-------------------------\")\n",
    "\n",
    "url_in_doubleOcr = open(directoryPathSource_doubleOcr, 'r')\n",
    "lines_doubleOcr = url_in_doubleOcr.readlines()\n",
    "\n",
    "telefonNumbersGesamtDoubleOcr = []\n",
    "\n",
    "for line in lines_doubleOcr:\n",
    "    line = line.replace(\" \", \"\")\n",
    "    telefonNumbers = re.findall(r\"(?:\\(\\+?\\d+\\)|\\+?\\d+)(?:\\s*[\\-\\/]*\\s*\\d+)+\", line)\n",
    "    if (telefonNumbers):\n",
    "        telefonNumbersGesamtDoubleOcr.extend(telefonNumbers)\n",
    "\n",
    "# Spezielle Nummern\n",
    "for nummer in telefonNumbersGesamtDoubleOcr:\n",
    "    if (len(nummer) > 5 or nummer == '112' or nummer == '110'):\n",
    "        fill_Output(nummer)\n",
    "\n",
    "url_in_doubleOcr.close()\n",
    "\n",
    "print(\"#-------------------------\")\n",
    "print(\"Single_ocr-Telefon\")\n",
    "print(\"#-------------------------\")\n",
    "\n",
    "url_in_singleOcr = open(directoryPathSource_singleOcr, 'r')\n",
    "lines_singleOcr = url_in_singleOcr.readlines()\n",
    "\n",
    "telefonNumbersGesamtSingleOcr = []\n",
    "\n",
    "for line in lines_singleOcr:\n",
    "    line = line.replace(\" \", \"\")\n",
    "    telefonNumbers = re.findall(r\"(?:\\(\\+?\\d+\\)|\\+?\\d+)(?:\\s*[\\-\\/]*\\s*\\d+)+\", line)\n",
    "    if (telefonNumbers):\n",
    "        telefonNumbersGesamtSingleOcr.extend(telefonNumbers)\n",
    "\n",
    "# Spezielle Nummern\n",
    "for nummer in telefonNumbersGesamtSingleOcr:\n",
    "    if (len(nummer) > 5 or nummer == '112' or nummer == '110'):\n",
    "        fill_Output(nummer)\n",
    "\n",
    "url_in_singleOcr.close()"
   ]
  }
 ],
 "metadata": {
  "kernelspec": {
   "display_name": "Python 3 (ipykernel)",
   "language": "python",
   "name": "python3"
  },
  "language_info": {
   "codemirror_mode": {
    "name": "ipython",
    "version": 3
   },
   "file_extension": ".py",
   "mimetype": "text/x-python",
   "name": "python",
   "nbconvert_exporter": "python",
   "pygments_lexer": "ipython3",
   "version": "3.10.8"
  }
 },
 "nbformat": 4,
 "nbformat_minor": 5
}
