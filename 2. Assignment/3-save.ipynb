{
 "cells": [
  {
   "cell_type": "markdown",
   "metadata": {},
   "source": [
    "# Assignment 2: Elasticsearch and Text Mining\n",
    "\n",
    "Due: Monday, December 12, 2022, at 2pm via Moodle\n",
    "\n",
    "**Team Members**:\n",
    "* Björn Bulkens\n",
    "* Klemens Gerber\n",
    "* Daniel M. Knorr"
   ]
  },
  {
   "cell_type": "markdown",
   "metadata": {},
   "source": [
    "### Submission Guidelines\n",
    "\n",
    "- Solutions need to be uploaded as a single Jupyter notebook. You will find this notebook contains some pre-filled cells that you should complete for the individual tasks.\n",
    "- For answers requiring written solutions, use Markdown cells (in combination with Jupyter LaTeX support) **inside this notebook**. Do *not* hand in any separate files, simply re-upload the `.ipynb` file.\n",
    "- Download the .zip file containing the dataset but do *not* upload it with your solution.\n",
    "- Make sure that the names of all team members are present in the solution."
   ]
  },
  {
   "cell_type": "code",
   "execution_count": 1,
   "metadata": {},
   "outputs": [],
   "source": [
    "from IPython.display import clear_output"
   ]
  },
  {
   "cell_type": "markdown",
   "metadata": {
    "vscode": {
     "languageId": "powershell"
    }
   },
   "source": [
    "// actually powershell command //\n",
    "conda install --file requirements.txt -c conda-forge"
   ]
  },
  {
   "cell_type": "code",
   "execution_count": 2,
   "metadata": {},
   "outputs": [],
   "source": [
    "# %%bash\n",
    "# ./ ~/.bashrc\n",
    "# python3 -m spacy download en_core_web_sm\n",
    "# Install required language model for spaCy\n",
    "clear_output()"
   ]
  },
  {
   "cell_type": "markdown",
   "metadata": {},
   "source": [
    "\n",
    "## Question 2-1: \"The Simpsons\" Dataset (1 + 4 + 3 + 2 + 6 + 5 = 21 points)"
   ]
  },
  {
   "cell_type": "markdown",
   "metadata": {},
   "source": [
    "\"The Simpsons\" is the world’s longest-running animated sitcom. The show revolves around the lives of the Simpson family, which consists of Homer, Marge, Bart, Lisa, and the little Maggi.\n",
    "For this exercise, you will work with the dataset that contains characters, locations, episode details, and script lines for approximately 600 Simpsons episodes, dating back to 1989.\n",
    "We will explore the data and use visualizations to gain some insight into the show. The Zip file alongside this notebook should contain the following files:\n",
    "\n",
    "` simpsons_characters.csv, simpsons_locations.csv, simpsons_script_lines.csv, simpsons_episodes.csv`\n",
    "\n",
    "Take some time and familiarize yourself with the data. `simpsons_characters.csv` contains the character-names and their gender.\n",
    "`simpsons_locations.csv` contains information about locations in the shows, and `simpsons_episodes.csv` has information about each episode including their title, rating, and views.\n",
    "Finally, `simpsons_script_lines.csv` lists all the lines in the show, who said the line and where it was said. Be aware that this data set is not cleaned and, hence, includes faulty data as well as inconsistent data types."
   ]
  },
  {
   "cell_type": "code",
   "execution_count": 1,
   "metadata": {},
   "outputs": [],
   "source": [
    "# General imports\n",
    "import os\n",
    "\n",
    "import pandas as pd\n",
    "import numpy as np\n",
    "import spacy\n",
    "import matplotlib\n",
    "from wordcloud import WordCloud\n",
    "from matplotlib import pyplot as plt\n",
    "\n",
    "# Ensure matplotlib works correctly with Jupyter\n",
    "%matplotlib inline"
   ]
  },
  {
   "cell_type": "markdown",
   "metadata": {},
   "source": [
    "### 1. Data Loading (1 point)\n",
    "Load the four datasets in the respective variables using pandas, and make sure to set the type of the `character_id` to integer."
   ]
  },
  {
   "cell_type": "code",
   "execution_count": 8,
   "metadata": {},
   "outputs": [
    {
     "name": "stderr",
     "output_type": "stream",
     "text": [
      "C:\\Users\\gerbk\\AppData\\Local\\Temp\\ipykernel_6452\\1991298596.py:3: DtypeWarning: Columns (4,5,6) have mixed types. Specify dtype option on import or set low_memory=False.\n",
      "  df_script = pd.read_csv(\"data/simpsons_script_lines.csv\")\n"
     ]
    }
   ],
   "source": [
    "df_characters = pd.read_csv(\"data/simpsons_characters.csv\")\n",
    "df_locations = pd.read_csv(\"data/simpsons_locations.csv\")\n",
    "df_script = pd.read_csv(\"data/simpsons_script_lines.csv\")\n",
    "df_episodes = pd.read_csv(\"data/simpsons_episodes.csv\")"
   ]
  },
  {
   "cell_type": "markdown",
   "metadata": {},
   "source": [
    "Drop all lines associated with the (non-numeric) character ID `142024`."
   ]
  },
  {
   "cell_type": "code",
   "execution_count": null,
   "metadata": {},
   "outputs": [],
   "source": [
    "\n"
   ]
  },
  {
   "cell_type": "markdown",
   "metadata": {},
   "source": [
    "Next, use panda's `.head()` function to inspect the top rows of each dataframe."
   ]
  },
  {
   "cell_type": "code",
   "execution_count": 12,
   "metadata": {},
   "outputs": [
    {
     "data": {
      "text/html": [
       "<div>\n",
       "<style scoped>\n",
       "    .dataframe tbody tr th:only-of-type {\n",
       "        vertical-align: middle;\n",
       "    }\n",
       "\n",
       "    .dataframe tbody tr th {\n",
       "        vertical-align: top;\n",
       "    }\n",
       "\n",
       "    .dataframe thead th {\n",
       "        text-align: right;\n",
       "    }\n",
       "</style>\n",
       "<table border=\"1\" class=\"dataframe\">\n",
       "  <thead>\n",
       "    <tr style=\"text-align: right;\">\n",
       "      <th></th>\n",
       "      <th>id</th>\n",
       "      <th>image_url</th>\n",
       "      <th>imdb_rating</th>\n",
       "      <th>imdb_votes</th>\n",
       "      <th>number_in_season</th>\n",
       "      <th>number_in_series</th>\n",
       "      <th>original_air_date</th>\n",
       "      <th>original_air_year</th>\n",
       "      <th>production_code</th>\n",
       "      <th>season</th>\n",
       "      <th>title</th>\n",
       "      <th>us_viewers_in_millions</th>\n",
       "      <th>video_url</th>\n",
       "      <th>views</th>\n",
       "    </tr>\n",
       "  </thead>\n",
       "  <tbody>\n",
       "    <tr>\n",
       "      <th>0</th>\n",
       "      <td>10</td>\n",
       "      <td>http://static-media.fxx.com/img/FX_Networks_-_...</td>\n",
       "      <td>7.4</td>\n",
       "      <td>1511.0</td>\n",
       "      <td>10</td>\n",
       "      <td>10</td>\n",
       "      <td>1990-03-25</td>\n",
       "      <td>1990</td>\n",
       "      <td>7G10</td>\n",
       "      <td>1</td>\n",
       "      <td>Homer's Night Out</td>\n",
       "      <td>30.3</td>\n",
       "      <td>http://www.simpsonsworld.com/video/275197507879</td>\n",
       "      <td>50816.0</td>\n",
       "    </tr>\n",
       "    <tr>\n",
       "      <th>1</th>\n",
       "      <td>12</td>\n",
       "      <td>http://static-media.fxx.com/img/FX_Networks_-_...</td>\n",
       "      <td>8.3</td>\n",
       "      <td>1716.0</td>\n",
       "      <td>12</td>\n",
       "      <td>12</td>\n",
       "      <td>1990-04-29</td>\n",
       "      <td>1990</td>\n",
       "      <td>7G12</td>\n",
       "      <td>1</td>\n",
       "      <td>Krusty Gets Busted</td>\n",
       "      <td>30.4</td>\n",
       "      <td>http://www.simpsonsworld.com/video/288019523914</td>\n",
       "      <td>62561.0</td>\n",
       "    </tr>\n",
       "    <tr>\n",
       "      <th>2</th>\n",
       "      <td>14</td>\n",
       "      <td>http://static-media.fxx.com/img/FX_Networks_-_...</td>\n",
       "      <td>8.2</td>\n",
       "      <td>1638.0</td>\n",
       "      <td>1</td>\n",
       "      <td>14</td>\n",
       "      <td>1990-10-11</td>\n",
       "      <td>1990</td>\n",
       "      <td>7F03</td>\n",
       "      <td>2</td>\n",
       "      <td>Bart Gets an \"F\"</td>\n",
       "      <td>33.6</td>\n",
       "      <td>http://www.simpsonsworld.com/video/260539459671</td>\n",
       "      <td>59575.0</td>\n",
       "    </tr>\n",
       "    <tr>\n",
       "      <th>3</th>\n",
       "      <td>17</td>\n",
       "      <td>http://static-media.fxx.com/img/FX_Networks_-_...</td>\n",
       "      <td>8.1</td>\n",
       "      <td>1457.0</td>\n",
       "      <td>4</td>\n",
       "      <td>17</td>\n",
       "      <td>1990-11-01</td>\n",
       "      <td>1990</td>\n",
       "      <td>7F01</td>\n",
       "      <td>2</td>\n",
       "      <td>Two Cars in Every Garage and Three Eyes on Eve...</td>\n",
       "      <td>26.1</td>\n",
       "      <td>http://www.simpsonsworld.com/video/260537411822</td>\n",
       "      <td>64959.0</td>\n",
       "    </tr>\n",
       "    <tr>\n",
       "      <th>4</th>\n",
       "      <td>19</td>\n",
       "      <td>http://static-media.fxx.com/img/FX_Networks_-_...</td>\n",
       "      <td>8.0</td>\n",
       "      <td>1366.0</td>\n",
       "      <td>6</td>\n",
       "      <td>19</td>\n",
       "      <td>1990-11-15</td>\n",
       "      <td>1990</td>\n",
       "      <td>7F08</td>\n",
       "      <td>2</td>\n",
       "      <td>Dead Putting Society</td>\n",
       "      <td>25.4</td>\n",
       "      <td>http://www.simpsonsworld.com/video/260539459670</td>\n",
       "      <td>50691.0</td>\n",
       "    </tr>\n",
       "  </tbody>\n",
       "</table>\n",
       "</div>"
      ],
      "text/plain": [
       "   id                                          image_url  imdb_rating  \\\n",
       "0  10  http://static-media.fxx.com/img/FX_Networks_-_...          7.4   \n",
       "1  12  http://static-media.fxx.com/img/FX_Networks_-_...          8.3   \n",
       "2  14  http://static-media.fxx.com/img/FX_Networks_-_...          8.2   \n",
       "3  17  http://static-media.fxx.com/img/FX_Networks_-_...          8.1   \n",
       "4  19  http://static-media.fxx.com/img/FX_Networks_-_...          8.0   \n",
       "\n",
       "   imdb_votes  number_in_season  number_in_series original_air_date  \\\n",
       "0      1511.0                10                10        1990-03-25   \n",
       "1      1716.0                12                12        1990-04-29   \n",
       "2      1638.0                 1                14        1990-10-11   \n",
       "3      1457.0                 4                17        1990-11-01   \n",
       "4      1366.0                 6                19        1990-11-15   \n",
       "\n",
       "   original_air_year production_code  season  \\\n",
       "0               1990            7G10       1   \n",
       "1               1990            7G12       1   \n",
       "2               1990            7F03       2   \n",
       "3               1990            7F01       2   \n",
       "4               1990            7F08       2   \n",
       "\n",
       "                                               title  us_viewers_in_millions  \\\n",
       "0                                  Homer's Night Out                    30.3   \n",
       "1                                 Krusty Gets Busted                    30.4   \n",
       "2                                   Bart Gets an \"F\"                    33.6   \n",
       "3  Two Cars in Every Garage and Three Eyes on Eve...                    26.1   \n",
       "4                               Dead Putting Society                    25.4   \n",
       "\n",
       "                                         video_url    views  \n",
       "0  http://www.simpsonsworld.com/video/275197507879  50816.0  \n",
       "1  http://www.simpsonsworld.com/video/288019523914  62561.0  \n",
       "2  http://www.simpsonsworld.com/video/260539459671  59575.0  \n",
       "3  http://www.simpsonsworld.com/video/260537411822  64959.0  \n",
       "4  http://www.simpsonsworld.com/video/260539459670  50691.0  "
      ]
     },
     "execution_count": 12,
     "metadata": {},
     "output_type": "execute_result"
    }
   ],
   "source": [
    "df_characters.head()\n",
    "df_locations.head()\n",
    "df_script.head()\n",
    "df_episodes.head()"
   ]
  },
  {
   "cell_type": "markdown",
   "metadata": {},
   "source": [
    "### 2. Prominent Characters (4 points)\n",
    "\n",
    "Let us now take a look at the most important characters of the show. To start, retrieve the most prominent characters by the number of spoken words/lines throughout the show. \n",
    "\n",
    "Extract the top 10 characters based on the number of spoken words (word count), as well as the 10 most prominent characters regarding their sum total number of lines.\n",
    "\n",
    "You might notice that there is a column with `word_count` in the `df_scripts` data frame, but cleaning it up might be tricky. To find the sum of all values, first remove the `nan` entries and any other string characters in that column. You can use the provided `conv` function for this."
   ]
  },
  {
   "cell_type": "code",
   "execution_count": 27,
   "metadata": {},
   "outputs": [
    {
     "data": {
      "text/html": [
       "<div>\n",
       "<style scoped>\n",
       "    .dataframe tbody tr th:only-of-type {\n",
       "        vertical-align: middle;\n",
       "    }\n",
       "\n",
       "    .dataframe tbody tr th {\n",
       "        vertical-align: top;\n",
       "    }\n",
       "\n",
       "    .dataframe thead th {\n",
       "        text-align: right;\n",
       "    }\n",
       "</style>\n",
       "<table border=\"1\" class=\"dataframe\">\n",
       "  <thead>\n",
       "    <tr style=\"text-align: right;\">\n",
       "      <th></th>\n",
       "      <th>id</th>\n",
       "      <th>episode_id</th>\n",
       "      <th>number</th>\n",
       "      <th>raw_text</th>\n",
       "      <th>timestamp_in_ms</th>\n",
       "      <th>speaking_line</th>\n",
       "      <th>character_id</th>\n",
       "      <th>location_id</th>\n",
       "      <th>raw_character_text</th>\n",
       "      <th>raw_location_text</th>\n",
       "      <th>spoken_words</th>\n",
       "      <th>normalized_text</th>\n",
       "      <th>word_count</th>\n",
       "    </tr>\n",
       "  </thead>\n",
       "  <tbody>\n",
       "    <tr>\n",
       "      <th>0</th>\n",
       "      <td>9549</td>\n",
       "      <td>32</td>\n",
       "      <td>209</td>\n",
       "      <td>Miss Hoover: No, actually, it was a little of ...</td>\n",
       "      <td>848000</td>\n",
       "      <td>True</td>\n",
       "      <td>464.0</td>\n",
       "      <td>3.0</td>\n",
       "      <td>Miss Hoover</td>\n",
       "      <td>Springfield Elementary School</td>\n",
       "      <td>No, actually, it was a little of both. Sometim...</td>\n",
       "      <td>no actually it was a little of both sometimes ...</td>\n",
       "      <td>31</td>\n",
       "    </tr>\n",
       "    <tr>\n",
       "      <th>1</th>\n",
       "      <td>9550</td>\n",
       "      <td>32</td>\n",
       "      <td>210</td>\n",
       "      <td>Lisa Simpson: (NEAR TEARS) Where's Mr. Bergstrom?</td>\n",
       "      <td>856000</td>\n",
       "      <td>True</td>\n",
       "      <td>9.0</td>\n",
       "      <td>3.0</td>\n",
       "      <td>Lisa Simpson</td>\n",
       "      <td>Springfield Elementary School</td>\n",
       "      <td>Where's Mr. Bergstrom?</td>\n",
       "      <td>wheres mr bergstrom</td>\n",
       "      <td>3</td>\n",
       "    </tr>\n",
       "    <tr>\n",
       "      <th>2</th>\n",
       "      <td>9551</td>\n",
       "      <td>32</td>\n",
       "      <td>211</td>\n",
       "      <td>Miss Hoover: I don't know. Although I'd sure l...</td>\n",
       "      <td>856000</td>\n",
       "      <td>True</td>\n",
       "      <td>464.0</td>\n",
       "      <td>3.0</td>\n",
       "      <td>Miss Hoover</td>\n",
       "      <td>Springfield Elementary School</td>\n",
       "      <td>I don't know. Although I'd sure like to talk t...</td>\n",
       "      <td>i dont know although id sure like to talk to h...</td>\n",
       "      <td>22</td>\n",
       "    </tr>\n",
       "    <tr>\n",
       "      <th>3</th>\n",
       "      <td>9552</td>\n",
       "      <td>32</td>\n",
       "      <td>212</td>\n",
       "      <td>Lisa Simpson: That life is worth living.</td>\n",
       "      <td>864000</td>\n",
       "      <td>True</td>\n",
       "      <td>9.0</td>\n",
       "      <td>3.0</td>\n",
       "      <td>Lisa Simpson</td>\n",
       "      <td>Springfield Elementary School</td>\n",
       "      <td>That life is worth living.</td>\n",
       "      <td>that life is worth living</td>\n",
       "      <td>5</td>\n",
       "    </tr>\n",
       "    <tr>\n",
       "      <th>4</th>\n",
       "      <td>9553</td>\n",
       "      <td>32</td>\n",
       "      <td>213</td>\n",
       "      <td>Edna Krabappel-Flanders: The polls will be ope...</td>\n",
       "      <td>864000</td>\n",
       "      <td>True</td>\n",
       "      <td>40.0</td>\n",
       "      <td>3.0</td>\n",
       "      <td>Edna Krabappel-Flanders</td>\n",
       "      <td>Springfield Elementary School</td>\n",
       "      <td>The polls will be open from now until the end ...</td>\n",
       "      <td>the polls will be open from now until the end ...</td>\n",
       "      <td>33</td>\n",
       "    </tr>\n",
       "    <tr>\n",
       "      <th>5</th>\n",
       "      <td>9554</td>\n",
       "      <td>32</td>\n",
       "      <td>214</td>\n",
       "      <td>Martin Prince: (HOARSE WHISPER) I don't think ...</td>\n",
       "      <td>877000</td>\n",
       "      <td>True</td>\n",
       "      <td>38.0</td>\n",
       "      <td>3.0</td>\n",
       "      <td>Martin Prince</td>\n",
       "      <td>Springfield Elementary School</td>\n",
       "      <td>I don't think there's anything left to say.</td>\n",
       "      <td>i dont think theres anything left to say</td>\n",
       "      <td>8</td>\n",
       "    </tr>\n",
       "    <tr>\n",
       "      <th>6</th>\n",
       "      <td>9555</td>\n",
       "      <td>32</td>\n",
       "      <td>215</td>\n",
       "      <td>Edna Krabappel-Flanders: Bart?</td>\n",
       "      <td>881000</td>\n",
       "      <td>True</td>\n",
       "      <td>40.0</td>\n",
       "      <td>3.0</td>\n",
       "      <td>Edna Krabappel-Flanders</td>\n",
       "      <td>Springfield Elementary School</td>\n",
       "      <td>Bart?</td>\n",
       "      <td>bart</td>\n",
       "      <td>1</td>\n",
       "    </tr>\n",
       "    <tr>\n",
       "      <th>7</th>\n",
       "      <td>9556</td>\n",
       "      <td>32</td>\n",
       "      <td>216</td>\n",
       "      <td>Bart Simpson: Victory party under the slide!</td>\n",
       "      <td>882000</td>\n",
       "      <td>True</td>\n",
       "      <td>8.0</td>\n",
       "      <td>3.0</td>\n",
       "      <td>Bart Simpson</td>\n",
       "      <td>Springfield Elementary School</td>\n",
       "      <td>Victory party under the slide!</td>\n",
       "      <td>victory party under the slide</td>\n",
       "      <td>5</td>\n",
       "    </tr>\n",
       "    <tr>\n",
       "      <th>9</th>\n",
       "      <td>9558</td>\n",
       "      <td>32</td>\n",
       "      <td>218</td>\n",
       "      <td>Lisa Simpson: (CALLING) Mr. Bergstrom! Mr. Ber...</td>\n",
       "      <td>889000</td>\n",
       "      <td>True</td>\n",
       "      <td>9.0</td>\n",
       "      <td>374.0</td>\n",
       "      <td>Lisa Simpson</td>\n",
       "      <td>Apartment Building</td>\n",
       "      <td>Mr. Bergstrom! Mr. Bergstrom!</td>\n",
       "      <td>mr bergstrom mr bergstrom</td>\n",
       "      <td>4</td>\n",
       "    </tr>\n",
       "    <tr>\n",
       "      <th>10</th>\n",
       "      <td>9559</td>\n",
       "      <td>32</td>\n",
       "      <td>219</td>\n",
       "      <td>Landlady: Hey, hey, he Moved out this morning....</td>\n",
       "      <td>893000</td>\n",
       "      <td>True</td>\n",
       "      <td>469.0</td>\n",
       "      <td>374.0</td>\n",
       "      <td>Landlady</td>\n",
       "      <td>Apartment Building</td>\n",
       "      <td>Hey, hey, he Moved out this morning. He must h...</td>\n",
       "      <td>hey hey he moved out this morning he must have...</td>\n",
       "      <td>19</td>\n",
       "    </tr>\n",
       "    <tr>\n",
       "      <th>11</th>\n",
       "      <td>9560</td>\n",
       "      <td>32</td>\n",
       "      <td>220</td>\n",
       "      <td>Lisa Simpson: Do you know where I could find him?</td>\n",
       "      <td>898000</td>\n",
       "      <td>True</td>\n",
       "      <td>9.0</td>\n",
       "      <td>374.0</td>\n",
       "      <td>Lisa Simpson</td>\n",
       "      <td>Apartment Building</td>\n",
       "      <td>Do you know where I could find him?</td>\n",
       "      <td>do you know where i could find him</td>\n",
       "      <td>8</td>\n",
       "    </tr>\n",
       "    <tr>\n",
       "      <th>12</th>\n",
       "      <td>9561</td>\n",
       "      <td>32</td>\n",
       "      <td>221</td>\n",
       "      <td>Landlady: I think he's taking the next train t...</td>\n",
       "      <td>900000</td>\n",
       "      <td>True</td>\n",
       "      <td>469.0</td>\n",
       "      <td>374.0</td>\n",
       "      <td>Landlady</td>\n",
       "      <td>Apartment Building</td>\n",
       "      <td>I think he's taking the next train to Capital ...</td>\n",
       "      <td>i think hes taking the next train to capital city</td>\n",
       "      <td>10</td>\n",
       "    </tr>\n",
       "    <tr>\n",
       "      <th>13</th>\n",
       "      <td>9562</td>\n",
       "      <td>32</td>\n",
       "      <td>222</td>\n",
       "      <td>Lisa Simpson: The train, how like him... tradi...</td>\n",
       "      <td>903000</td>\n",
       "      <td>True</td>\n",
       "      <td>9.0</td>\n",
       "      <td>374.0</td>\n",
       "      <td>Lisa Simpson</td>\n",
       "      <td>Apartment Building</td>\n",
       "      <td>The train, how like him... traditional, yet en...</td>\n",
       "      <td>the train how like him traditional yet environ...</td>\n",
       "      <td>9</td>\n",
       "    </tr>\n",
       "    <tr>\n",
       "      <th>14</th>\n",
       "      <td>9563</td>\n",
       "      <td>32</td>\n",
       "      <td>223</td>\n",
       "      <td>Landlady: Yes, and it's been the backbone of o...</td>\n",
       "      <td>908000</td>\n",
       "      <td>True</td>\n",
       "      <td>469.0</td>\n",
       "      <td>374.0</td>\n",
       "      <td>Landlady</td>\n",
       "      <td>Apartment Building</td>\n",
       "      <td>Yes, and it's been the backbone of our country...</td>\n",
       "      <td>yes and its been the backbone of our country s...</td>\n",
       "      <td>19</td>\n",
       "    </tr>\n",
       "    <tr>\n",
       "      <th>15</th>\n",
       "      <td>9564</td>\n",
       "      <td>32</td>\n",
       "      <td>224</td>\n",
       "      <td>Lisa Simpson: I see he touched you, too.</td>\n",
       "      <td>915000</td>\n",
       "      <td>True</td>\n",
       "      <td>9.0</td>\n",
       "      <td>374.0</td>\n",
       "      <td>Lisa Simpson</td>\n",
       "      <td>Apartment Building</td>\n",
       "      <td>I see he touched you, too.</td>\n",
       "      <td>i see he touched you too</td>\n",
       "      <td>6</td>\n",
       "    </tr>\n",
       "    <tr>\n",
       "      <th>17</th>\n",
       "      <td>9566</td>\n",
       "      <td>32</td>\n",
       "      <td>226</td>\n",
       "      <td>Bart Simpson: Hey, thanks for your vote, man.</td>\n",
       "      <td>918000</td>\n",
       "      <td>True</td>\n",
       "      <td>8.0</td>\n",
       "      <td>3.0</td>\n",
       "      <td>Bart Simpson</td>\n",
       "      <td>Springfield Elementary School</td>\n",
       "      <td>Hey, thanks for your vote, man.</td>\n",
       "      <td>hey thanks for your vote man</td>\n",
       "      <td>6</td>\n",
       "    </tr>\n",
       "    <tr>\n",
       "      <th>18</th>\n",
       "      <td>9567</td>\n",
       "      <td>32</td>\n",
       "      <td>227</td>\n",
       "      <td>Nelson Muntz: I didn't vote. Voting's for geeks.</td>\n",
       "      <td>920000</td>\n",
       "      <td>True</td>\n",
       "      <td>101.0</td>\n",
       "      <td>3.0</td>\n",
       "      <td>Nelson Muntz</td>\n",
       "      <td>Springfield Elementary School</td>\n",
       "      <td>I didn't vote. Voting's for geeks.</td>\n",
       "      <td>i didnt vote votings for geeks</td>\n",
       "      <td>6</td>\n",
       "    </tr>\n",
       "    <tr>\n",
       "      <th>19</th>\n",
       "      <td>9568</td>\n",
       "      <td>32</td>\n",
       "      <td>228</td>\n",
       "      <td>Bart Simpson: Well, you got that right. (TO TE...</td>\n",
       "      <td>922000</td>\n",
       "      <td>True</td>\n",
       "      <td>8.0</td>\n",
       "      <td>3.0</td>\n",
       "      <td>Bart Simpson</td>\n",
       "      <td>Springfield Elementary School</td>\n",
       "      <td>Well, you got that right. Thanks for your vote...</td>\n",
       "      <td>well you got that right thanks for your vote g...</td>\n",
       "      <td>10</td>\n",
       "    </tr>\n",
       "    <tr>\n",
       "      <th>20</th>\n",
       "      <td>9569</td>\n",
       "      <td>32</td>\n",
       "      <td>229</td>\n",
       "      <td>Terri/sherri: We forgot.</td>\n",
       "      <td>925000</td>\n",
       "      <td>True</td>\n",
       "      <td>467.0</td>\n",
       "      <td>3.0</td>\n",
       "      <td>Terri/sherri</td>\n",
       "      <td>Springfield Elementary School</td>\n",
       "      <td>We forgot.</td>\n",
       "      <td>we forgot</td>\n",
       "      <td>2</td>\n",
       "    </tr>\n",
       "    <tr>\n",
       "      <th>21</th>\n",
       "      <td>9570</td>\n",
       "      <td>32</td>\n",
       "      <td>230</td>\n",
       "      <td>Bart Simpson: Well, don't sweat it. Just so lo...</td>\n",
       "      <td>927000</td>\n",
       "      <td>True</td>\n",
       "      <td>8.0</td>\n",
       "      <td>3.0</td>\n",
       "      <td>Bart Simpson</td>\n",
       "      <td>Springfield Elementary School</td>\n",
       "      <td>Well, don't sweat it. Just so long as a couple...</td>\n",
       "      <td>well dont sweat it just so long as a couple of...</td>\n",
       "      <td>15</td>\n",
       "    </tr>\n",
       "  </tbody>\n",
       "</table>\n",
       "</div>"
      ],
      "text/plain": [
       "      id  episode_id  number  \\\n",
       "0   9549          32     209   \n",
       "1   9550          32     210   \n",
       "2   9551          32     211   \n",
       "3   9552          32     212   \n",
       "4   9553          32     213   \n",
       "5   9554          32     214   \n",
       "6   9555          32     215   \n",
       "7   9556          32     216   \n",
       "9   9558          32     218   \n",
       "10  9559          32     219   \n",
       "11  9560          32     220   \n",
       "12  9561          32     221   \n",
       "13  9562          32     222   \n",
       "14  9563          32     223   \n",
       "15  9564          32     224   \n",
       "17  9566          32     226   \n",
       "18  9567          32     227   \n",
       "19  9568          32     228   \n",
       "20  9569          32     229   \n",
       "21  9570          32     230   \n",
       "\n",
       "                                             raw_text timestamp_in_ms  \\\n",
       "0   Miss Hoover: No, actually, it was a little of ...          848000   \n",
       "1   Lisa Simpson: (NEAR TEARS) Where's Mr. Bergstrom?          856000   \n",
       "2   Miss Hoover: I don't know. Although I'd sure l...          856000   \n",
       "3            Lisa Simpson: That life is worth living.          864000   \n",
       "4   Edna Krabappel-Flanders: The polls will be ope...          864000   \n",
       "5   Martin Prince: (HOARSE WHISPER) I don't think ...          877000   \n",
       "6                      Edna Krabappel-Flanders: Bart?          881000   \n",
       "7        Bart Simpson: Victory party under the slide!          882000   \n",
       "9   Lisa Simpson: (CALLING) Mr. Bergstrom! Mr. Ber...          889000   \n",
       "10  Landlady: Hey, hey, he Moved out this morning....          893000   \n",
       "11  Lisa Simpson: Do you know where I could find him?          898000   \n",
       "12  Landlady: I think he's taking the next train t...          900000   \n",
       "13  Lisa Simpson: The train, how like him... tradi...          903000   \n",
       "14  Landlady: Yes, and it's been the backbone of o...          908000   \n",
       "15           Lisa Simpson: I see he touched you, too.          915000   \n",
       "17      Bart Simpson: Hey, thanks for your vote, man.          918000   \n",
       "18   Nelson Muntz: I didn't vote. Voting's for geeks.          920000   \n",
       "19  Bart Simpson: Well, you got that right. (TO TE...          922000   \n",
       "20                           Terri/sherri: We forgot.          925000   \n",
       "21  Bart Simpson: Well, don't sweat it. Just so lo...          927000   \n",
       "\n",
       "   speaking_line  character_id  location_id       raw_character_text  \\\n",
       "0           True         464.0          3.0              Miss Hoover   \n",
       "1           True           9.0          3.0             Lisa Simpson   \n",
       "2           True         464.0          3.0              Miss Hoover   \n",
       "3           True           9.0          3.0             Lisa Simpson   \n",
       "4           True          40.0          3.0  Edna Krabappel-Flanders   \n",
       "5           True          38.0          3.0            Martin Prince   \n",
       "6           True          40.0          3.0  Edna Krabappel-Flanders   \n",
       "7           True           8.0          3.0             Bart Simpson   \n",
       "9           True           9.0        374.0             Lisa Simpson   \n",
       "10          True         469.0        374.0                 Landlady   \n",
       "11          True           9.0        374.0             Lisa Simpson   \n",
       "12          True         469.0        374.0                 Landlady   \n",
       "13          True           9.0        374.0             Lisa Simpson   \n",
       "14          True         469.0        374.0                 Landlady   \n",
       "15          True           9.0        374.0             Lisa Simpson   \n",
       "17          True           8.0          3.0             Bart Simpson   \n",
       "18          True         101.0          3.0             Nelson Muntz   \n",
       "19          True           8.0          3.0             Bart Simpson   \n",
       "20          True         467.0          3.0             Terri/sherri   \n",
       "21          True           8.0          3.0             Bart Simpson   \n",
       "\n",
       "                raw_location_text  \\\n",
       "0   Springfield Elementary School   \n",
       "1   Springfield Elementary School   \n",
       "2   Springfield Elementary School   \n",
       "3   Springfield Elementary School   \n",
       "4   Springfield Elementary School   \n",
       "5   Springfield Elementary School   \n",
       "6   Springfield Elementary School   \n",
       "7   Springfield Elementary School   \n",
       "9              Apartment Building   \n",
       "10             Apartment Building   \n",
       "11             Apartment Building   \n",
       "12             Apartment Building   \n",
       "13             Apartment Building   \n",
       "14             Apartment Building   \n",
       "15             Apartment Building   \n",
       "17  Springfield Elementary School   \n",
       "18  Springfield Elementary School   \n",
       "19  Springfield Elementary School   \n",
       "20  Springfield Elementary School   \n",
       "21  Springfield Elementary School   \n",
       "\n",
       "                                         spoken_words  \\\n",
       "0   No, actually, it was a little of both. Sometim...   \n",
       "1                              Where's Mr. Bergstrom?   \n",
       "2   I don't know. Although I'd sure like to talk t...   \n",
       "3                          That life is worth living.   \n",
       "4   The polls will be open from now until the end ...   \n",
       "5         I don't think there's anything left to say.   \n",
       "6                                               Bart?   \n",
       "7                      Victory party under the slide!   \n",
       "9                       Mr. Bergstrom! Mr. Bergstrom!   \n",
       "10  Hey, hey, he Moved out this morning. He must h...   \n",
       "11                Do you know where I could find him?   \n",
       "12  I think he's taking the next train to Capital ...   \n",
       "13  The train, how like him... traditional, yet en...   \n",
       "14  Yes, and it's been the backbone of our country...   \n",
       "15                         I see he touched you, too.   \n",
       "17                    Hey, thanks for your vote, man.   \n",
       "18                 I didn't vote. Voting's for geeks.   \n",
       "19  Well, you got that right. Thanks for your vote...   \n",
       "20                                         We forgot.   \n",
       "21  Well, don't sweat it. Just so long as a couple...   \n",
       "\n",
       "                                      normalized_text  word_count  \n",
       "0   no actually it was a little of both sometimes ...          31  \n",
       "1                                 wheres mr bergstrom           3  \n",
       "2   i dont know although id sure like to talk to h...          22  \n",
       "3                           that life is worth living           5  \n",
       "4   the polls will be open from now until the end ...          33  \n",
       "5            i dont think theres anything left to say           8  \n",
       "6                                                bart           1  \n",
       "7                       victory party under the slide           5  \n",
       "9                           mr bergstrom mr bergstrom           4  \n",
       "10  hey hey he moved out this morning he must have...          19  \n",
       "11                 do you know where i could find him           8  \n",
       "12  i think hes taking the next train to capital city          10  \n",
       "13  the train how like him traditional yet environ...           9  \n",
       "14  yes and its been the backbone of our country s...          19  \n",
       "15                           i see he touched you too           6  \n",
       "17                       hey thanks for your vote man           6  \n",
       "18                     i didnt vote votings for geeks           6  \n",
       "19  well you got that right thanks for your vote g...          10  \n",
       "20                                          we forgot           2  \n",
       "21  well dont sweat it just so long as a couple of...          15  "
      ]
     },
     "execution_count": 27,
     "metadata": {},
     "output_type": "execute_result"
    }
   ],
   "source": [
    "def conv(row):\n",
    "    try:\n",
    "        return int(row)\n",
    "    except:\n",
    "        return np.nan\n",
    "# First apply the conv() filtering on the word count\n",
    "df_script[\"word_count\"] = df_script['word_count'].map(conv)\n",
    "df_script[\"character_id\"] = df_script['character_id'].map(conv)\n",
    "\n",
    "# And then drop all `nan` values in \"word_count\"\n",
    "\n",
    "# Hint: Make sure the operation is done in-place.\n",
    "df_script.dropna(subset=[ 'word_count'], inplace = True)\n",
    "df_script.dropna(subset=[ 'character_id'], inplace = True)\n",
    "df_script.head(20)\n",
    "### Your code ###"
   ]
  },
  {
   "cell_type": "code",
   "execution_count": 41,
   "metadata": {},
   "outputs": [
    {
     "data": {
      "text/plain": [
       "character_id  raw_character_text \n",
       "2             Homer Simpson          27910\n",
       "1             Marge Simpson          13192\n",
       "8             Bart Simpson           13013\n",
       "9             Lisa Simpson           10769\n",
       "15            C. Montgomery Burns     3087\n",
       "17            Moe Szyslak             2809\n",
       "3             Seymour Skinner         2390\n",
       "11            Ned Flanders            2057\n",
       "31            Grampa Simpson          1807\n",
       "71            Chief Wiggum            1796\n",
       "Name: character_id, dtype: int64"
      ]
     },
     "execution_count": 41,
     "metadata": {},
     "output_type": "execute_result"
    }
   ],
   "source": [
    "# Now aggregate the top characters by words:\n",
    "df_script['character_id'] = df_script['character_id'].astype('int')\n",
    "top_characters_by_words = df_script.groupby([\"character_id\", \"raw_character_text\"])[\"word_count\"].sum()\n",
    "top_characters_by_words.sort_values( ascending = False, inplace = True)\n",
    "top_characters_by_words.head(10)\n",
    "\n",
    "\n",
    "# And do the same by lines:\n",
    "top_characters_by_lines = df_script.groupby([\"character_id\", \"raw_character_text\"])[\"character_id\"].size()\n",
    "top_characters_by_lines.sort_values( ascending = False, inplace = True)\n",
    "top_characters_by_lines.head(10)\n"
   ]
  },
  {
   "cell_type": "markdown",
   "metadata": {},
   "source": [
    "\n",
    "Compare both results by drawing two bar plots: For the first plot, the x-axis should show the name of the top 10 characters with regard to the word count and the y-axis should display the number of spoken words.\n",
    "\n",
    "In the second plot, you should do the same, but this time considering the number of lines (not words) for each character. Note that the characters shown in the two plots might differ.\n"
   ]
  },
  {
   "cell_type": "code",
   "execution_count": 50,
   "metadata": {},
   "outputs": [
    {
     "data": {
      "text/plain": [
       "<AxesSubplot:xlabel='character_id,raw_character_text'>"
      ]
     },
     "execution_count": 50,
     "metadata": {},
     "output_type": "execute_result"
    },
    {
     "data": {
      "image/png": "[encoded data removed]",
      "text/plain": [
       "<Figure size 432x288 with 1 Axes>"
      ]
     },
     "metadata": {
      "needs_background": "light"
     },
     "output_type": "display_data"
    }
   ],
   "source": [
    "# First plot: Top 10 characters by word count\n",
    "# Hint: Try to use the integration of matplotlib and pandas to directly plot from a dataframe.\n",
    "\n",
    "top_characters_by_words.head(10).plot( x = \"raw_character_text\", y = [2], kind =\"bar\")\n"
   ]
  },
  {
   "cell_type": "code",
   "execution_count": 51,
   "metadata": {},
   "outputs": [
    {
     "data": {
      "text/plain": [
       "<AxesSubplot:xlabel='character_id,raw_character_text'>"
      ]
     },
     "execution_count": 51,
     "metadata": {},
     "output_type": "execute_result"
    },
    {
     "data": {
      "image/png": "[encoded data removed]",
      "text/plain": [
       "<Figure size 432x288 with 1 Axes>"
      ]
     },
     "metadata": {
      "needs_background": "light"
     },
     "output_type": "display_data"
    }
   ],
   "source": [
    "# Second plot: Top 10 characters by lines\n",
    "\n",
    "top_characters_by_lines.head(10).plot( x = \"raw_character_text\", y = [2], kind =\"bar\")"
   ]
  },
  {
   "cell_type": "markdown",
   "metadata": {},
   "source": [
    "Compare the results of the two plots: What do you notice? Do the results look correct to you?\n",
    "\n",
    "Homer Simpsons seems to say less words in a lot more lines than the other main characters. This is likely due to his character being prone to onelines like \"doh!\" and all around him being portrayed as less inteligent. This phenomenon can also be seen when comparing Marge Simpson to Bart Simpson. Marge has about the same amount of lines as bart while using six times the words Bart uses in his lines. This seems unusual. \n",
    "\n",
    "There is an error in the Data suggesting that ABBA and Robert Pinsky have a majority of words in the show. This is likely due to data quality problems, as they are not major characters."
   ]
  },
  {
   "cell_type": "markdown",
   "metadata": {},
   "source": [
    "### 3. Common Words (3 points)\n",
    "\n",
    "We continue by examining the dialogues in more detail, by looking at the top 20 most commonly appearing words (tokens).\n",
    "\n",
    "To generate a meaningful output, use the following pre-processing pipeline, parts of which were explained in more detail during the tutorials and the lecture:\n",
    "- Use spaCy (`en_core_web_sm`) to process all text.\n",
    "- Instead of considering the raw text, use the lemmatized token provided by spaCy.\n",
    "- Additionally, ignore any token that is classified as punctuation by spaCy.\n",
    "- Also skip any token which is classified as a stop word by spaCy."
   ]
  },
  {
   "cell_type": "code",
   "execution_count": 14,
   "metadata": {},
   "outputs": [
    {
     "ename": "SyntaxError",
     "evalue": "invalid syntax (4292105624.py, line 2)",
     "output_type": "error",
     "traceback": [
      "\u001b[0;36m  Input \u001b[0;32mIn [14]\u001b[0;36m\u001b[0m\n\u001b[0;31m    nlp = spacy.###Your code here\u001b[0m\n\u001b[0m                ^\u001b[0m\n\u001b[0;31mSyntaxError\u001b[0m\u001b[0;31m:\u001b[0m invalid syntax\n"
     ]
    }
   ],
   "source": [
    "# Load the spacy model specified above. Make sure to disable the \"ner\" component for more speed.\n",
    "nlp = spacy.###Your code here\n",
    "\n",
    "word_list =[]\n",
    "\n",
    "# Iterate over the spoken words (Hint: df_script) and append the lemmatized tokens as detailed above\n",
    "### Your code here\n",
    "\n",
    "\n",
    "word_counter = Counter(word_list)\n",
    "counter.most_common(20)"
   ]
  },
  {
   "cell_type": "markdown",
   "metadata": {},
   "source": [
    "Now plot a graph with the top 20 words on the x-axis and their respective frequencies on the y-axis, similar to the previous question."
   ]
  },
  {
   "cell_type": "code",
   "execution_count": 16,
   "metadata": {},
   "outputs": [],
   "source": [
    "# Provide a plot of the frequencies of the most common 20 words."
   ]
  },
  {
   "cell_type": "markdown",
   "metadata": {},
   "source": [
    "### 4. Named Entity Wordcloud (2 points)\n",
    "\n",
    "Apply named entity recognition (NER) using SpaCy and generate a word cloud of the most commonly appearing 50\n",
    "named entities that have the type `PERSON`. Visualize the resulting entities in a word cloud.\n",
    "Take into account that you cannot simply use the \n",
    "output of the previous task, since NER was explicitly disabled.\n",
    " Since the named entity recognition takes quite some time, use only the first `10000` scripts."
   ]
  },
  {
   "cell_type": "code",
   "execution_count": null,
   "metadata": {},
   "outputs": [],
   "source": [
    "# Load the English spacy model again, but this time do not disable the NER module.\n",
    "nlp = ### Your code\n",
    "\n",
    "# Extract named entities of the type \"PERSON\" from each script.\n",
    "for script in df_script.spoken_words.tolist()[:10000]:\n",
    "    ### Your code"
   ]
  },
  {
   "cell_type": "markdown",
   "metadata": {},
   "source": [
    "To visualize the word cloud, you may use the `wordcloud` package, which works in combination with `matplotlib`. Make sure to limit the number of visible words to 50, and the maximum font size to 60."
   ]
  },
  {
   "cell_type": "code",
   "execution_count": null,
   "metadata": {},
   "outputs": [],
   "source": [
    "# Create matplotlib skeleton for word cloud figure\n",
    "fig = plt.figure(1, figsize=(12,12))\n",
    "plt.axes(\"off\")\n",
    "\n",
    "cloud = ### Your code\n",
    "\n",
    "plt.imshow(cloud, interpolation=\"bilinear\")"
   ]
  },
  {
   "cell_type": "markdown",
   "metadata": {},
   "source": [
    "### 5. Normalized Word Importance with TF-IDF (6 points)\n",
    "\n",
    "The top words so far seem not too informative. We wish to find out the importance of particular words for specific characters, by looking at normalized frequency counts.\n",
    "As an example, we expect the younger Simpson family members to exhibit a disproportionate frequency for the word \"mom\" or \"dad\", compared to other characters.\n",
    "\n",
    "We looked at the normalization through Term Frequency - Inverse Document Frequency (TF-IDF) in the lecture, which we will use here to investigate lines by `Lisa Simpson` and `Bart Simpson`.\n",
    "\n",
    "In this case, each script line is a document for a certain character who spoke the words.\n",
    "Use `CountVectorizer` and `TfidfTransformers` from the `scikit-learn` library. In addition, filter out stop words and words with a frequency of less than 5 occurrences from the analysis. Then plot the TF-IDF values for the top 10 words for Lisa and Bart as bar plots."
   ]
  },
  {
   "cell_type": "code",
   "execution_count": null,
   "metadata": {},
   "outputs": [],
   "source": [
    "from sklearn.feature_extraction.text import CountVectorizer\n",
    "from sklearn.feature_extraction.text import TfidfTransformer\n",
    "\n",
    "### Your code"
   ]
  },
  {
   "cell_type": "code",
   "execution_count": null,
   "metadata": {},
   "outputs": [],
   "source": [
    "# Plot the top 10 occurrences, weighted by TF-IDF."
   ]
  },
  {
   "cell_type": "markdown",
   "metadata": {},
   "source": [
    "Do your results look correct?"
   ]
  },
  {
   "cell_type": "markdown",
   "metadata": {},
   "source": [
    "### Your answer here"
   ]
  },
  {
   "cell_type": "markdown",
   "metadata": {},
   "source": [
    "By using `CountVectorizer` over the concatenation of all character-specific lines, we can then also compute a (non-normalized) document similarity between the lines of Lisa and Bart. Use cosine similarity over the two document vectors to compare the similarity.\n",
    "\n",
    "For the `CountVectorizer`, use the same arguments as before (minimum 5 occurrences and no stop words)."
   ]
  },
  {
   "cell_type": "code",
   "execution_count": 18,
   "metadata": {},
   "outputs": [],
   "source": [
    "from sklearn.metrics.pairwise import cosine_similarity\n",
    "\n",
    "### Your code"
   ]
  },
  {
   "cell_type": "markdown",
   "metadata": {},
   "source": [
    "### 6. NNMF Topics (5 points)\n",
    "\n",
    "Uncover interesting topics by using non-negative matrix factorization (NNMF or NMF).\n",
    "\n",
    "Use the `NMF` implementation from `sklearn` to detect the topics in the scripts, and use text cleaning steps similar to the first task. However, this time perform no lemmatization:\n",
    "- Use spaCy (`en_core_web_sm`) to process all text.\n",
    "- Additionally, ignore any token that is classified as punctuation by spaCy.\n",
    "- Also skip any token which is classified as a stop word by spaCy.\n",
    "\n",
    "Set the `max_features` of `CountVectorizer` to 10,000 and `random_state` of the `NMF` to 42, and `n_components=10`."
   ]
  },
  {
   "cell_type": "code",
   "execution_count": 20,
   "metadata": {},
   "outputs": [],
   "source": [
    "from sklearn.decomposition import NMF "
   ]
  },
  {
   "cell_type": "code",
   "execution_count": null,
   "metadata": {},
   "outputs": [],
   "source": [
    "# Clean the documents according to the specifications"
   ]
  },
  {
   "cell_type": "code",
   "execution_count": null,
   "metadata": {},
   "outputs": [],
   "source": [
    "# Apply the NNMF method as specified above"
   ]
  },
  {
   "cell_type": "code",
   "execution_count": 22,
   "metadata": {},
   "outputs": [],
   "source": [
    "def show_topics(components,num_top_words,vocab):\n",
    "    #for each component or topic sorts the row values from large to small and \n",
    "    # returns the top words as the representation of the topic.\n",
    "    top_words = lambda t: [vocab[i] for i in np.argsort(t)[:-num_top_words-1:-1]]\n",
    "    topic_words = ([top_words(t) for t in components])\n",
    "    return [' '.join(t) for t in topic_words]"
   ]
  },
  {
   "cell_type": "markdown",
   "metadata": {},
   "source": [
    "Use the `show_topics` method to show the top-20 words for the top 2 topics."
   ]
  },
  {
   "cell_type": "code",
   "execution_count": null,
   "metadata": {},
   "outputs": [],
   "source": [
    "### Your code"
   ]
  },
  {
   "cell_type": "markdown",
   "metadata": {},
   "source": [
    "## Question 2-2: Boosting results in Elasticsearch (1 + 9 + 2 = 12 points)\n",
    "\n",
    "Before you start, make sure to download the file `test_data.json`, available on [Moodle](https://moodle.uni-heidelberg.de/pluginfile.php/1006481/mod_label/intro/test-data.json). This question assumes you have a running installation of Elasticsearch 7.X on your machine. If not, make sure to follow the steps detailed in the first tutorial to set up an instance. To complete the following questions, you will have to adjust the given URLs with your own settings. Look out for mentions of `<login>`, `<password>` and `<port>` and replace them accordingly."
   ]
  },
  {
   "cell_type": "markdown",
   "metadata": {},
   "source": [
    "Bulk load the content of `test_data.json` into an index called `dishes`. You may use the following shell command:\n",
    "\n",
    "```bash\n",
    "curl -u <login>:<password> -H \"Content-Type:application/x-ndjson\" -XPOST http://localhost:<port>/dishes/_bulk --data-binary \"@test_data.json\"\n",
    "```\n",
    "1. Provide a command to extract the dynamic mapping that is created in this scenario. Make sure that the output mapping is included in your solution (potentially pasting it into another cell or execute through the )."
   ]
  },
  {
   "cell_type": "markdown",
   "metadata": {},
   "source": [
    "### Insert your answer here\n",
    "Hint: Consider using the option `?pretty` for legible outputs"
   ]
  },
  {
   "cell_type": "markdown",
   "metadata": {},
   "source": [
    "2. Write queries to the `dishes` index given the specified criteria. The matching documents should be included in your solution, including their respective scores."
   ]
  },
  {
   "cell_type": "markdown",
   "metadata": {},
   "source": [
    "a) Return all dishes that have a preparation time of less than 15 minutes"
   ]
  },
  {
   "cell_type": "markdown",
   "metadata": {},
   "source": [
    "### Insert your answer here"
   ]
  },
  {
   "cell_type": "markdown",
   "metadata": {},
   "source": [
    "b) All dishes that contain `spaghetti` in the title."
   ]
  },
  {
   "cell_type": "markdown",
   "metadata": {},
   "source": [
    "### Insert your answer here"
   ]
  },
  {
   "cell_type": "markdown",
   "metadata": {},
   "source": [
    "c) All dishes that received at least one 5-star rating and were created after 2016."
   ]
  },
  {
   "cell_type": "markdown",
   "metadata": {},
   "source": [
    "### Insert your answer here"
   ]
  },
  {
   "cell_type": "markdown",
   "metadata": {},
   "source": [
    "d) Dishes that serve between 6 to 8 people."
   ]
  },
  {
   "cell_type": "markdown",
   "metadata": {},
   "source": [
    "### Insert your answer here"
   ]
  },
  {
   "cell_type": "markdown",
   "metadata": {},
   "source": [
    "e) Dishes that mention both of the phrases \"pasta\" and \"parmigiano\" in the instructions."
   ]
  },
  {
   "cell_type": "markdown",
   "metadata": {},
   "source": [
    "### Insert your answer here"
   ]
  },
  {
   "cell_type": "markdown",
   "metadata": {},
   "source": [
    "f) All recipes that require more than 10 ingredients"
   ]
  },
  {
   "cell_type": "markdown",
   "metadata": {},
   "source": [
    "### Insert your answer here"
   ]
  },
  {
   "cell_type": "markdown",
   "metadata": {},
   "source": [
    "g) Extend your query from b), such that it searches for `spaghetti` in both the title *and* description field. Occurrences in the title field should be boosted by a factor of 3."
   ]
  },
  {
   "cell_type": "markdown",
   "metadata": {},
   "source": [
    "### Insert your answer here"
   ]
  },
  {
   "cell_type": "markdown",
   "metadata": {},
   "source": [
    "3. The default analyzer might not be perfect for working with recipe data. Provide the definition of a custom analyzer which adheres to the following specifications:\n",
    "   \n",
    "   - It performs *no* stop word filtering.\n",
    "   - It applies stemming to all tokens.\n",
    "   - It does *not* lowercase tokens, but keeps the original case of letters."
   ]
  },
  {
   "cell_type": "markdown",
   "metadata": {},
   "source": [
    "### Insert your answer here"
   ]
  },
  {
   "cell_type": "markdown",
   "metadata": {},
   "source": [
    "## Question 2-3: Document Representations (2 + 2 + 3 = 7 points)\n",
    "\n",
    "Please fill out the answers directly in the provided fields."
   ]
  },
  {
   "cell_type": "markdown",
   "metadata": {},
   "source": [
    "#### a) Why is it preferable to use cosine distance over Euclidean distance when computing document similarity?"
   ]
  },
  {
   "cell_type": "markdown",
   "metadata": {},
   "source": [
    "Answer:\n",
    "\n",
    "The Euclidean distance is equal to the L2 norm of the difference between two vectors.\n",
    "\n",
    "$$\\left\\| x-y \\right\\|_2 = \\sqrt{\\sum_{i=1}^{n}(x_i - y_i)^2}$$\n",
    "\n",
    "The cosine similarity on the other hand is equal to the dot product diveded by the product of magnitutes\n",
    "\n",
    "$$\\cos(\\theta) = \\frac{x \\cdot y}{\\left\\| x\\right\\| \\cdot \\left\\| y \\right\\|}$$\n",
    "\n",
    "Since when computing document vectors the vector lenght is influenced by the lenght of the document it also influences the euclidean distance, which is not desible since we are normally interested in the similarity based on topics not document lenght when comparing documents. Therfore cosine similarity is a better choice.\n",
    "\n",
    "A good example for this is that the similarity between an abstract â of a text A and the full text A should be rather high. But the Euclidean distance would be rather large since the word vector is basically â + the rest of A for the full text (the abstract is contained in the full text) vs. â, while the cosine similarity is really small since both vectors point in the same direction."
   ]
  },
  {
   "cell_type": "markdown",
   "metadata": {},
   "source": [
    "#### b) Identify two shortcomings of Bag-of-Word-based document representations"
   ]
  },
  {
   "cell_type": "markdown",
   "metadata": {},
   "source": [
    "Answer:\n",
    "\n",
    "1. The vectors are rather sparse resulting in large sparse matrices, but there are techniques to effectivly work with sparse matrices.\n",
    "\n",
    "2. The semantic relation between words as well as their order is lost. Both are useful for problems like predicting the next word in a sentence or similar. BoW-models lose this information an can not be used in a use-case that requires this information\n",
    "\n",
    "3. The high-dimensionality equal to the vocabulary size is a clear disadvantage. This problem is known as the course of dimensionality and has to be dealt with in some shape or form. The problem occurs since naivly every unique word that occurs in the text also occurs in the bag-of-words model, which easily leads to overfitting.\n",
    "This can be dealt with up to a certain point by:\n",
    "* Ignoring case, punctuation, stop-words, miss-spellings\n",
    "* Stemming or Lemmatization\n",
    "* Other dimensionality reduction on the resulting vector itself (e.g. pca) <br/>\n",
    "(These techniques have short comings on there own, since you lose information through these reductions. So which to use is use-case specific)\n",
    "\n",
    "\n",
    "\n"
   ]
  },
  {
   "cell_type": "markdown",
   "metadata": {},
   "source": [
    "#### c) Find the singular value decomposition of the following matrix:\n",
    "\n",
    "$A = \\left[ \\begin{matrix}1&-1\\\\ -2&2\\\\ 2&-2\\end{matrix} \\right]$.\n"
   ]
  },
  {
   "cell_type": "markdown",
   "metadata": {},
   "source": [
    "Answer:"
   ]
  },
  {
   "cell_type": "markdown",
   "metadata": {},
   "source": [
    "0. A = U $\\sum$ V*\n",
    "1. Calculate U from $AA^T$\n",
    "\n",
    "$$\n",
    "\\begin{bmatrix}\n",
    "1 & -1\\\\ \n",
    "-2 & 2\\\\ \n",
    "2 & -2\n",
    "\\end{bmatrix} \n",
    "\\begin{bmatrix}\n",
    "1 &  -2 & 2\\\\ \n",
    "-1 &  2 & -2\n",
    "\\end{bmatrix}\n",
    "=\n",
    "\\begin{bmatrix}\n",
    "2 & -4 & 4\\\\ \n",
    "-4 & 8 & -8\\\\ \n",
    "4 & -8 & 8\n",
    "\\end{bmatrix}\n",
    "$$\n",
    "\n",
    "2. Calculate V from $A^TA$\n",
    "$$\n",
    "\\begin{bmatrix}\n",
    "1 &  -2 & 2\\\\ \n",
    "-1 &  2 & -2\n",
    "\\end{bmatrix}\n",
    "\\begin{bmatrix}\n",
    "1 & -1\\\\ \n",
    "-2 & 2\\\\ \n",
    "2 & -2\n",
    "\\end{bmatrix} \n",
    "=\n",
    "\\begin{bmatrix}\n",
    "9 & -9 \\\\\n",
    "-9 & 9\n",
    "\\end{bmatrix}\n",
    "$$\n",
    "\n",
    "\n",
    "The eigenvalue is $\\lambda = 0$ or $\\lambda = 18$\n",
    "\n",
    "$x$ since $x_1 = x_2$\n",
    "\n",
    "For $\\lambda = 18$ the eigenvector comes out on $X = \\begin{pmatrix}\n",
    "-x\\\\ \n",
    "x\n",
    "\\end{pmatrix}$ \n",
    "\n",
    "For $\\lambda = 0$ the eigenvector comes out on $X = \\begin{pmatrix}\n",
    "x\\\\ \n",
    "x\n",
    "\\end{pmatrix}$ \n",
    "\n",
    "$v_1 = \\begin{pmatrix}\n",
    "\\frac{-\\sqrt{2}}{2}\\\\ \n",
    "\\frac{\\sqrt{2}}{2}\n",
    "\\end{pmatrix}, \\sigma_1 = \\sqrt{18}\n",
    "$\n",
    "\n",
    "$v_2 = \\begin{pmatrix}\n",
    "\\frac{\\sqrt{2}}{2}\\\\ \n",
    "\\frac{\\sqrt{2}}{2}\n",
    "\\end{pmatrix}, \\sigma_1 = \\sqrt{0} = 0\n",
    "$\n",
    "\n",
    "$V = \\begin{pmatrix}\n",
    "\\frac{-\\sqrt{2}}{2} & \\frac{\\sqrt{2}}{2}\\\\ \n",
    "\\frac{\\sqrt{2}}{2} & \\frac{\\sqrt{2}}{2}\n",
    "\\end{pmatrix}$\n",
    "\n",
    "3. Construct $\\sum$ from sqr root of eigenvalues\n",
    "\n",
    "$\\sum = \\begin{pmatrix}\n",
    "\\sqrt{18} & 0\\\\ \n",
    "0& 0\\\\\n",
    "0&0\n",
    "\\end{pmatrix}$\n",
    "\n",
    "4. Find coloumn vectors for U: $A = U\\sum V^T$\n",
    "\n",
    "Multiply both sides with V ($V*V^T = I$)\n",
    "$$AV = U\\sum$$\n",
    "\n",
    "which reduces to $u_i = \\frac{A_{v_i}}{\\sigma_i}$\n",
    "\n",
    "$$\n",
    "u_1 = \\begin{pmatrix}\n",
    "\\frac{-1}{3} \\\\ \n",
    "\\frac{2}{3} \\\\ \n",
    "\\frac{-2}{3} \\\\ \n",
    "\\end{pmatrix}\n",
    "$$\n",
    "\n",
    "$$\n",
    "u_2 = \\begin{pmatrix}\n",
    "\\frac{2\\sqrt{5}}{5} \\\\ \n",
    "\\frac{\\sqrt{5}}{5} \\\\ \n",
    "0 \\\\ \n",
    "\\end{pmatrix}\n",
    "$$\n",
    "\n",
    "$$\n",
    "u_3 = \\begin{pmatrix}\n",
    "\\frac{-2\\sqrt{5}}{15} \\\\ \n",
    "\\frac{4\\sqrt{5}}{15} \\\\ \n",
    "\\frac{\\sqrt{5}}{3} \\\\ \n",
    "\\end{pmatrix}\n",
    "$$\n",
    "\n",
    "Together resulting in the matrix U\n",
    "\n",
    "$$\n",
    "\\begin{matrix}\n",
    "\\frac{-1}{3} & \\frac{2\\sqrt{5}}{5} & \\frac{-2\\sqrt{5}}{15} \\\\ \n",
    "\\frac{2}{3} & \\frac{\\sqrt{5}}{5} & \\frac{4\\sqrt{5}}{15} \\\\ \n",
    "\\frac{-2}{3} & 0 & \\frac{\\sqrt{5}}{3} \\\\ \n",
    "\\end{matrix}\n",
    "$$\n",
    "\n",
    "5. Final results\n",
    "\n",
    "$V = \\begin{pmatrix}\n",
    "\\frac{-\\sqrt{2}}{2} & \\frac{\\sqrt{2}}{2}\\\\ \n",
    "\\frac{\\sqrt{2}}{2} & \\frac{\\sqrt{2}}{2}\n",
    "\\end{pmatrix}$\n",
    "\n",
    "$U = \\begin{pmatrix}\n",
    "\\frac{-1}{3} & \\frac{2\\sqrt{5}}{5} & \\frac{-2\\sqrt{5}}{15} \\\\ \n",
    "\\frac{2}{3} & \\frac{\\sqrt{5}}{5} & \\frac{4\\sqrt{5}}{15} \\\\ \n",
    "\\frac{-2}{3} & 0 & \\frac{\\sqrt{5}}{3} \\\\ \n",
    "\\end{pmatrix}$\n",
    "\n",
    "$\n",
    "\\sum = \\begin{pmatrix}\n",
    "\\sqrt{18} & 0\\\\ \n",
    "0& 0\\\\\n",
    "0&0\n",
    "\\end{pmatrix}\n",
    "$\n"
   ]
  }
 ],
 "metadata": {
  "kernelspec": {
   "display_name": "Python 3.10.8 64-bit ('dsta')",
   "language": "python",
   "name": "python3"
  },
  "language_info": {
   "codemirror_mode": {
    "name": "ipython",
    "version": 3
   },
   "file_extension": ".py",
   "mimetype": "text/x-python",
   "name": "python",
   "nbconvert_exporter": "python",
   "pygments_lexer": "ipython3",
   "version": "3.10.8"
  },
  "orig_nbformat": 4,
  "vscode": {
   "interpreter": {
    "hash": "6e61ff539143526b4f4e065d6f0111a66043a64fa34bf9593429d1dc59e516aa"
   }
  }
 },
 "nbformat": 4,
 "nbformat_minor": 2
}
