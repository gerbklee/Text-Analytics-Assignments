{
 "cells": [
  {
   "cell_type": "markdown",
   "metadata": {},
   "source": [
    "# Assignment 2: Elasticsearch and Text Mining\n",
    "\n",
    "Due: Monday, December 12, 2022, at 2pm via Moodle\n",
    "\n",
    "**Team Members** `<Fill out>`"
   ]
  },
  {
   "cell_type": "markdown",
   "metadata": {},
   "source": [
    "### Submission Guidelines\n",
    "\n",
    "- Solutions need to be uploaded as a single Jupyter notebook. You will find this notebook contains some pre-filled cells that you should complete for the individual tasks.\n",
    "- For answers requiring written solutions, use Markdown cells (in combination with Jupyter LaTeX support) **inside this notebook**. Do *not* hand in any separate files, simply re-upload the `.ipynb` file.\n",
    "- Download the .zip file containing the dataset but do *not* upload it with your solution.\n",
    "- Make sure that the names of all team members are present in the solution."
   ]
  },
  {
   "cell_type": "code",
   "execution_count": 2,
   "metadata": {},
   "outputs": [
    {
     "ename": "CalledProcessError",
     "evalue": "Command 'b'. ~/.bashrc\\npython3 -m pip install -r requirements.txt\\n# Install necessary packages\\n'' returned non-zero exit status 1.",
     "output_type": "error",
     "traceback": [
      "\u001b[1;31m---------------------------------------------------------------------------\u001b[0m",
      "\u001b[1;31mCalledProcessError\u001b[0m                        Traceback (most recent call last)",
      "\u001b[1;32md:\\Uni Heidelberg\\3.Semester\\Text-Analytics-Assignments\\Assignment 2\\DSTA_assignment_2.ipynb Zelle 3\u001b[0m in \u001b[0;36m<cell line: 1>\u001b[1;34m()\u001b[0m\n\u001b[1;32m----> <a href='vscode-notebook-cell:/d%3A/Uni%20Heidelberg/3.Semester/Text-Analytics-Assignments/Assignment%202/DSTA_assignment_2.ipynb#W2sZmlsZQ%3D%3D?line=0'>1</a>\u001b[0m get_ipython()\u001b[39m.\u001b[39;49mrun_cell_magic(\u001b[39m'\u001b[39;49m\u001b[39mbash\u001b[39;49m\u001b[39m'\u001b[39;49m, \u001b[39m'\u001b[39;49m\u001b[39m'\u001b[39;49m, \u001b[39m'\u001b[39;49m\u001b[39m. ~/.bashrc\u001b[39;49m\u001b[39m\\n\u001b[39;49;00m\u001b[39mpython3 -m pip install -r requirements.txt\u001b[39;49m\u001b[39m\\n\u001b[39;49;00m\u001b[39m# Install necessary packages\u001b[39;49m\u001b[39m\\n\u001b[39;49;00m\u001b[39m'\u001b[39;49m)\n",
      "File \u001b[1;32mc:\\Users\\gerbk\\anaconda3\\envs\\AML_bidde\\lib\\site-packages\\IPython\\core\\interactiveshell.py:2357\u001b[0m, in \u001b[0;36mInteractiveShell.run_cell_magic\u001b[1;34m(self, magic_name, line, cell)\u001b[0m\n\u001b[0;32m   2355\u001b[0m \u001b[39mwith\u001b[39;00m \u001b[39mself\u001b[39m\u001b[39m.\u001b[39mbuiltin_trap:\n\u001b[0;32m   2356\u001b[0m     args \u001b[39m=\u001b[39m (magic_arg_s, cell)\n\u001b[1;32m-> 2357\u001b[0m     result \u001b[39m=\u001b[39m fn(\u001b[39m*\u001b[39margs, \u001b[39m*\u001b[39m\u001b[39m*\u001b[39mkwargs)\n\u001b[0;32m   2358\u001b[0m \u001b[39mreturn\u001b[39;00m result\n",
      "File \u001b[1;32mc:\\Users\\gerbk\\anaconda3\\envs\\AML_bidde\\lib\\site-packages\\IPython\\core\\magics\\script.py:153\u001b[0m, in \u001b[0;36mScriptMagics._make_script_magic.<locals>.named_script_magic\u001b[1;34m(line, cell)\u001b[0m\n\u001b[0;32m    151\u001b[0m \u001b[39melse\u001b[39;00m:\n\u001b[0;32m    152\u001b[0m     line \u001b[39m=\u001b[39m script\n\u001b[1;32m--> 153\u001b[0m \u001b[39mreturn\u001b[39;00m \u001b[39mself\u001b[39;49m\u001b[39m.\u001b[39;49mshebang(line, cell)\n",
      "File \u001b[1;32mc:\\Users\\gerbk\\anaconda3\\envs\\AML_bidde\\lib\\site-packages\\IPython\\core\\magics\\script.py:305\u001b[0m, in \u001b[0;36mScriptMagics.shebang\u001b[1;34m(self, line, cell)\u001b[0m\n\u001b[0;32m    300\u001b[0m \u001b[39mif\u001b[39;00m args\u001b[39m.\u001b[39mraise_error \u001b[39mand\u001b[39;00m p\u001b[39m.\u001b[39mreturncode \u001b[39m!=\u001b[39m \u001b[39m0\u001b[39m:\n\u001b[0;32m    301\u001b[0m     \u001b[39m# If we get here and p.returncode is still None, we must have\u001b[39;00m\n\u001b[0;32m    302\u001b[0m     \u001b[39m# killed it but not yet seen its return code. We don't wait for it,\u001b[39;00m\n\u001b[0;32m    303\u001b[0m     \u001b[39m# in case it's stuck in uninterruptible sleep. -9 = SIGKILL\u001b[39;00m\n\u001b[0;32m    304\u001b[0m     rc \u001b[39m=\u001b[39m p\u001b[39m.\u001b[39mreturncode \u001b[39mor\u001b[39;00m \u001b[39m-\u001b[39m\u001b[39m9\u001b[39m\n\u001b[1;32m--> 305\u001b[0m     \u001b[39mraise\u001b[39;00m CalledProcessError(rc, cell)\n",
      "\u001b[1;31mCalledProcessError\u001b[0m: Command 'b'. ~/.bashrc\\npython3 -m pip install -r requirements.txt\\n# Install necessary packages\\n'' returned non-zero exit status 1."
     ]
    }
   ],
   "source": [
    "%%bash\n",
    ". ~/.bashrc\n",
    "python3 -m pip install -r requirements.txt\n",
    "# Install necessary packages"
   ]
  },
  {
   "cell_type": "code",
   "execution_count": 4,
   "metadata": {},
   "outputs": [
    {
     "ename": "CalledProcessError",
     "evalue": "Command 'b'./ ~/.bashrc\\npython3 -m spacy download en_core_web_sm\\n# Install required language model for spaCy\\n'' returned non-zero exit status 1.",
     "output_type": "error",
     "traceback": [
      "\u001b[1;31m---------------------------------------------------------------------------\u001b[0m",
      "\u001b[1;31mCalledProcessError\u001b[0m                        Traceback (most recent call last)",
      "\u001b[1;32md:\\Uni Heidelberg\\3.Semester\\Text-Analytics-Assignments\\Assignment 2\\DSTA_assignment_2.ipynb Zelle 4\u001b[0m in \u001b[0;36m<cell line: 1>\u001b[1;34m()\u001b[0m\n\u001b[1;32m----> <a href='vscode-notebook-cell:/d%3A/Uni%20Heidelberg/3.Semester/Text-Analytics-Assignments/Assignment%202/DSTA_assignment_2.ipynb#W3sZmlsZQ%3D%3D?line=0'>1</a>\u001b[0m get_ipython()\u001b[39m.\u001b[39;49mrun_cell_magic(\u001b[39m'\u001b[39;49m\u001b[39mbash\u001b[39;49m\u001b[39m'\u001b[39;49m, \u001b[39m'\u001b[39;49m\u001b[39m'\u001b[39;49m, \u001b[39m'\u001b[39;49m\u001b[39m./ ~/.bashrc\u001b[39;49m\u001b[39m\\n\u001b[39;49;00m\u001b[39mpython3 -m spacy download en_core_web_sm\u001b[39;49m\u001b[39m\\n\u001b[39;49;00m\u001b[39m# Install required language model for spaCy\u001b[39;49m\u001b[39m\\n\u001b[39;49;00m\u001b[39m'\u001b[39;49m)\n",
      "File \u001b[1;32mc:\\Users\\gerbk\\anaconda3\\envs\\AML_bidde\\lib\\site-packages\\IPython\\core\\interactiveshell.py:2357\u001b[0m, in \u001b[0;36mInteractiveShell.run_cell_magic\u001b[1;34m(self, magic_name, line, cell)\u001b[0m\n\u001b[0;32m   2355\u001b[0m \u001b[39mwith\u001b[39;00m \u001b[39mself\u001b[39m\u001b[39m.\u001b[39mbuiltin_trap:\n\u001b[0;32m   2356\u001b[0m     args \u001b[39m=\u001b[39m (magic_arg_s, cell)\n\u001b[1;32m-> 2357\u001b[0m     result \u001b[39m=\u001b[39m fn(\u001b[39m*\u001b[39margs, \u001b[39m*\u001b[39m\u001b[39m*\u001b[39mkwargs)\n\u001b[0;32m   2358\u001b[0m \u001b[39mreturn\u001b[39;00m result\n",
      "File \u001b[1;32mc:\\Users\\gerbk\\anaconda3\\envs\\AML_bidde\\lib\\site-packages\\IPython\\core\\magics\\script.py:153\u001b[0m, in \u001b[0;36mScriptMagics._make_script_magic.<locals>.named_script_magic\u001b[1;34m(line, cell)\u001b[0m\n\u001b[0;32m    151\u001b[0m \u001b[39melse\u001b[39;00m:\n\u001b[0;32m    152\u001b[0m     line \u001b[39m=\u001b[39m script\n\u001b[1;32m--> 153\u001b[0m \u001b[39mreturn\u001b[39;00m \u001b[39mself\u001b[39;49m\u001b[39m.\u001b[39;49mshebang(line, cell)\n",
      "File \u001b[1;32mc:\\Users\\gerbk\\anaconda3\\envs\\AML_bidde\\lib\\site-packages\\IPython\\core\\magics\\script.py:305\u001b[0m, in \u001b[0;36mScriptMagics.shebang\u001b[1;34m(self, line, cell)\u001b[0m\n\u001b[0;32m    300\u001b[0m \u001b[39mif\u001b[39;00m args\u001b[39m.\u001b[39mraise_error \u001b[39mand\u001b[39;00m p\u001b[39m.\u001b[39mreturncode \u001b[39m!=\u001b[39m \u001b[39m0\u001b[39m:\n\u001b[0;32m    301\u001b[0m     \u001b[39m# If we get here and p.returncode is still None, we must have\u001b[39;00m\n\u001b[0;32m    302\u001b[0m     \u001b[39m# killed it but not yet seen its return code. We don't wait for it,\u001b[39;00m\n\u001b[0;32m    303\u001b[0m     \u001b[39m# in case it's stuck in uninterruptible sleep. -9 = SIGKILL\u001b[39;00m\n\u001b[0;32m    304\u001b[0m     rc \u001b[39m=\u001b[39m p\u001b[39m.\u001b[39mreturncode \u001b[39mor\u001b[39;00m \u001b[39m-\u001b[39m\u001b[39m9\u001b[39m\n\u001b[1;32m--> 305\u001b[0m     \u001b[39mraise\u001b[39;00m CalledProcessError(rc, cell)\n",
      "\u001b[1;31mCalledProcessError\u001b[0m: Command 'b'./ ~/.bashrc\\npython3 -m spacy download en_core_web_sm\\n# Install required language model for spaCy\\n'' returned non-zero exit status 1."
     ]
    }
   ],
   "source": [
    "%%bash\n",
    "./ ~/.bashrc\n",
    "python3 -m spacy download en_core_web_sm\n",
    "# Install required language model for spaCy"
   ]
  },
  {
   "cell_type": "markdown",
   "metadata": {},
   "source": [
    "\n",
    "## Question 2-1: \"The Simpsons\" Dataset (1 + 4 + 3 + 2 + 6 + 5 = 21 points)"
   ]
  },
  {
   "cell_type": "markdown",
   "metadata": {},
   "source": [
    "\"The Simpsons\" is the world’s longest-running animated sitcom. The show revolves around the lives of the Simpson family, which consists of Homer, Marge, Bart, Lisa, and the little Maggi.\n",
    "For this exercise, you will work with the dataset that contains characters, locations, episode details, and script lines for approximately 600 Simpsons episodes, dating back to 1989.\n",
    "We will explore the data and use visualizations to gain some insight into the show. The Zip file alongside this notebook should contain the following files:\n",
    "\n",
    "` simpsons_characters.csv, simpsons_locations.csv, simpsons_script_lines.csv, simpsons_episodes.csv`\n",
    "\n",
    "Take some time and familiarize yourself with the data. `simpsons_characters.csv` contains the character-names and their gender.\n",
    "`simpsons_locations.csv` contains information about locations in the shows, and `simpsons_episodes.csv` has information about each episode including their title, rating, and views.\n",
    "Finally, `simpsons_script_lines.csv` lists all the lines in the show, who said the line and where it was said. Be aware that this data set is not cleaned and, hence, includes faulty data as well as inconsistent data types."
   ]
  },
  {
   "cell_type": "code",
   "execution_count": 1,
   "metadata": {},
   "outputs": [],
   "source": [
    "# General imports\n",
    "import os\n",
    "\n",
    "import pandas as pd\n",
    "import numpy as np\n",
    "import spacy\n",
    "import matplotlib\n",
    "from wordcloud import WordCloud\n",
    "from matplotlib import pyplot as plt\n",
    "\n",
    "# Ensure matplotlib works correctly with Jupyter\n",
    "%matplotlib inline"
   ]
  },
  {
   "cell_type": "markdown",
   "metadata": {},
   "source": [
    "### 1. Data Loading (1 point)\n",
    "Load the four datasets in the respective variables using pandas, and make sure to set the type of the `character_id` to integer."
   ]
  },
  {
   "cell_type": "code",
   "execution_count": 160,
   "metadata": {},
   "outputs": [
    {
     "name": "stderr",
     "output_type": "stream",
     "text": [
      "C:\\Users\\gerbk\\AppData\\Local\\Temp\\ipykernel_17008\\1991298596.py:3: DtypeWarning: Columns (4,5,6) have mixed types. Specify dtype option on import or set low_memory=False.\n",
      "  df_script = pd.read_csv(\"data/simpsons_script_lines.csv\")\n"
     ]
    }
   ],
   "source": [
    "df_characters = pd.read_csv(\"data/simpsons_characters.csv\")\n",
    "df_locations = pd.read_csv(\"data/simpsons_locations.csv\")\n",
    "df_script = pd.read_csv(\"data/simpsons_script_lines.csv\")\n",
    "df_episodes = pd.read_csv(\"data/simpsons_episodes.csv\")"
   ]
  },
  {
   "cell_type": "markdown",
   "metadata": {},
   "source": [
    "Drop all lines associated with the (non-numeric) character ID `142024`."
   ]
  },
  {
   "cell_type": "code",
   "execution_count": 9,
   "metadata": {},
   "outputs": [],
   "source": [
    "df_script.drop(df_script[df_script.character_id == \"142024\"].index, inplace = True)\n"
   ]
  },
  {
   "cell_type": "markdown",
   "metadata": {},
   "source": [
    "Next, use panda's `.head()` function to inspect the top rows of each dataframe."
   ]
  },
  {
   "cell_type": "code",
   "execution_count": 6,
   "metadata": {},
   "outputs": [
    {
     "data": {
      "text/html": [
       "<div>\n",
       "<style scoped>\n",
       "    .dataframe tbody tr th:only-of-type {\n",
       "        vertical-align: middle;\n",
       "    }\n",
       "\n",
       "    .dataframe tbody tr th {\n",
       "        vertical-align: top;\n",
       "    }\n",
       "\n",
       "    .dataframe thead th {\n",
       "        text-align: right;\n",
       "    }\n",
       "</style>\n",
       "<table border=\"1\" class=\"dataframe\">\n",
       "  <thead>\n",
       "    <tr style=\"text-align: right;\">\n",
       "      <th></th>\n",
       "      <th>id</th>\n",
       "      <th>episode_id</th>\n",
       "      <th>number</th>\n",
       "      <th>raw_text</th>\n",
       "      <th>timestamp_in_ms</th>\n",
       "      <th>speaking_line</th>\n",
       "      <th>character_id</th>\n",
       "      <th>location_id</th>\n",
       "      <th>raw_character_text</th>\n",
       "      <th>raw_location_text</th>\n",
       "      <th>spoken_words</th>\n",
       "      <th>normalized_text</th>\n",
       "      <th>word_count</th>\n",
       "    </tr>\n",
       "  </thead>\n",
       "  <tbody>\n",
       "    <tr>\n",
       "      <th>0</th>\n",
       "      <td>9549</td>\n",
       "      <td>32</td>\n",
       "      <td>209</td>\n",
       "      <td>Miss Hoover: No, actually, it was a little of ...</td>\n",
       "      <td>848000</td>\n",
       "      <td>True</td>\n",
       "      <td>464</td>\n",
       "      <td>3.0</td>\n",
       "      <td>Miss Hoover</td>\n",
       "      <td>Springfield Elementary School</td>\n",
       "      <td>No, actually, it was a little of both. Sometim...</td>\n",
       "      <td>no actually it was a little of both sometimes ...</td>\n",
       "      <td>31.0</td>\n",
       "    </tr>\n",
       "    <tr>\n",
       "      <th>1</th>\n",
       "      <td>9550</td>\n",
       "      <td>32</td>\n",
       "      <td>210</td>\n",
       "      <td>Lisa Simpson: (NEAR TEARS) Where's Mr. Bergstrom?</td>\n",
       "      <td>856000</td>\n",
       "      <td>True</td>\n",
       "      <td>9</td>\n",
       "      <td>3.0</td>\n",
       "      <td>Lisa Simpson</td>\n",
       "      <td>Springfield Elementary School</td>\n",
       "      <td>Where's Mr. Bergstrom?</td>\n",
       "      <td>wheres mr bergstrom</td>\n",
       "      <td>3.0</td>\n",
       "    </tr>\n",
       "    <tr>\n",
       "      <th>2</th>\n",
       "      <td>9551</td>\n",
       "      <td>32</td>\n",
       "      <td>211</td>\n",
       "      <td>Miss Hoover: I don't know. Although I'd sure l...</td>\n",
       "      <td>856000</td>\n",
       "      <td>True</td>\n",
       "      <td>464</td>\n",
       "      <td>3.0</td>\n",
       "      <td>Miss Hoover</td>\n",
       "      <td>Springfield Elementary School</td>\n",
       "      <td>I don't know. Although I'd sure like to talk t...</td>\n",
       "      <td>i dont know although id sure like to talk to h...</td>\n",
       "      <td>22.0</td>\n",
       "    </tr>\n",
       "    <tr>\n",
       "      <th>3</th>\n",
       "      <td>9552</td>\n",
       "      <td>32</td>\n",
       "      <td>212</td>\n",
       "      <td>Lisa Simpson: That life is worth living.</td>\n",
       "      <td>864000</td>\n",
       "      <td>True</td>\n",
       "      <td>9</td>\n",
       "      <td>3.0</td>\n",
       "      <td>Lisa Simpson</td>\n",
       "      <td>Springfield Elementary School</td>\n",
       "      <td>That life is worth living.</td>\n",
       "      <td>that life is worth living</td>\n",
       "      <td>5.0</td>\n",
       "    </tr>\n",
       "    <tr>\n",
       "      <th>4</th>\n",
       "      <td>9553</td>\n",
       "      <td>32</td>\n",
       "      <td>213</td>\n",
       "      <td>Edna Krabappel-Flanders: The polls will be ope...</td>\n",
       "      <td>864000</td>\n",
       "      <td>True</td>\n",
       "      <td>40</td>\n",
       "      <td>3.0</td>\n",
       "      <td>Edna Krabappel-Flanders</td>\n",
       "      <td>Springfield Elementary School</td>\n",
       "      <td>The polls will be open from now until the end ...</td>\n",
       "      <td>the polls will be open from now until the end ...</td>\n",
       "      <td>33.0</td>\n",
       "    </tr>\n",
       "  </tbody>\n",
       "</table>\n",
       "</div>"
      ],
      "text/plain": [
       "     id  episode_id  number  \\\n",
       "0  9549          32     209   \n",
       "1  9550          32     210   \n",
       "2  9551          32     211   \n",
       "3  9552          32     212   \n",
       "4  9553          32     213   \n",
       "\n",
       "                                            raw_text timestamp_in_ms  \\\n",
       "0  Miss Hoover: No, actually, it was a little of ...          848000   \n",
       "1  Lisa Simpson: (NEAR TEARS) Where's Mr. Bergstrom?          856000   \n",
       "2  Miss Hoover: I don't know. Although I'd sure l...          856000   \n",
       "3           Lisa Simpson: That life is worth living.          864000   \n",
       "4  Edna Krabappel-Flanders: The polls will be ope...          864000   \n",
       "\n",
       "  speaking_line  character_id  location_id       raw_character_text  \\\n",
       "0          True           464          3.0              Miss Hoover   \n",
       "1          True             9          3.0             Lisa Simpson   \n",
       "2          True           464          3.0              Miss Hoover   \n",
       "3          True             9          3.0             Lisa Simpson   \n",
       "4          True            40          3.0  Edna Krabappel-Flanders   \n",
       "\n",
       "               raw_location_text  \\\n",
       "0  Springfield Elementary School   \n",
       "1  Springfield Elementary School   \n",
       "2  Springfield Elementary School   \n",
       "3  Springfield Elementary School   \n",
       "4  Springfield Elementary School   \n",
       "\n",
       "                                        spoken_words  \\\n",
       "0  No, actually, it was a little of both. Sometim...   \n",
       "1                             Where's Mr. Bergstrom?   \n",
       "2  I don't know. Although I'd sure like to talk t...   \n",
       "3                         That life is worth living.   \n",
       "4  The polls will be open from now until the end ...   \n",
       "\n",
       "                                     normalized_text  word_count  \n",
       "0  no actually it was a little of both sometimes ...        31.0  \n",
       "1                                wheres mr bergstrom         3.0  \n",
       "2  i dont know although id sure like to talk to h...        22.0  \n",
       "3                          that life is worth living         5.0  \n",
       "4  the polls will be open from now until the end ...        33.0  "
      ]
     },
     "execution_count": 6,
     "metadata": {},
     "output_type": "execute_result"
    }
   ],
   "source": [
    "df_characters.head()\n",
    "df_locations.head()\n",
    "df_episodes.head()\n",
    "df_script.head()"
   ]
  },
  {
   "cell_type": "markdown",
   "metadata": {},
   "source": [
    "### 2. Prominent Characters (4 points)\n",
    "\n",
    "Let us now take a look at the most important characters of the show. To start, retrieve the most prominent characters by the number of spoken words/lines throughout the show. \n",
    "\n",
    "Extract the top 10 characters based on the number of spoken words (word count), as well as the 10 most prominent characters regarding their sum total number of lines.\n",
    "\n",
    "You might notice that there is a column with `word_count` in the `df_scripts` data frame, but cleaning it up might be tricky. To find the sum of all values, first remove the `nan` entries and any other string characters in that column. You can use the provided `conv` function for this."
   ]
  },
  {
   "cell_type": "code",
   "execution_count": 19,
   "metadata": {},
   "outputs": [
    {
     "data": {
      "text/html": [
       "<div>\n",
       "<style scoped>\n",
       "    .dataframe tbody tr th:only-of-type {\n",
       "        vertical-align: middle;\n",
       "    }\n",
       "\n",
       "    .dataframe tbody tr th {\n",
       "        vertical-align: top;\n",
       "    }\n",
       "\n",
       "    .dataframe thead th {\n",
       "        text-align: right;\n",
       "    }\n",
       "</style>\n",
       "<table border=\"1\" class=\"dataframe\">\n",
       "  <thead>\n",
       "    <tr style=\"text-align: right;\">\n",
       "      <th></th>\n",
       "      <th>id</th>\n",
       "      <th>episode_id</th>\n",
       "      <th>number</th>\n",
       "      <th>raw_text</th>\n",
       "      <th>timestamp_in_ms</th>\n",
       "      <th>speaking_line</th>\n",
       "      <th>character_id</th>\n",
       "      <th>location_id</th>\n",
       "      <th>raw_character_text</th>\n",
       "      <th>raw_location_text</th>\n",
       "      <th>spoken_words</th>\n",
       "      <th>normalized_text</th>\n",
       "      <th>word_count</th>\n",
       "    </tr>\n",
       "  </thead>\n",
       "  <tbody>\n",
       "    <tr>\n",
       "      <th>0</th>\n",
       "      <td>9549</td>\n",
       "      <td>32</td>\n",
       "      <td>209</td>\n",
       "      <td>Miss Hoover: No, actually, it was a little of ...</td>\n",
       "      <td>848000</td>\n",
       "      <td>True</td>\n",
       "      <td>464</td>\n",
       "      <td>3.0</td>\n",
       "      <td>Miss Hoover</td>\n",
       "      <td>Springfield Elementary School</td>\n",
       "      <td>No, actually, it was a little of both. Sometim...</td>\n",
       "      <td>no actually it was a little of both sometimes ...</td>\n",
       "      <td>31</td>\n",
       "    </tr>\n",
       "    <tr>\n",
       "      <th>1</th>\n",
       "      <td>9550</td>\n",
       "      <td>32</td>\n",
       "      <td>210</td>\n",
       "      <td>Lisa Simpson: (NEAR TEARS) Where's Mr. Bergstrom?</td>\n",
       "      <td>856000</td>\n",
       "      <td>True</td>\n",
       "      <td>9</td>\n",
       "      <td>3.0</td>\n",
       "      <td>Lisa Simpson</td>\n",
       "      <td>Springfield Elementary School</td>\n",
       "      <td>Where's Mr. Bergstrom?</td>\n",
       "      <td>wheres mr bergstrom</td>\n",
       "      <td>3</td>\n",
       "    </tr>\n",
       "    <tr>\n",
       "      <th>2</th>\n",
       "      <td>9551</td>\n",
       "      <td>32</td>\n",
       "      <td>211</td>\n",
       "      <td>Miss Hoover: I don't know. Although I'd sure l...</td>\n",
       "      <td>856000</td>\n",
       "      <td>True</td>\n",
       "      <td>464</td>\n",
       "      <td>3.0</td>\n",
       "      <td>Miss Hoover</td>\n",
       "      <td>Springfield Elementary School</td>\n",
       "      <td>I don't know. Although I'd sure like to talk t...</td>\n",
       "      <td>i dont know although id sure like to talk to h...</td>\n",
       "      <td>22</td>\n",
       "    </tr>\n",
       "    <tr>\n",
       "      <th>3</th>\n",
       "      <td>9552</td>\n",
       "      <td>32</td>\n",
       "      <td>212</td>\n",
       "      <td>Lisa Simpson: That life is worth living.</td>\n",
       "      <td>864000</td>\n",
       "      <td>True</td>\n",
       "      <td>9</td>\n",
       "      <td>3.0</td>\n",
       "      <td>Lisa Simpson</td>\n",
       "      <td>Springfield Elementary School</td>\n",
       "      <td>That life is worth living.</td>\n",
       "      <td>that life is worth living</td>\n",
       "      <td>5</td>\n",
       "    </tr>\n",
       "    <tr>\n",
       "      <th>4</th>\n",
       "      <td>9553</td>\n",
       "      <td>32</td>\n",
       "      <td>213</td>\n",
       "      <td>Edna Krabappel-Flanders: The polls will be ope...</td>\n",
       "      <td>864000</td>\n",
       "      <td>True</td>\n",
       "      <td>40</td>\n",
       "      <td>3.0</td>\n",
       "      <td>Edna Krabappel-Flanders</td>\n",
       "      <td>Springfield Elementary School</td>\n",
       "      <td>The polls will be open from now until the end ...</td>\n",
       "      <td>the polls will be open from now until the end ...</td>\n",
       "      <td>33</td>\n",
       "    </tr>\n",
       "    <tr>\n",
       "      <th>5</th>\n",
       "      <td>9554</td>\n",
       "      <td>32</td>\n",
       "      <td>214</td>\n",
       "      <td>Martin Prince: (HOARSE WHISPER) I don't think ...</td>\n",
       "      <td>877000</td>\n",
       "      <td>True</td>\n",
       "      <td>38</td>\n",
       "      <td>3.0</td>\n",
       "      <td>Martin Prince</td>\n",
       "      <td>Springfield Elementary School</td>\n",
       "      <td>I don't think there's anything left to say.</td>\n",
       "      <td>i dont think theres anything left to say</td>\n",
       "      <td>8</td>\n",
       "    </tr>\n",
       "    <tr>\n",
       "      <th>6</th>\n",
       "      <td>9555</td>\n",
       "      <td>32</td>\n",
       "      <td>215</td>\n",
       "      <td>Edna Krabappel-Flanders: Bart?</td>\n",
       "      <td>881000</td>\n",
       "      <td>True</td>\n",
       "      <td>40</td>\n",
       "      <td>3.0</td>\n",
       "      <td>Edna Krabappel-Flanders</td>\n",
       "      <td>Springfield Elementary School</td>\n",
       "      <td>Bart?</td>\n",
       "      <td>bart</td>\n",
       "      <td>1</td>\n",
       "    </tr>\n",
       "    <tr>\n",
       "      <th>7</th>\n",
       "      <td>9556</td>\n",
       "      <td>32</td>\n",
       "      <td>216</td>\n",
       "      <td>Bart Simpson: Victory party under the slide!</td>\n",
       "      <td>882000</td>\n",
       "      <td>True</td>\n",
       "      <td>8</td>\n",
       "      <td>3.0</td>\n",
       "      <td>Bart Simpson</td>\n",
       "      <td>Springfield Elementary School</td>\n",
       "      <td>Victory party under the slide!</td>\n",
       "      <td>victory party under the slide</td>\n",
       "      <td>5</td>\n",
       "    </tr>\n",
       "    <tr>\n",
       "      <th>9</th>\n",
       "      <td>9558</td>\n",
       "      <td>32</td>\n",
       "      <td>218</td>\n",
       "      <td>Lisa Simpson: (CALLING) Mr. Bergstrom! Mr. Ber...</td>\n",
       "      <td>889000</td>\n",
       "      <td>True</td>\n",
       "      <td>9</td>\n",
       "      <td>374.0</td>\n",
       "      <td>Lisa Simpson</td>\n",
       "      <td>Apartment Building</td>\n",
       "      <td>Mr. Bergstrom! Mr. Bergstrom!</td>\n",
       "      <td>mr bergstrom mr bergstrom</td>\n",
       "      <td>4</td>\n",
       "    </tr>\n",
       "    <tr>\n",
       "      <th>10</th>\n",
       "      <td>9559</td>\n",
       "      <td>32</td>\n",
       "      <td>219</td>\n",
       "      <td>Landlady: Hey, hey, he Moved out this morning....</td>\n",
       "      <td>893000</td>\n",
       "      <td>True</td>\n",
       "      <td>469</td>\n",
       "      <td>374.0</td>\n",
       "      <td>Landlady</td>\n",
       "      <td>Apartment Building</td>\n",
       "      <td>Hey, hey, he Moved out this morning. He must h...</td>\n",
       "      <td>hey hey he moved out this morning he must have...</td>\n",
       "      <td>19</td>\n",
       "    </tr>\n",
       "    <tr>\n",
       "      <th>11</th>\n",
       "      <td>9560</td>\n",
       "      <td>32</td>\n",
       "      <td>220</td>\n",
       "      <td>Lisa Simpson: Do you know where I could find him?</td>\n",
       "      <td>898000</td>\n",
       "      <td>True</td>\n",
       "      <td>9</td>\n",
       "      <td>374.0</td>\n",
       "      <td>Lisa Simpson</td>\n",
       "      <td>Apartment Building</td>\n",
       "      <td>Do you know where I could find him?</td>\n",
       "      <td>do you know where i could find him</td>\n",
       "      <td>8</td>\n",
       "    </tr>\n",
       "    <tr>\n",
       "      <th>12</th>\n",
       "      <td>9561</td>\n",
       "      <td>32</td>\n",
       "      <td>221</td>\n",
       "      <td>Landlady: I think he's taking the next train t...</td>\n",
       "      <td>900000</td>\n",
       "      <td>True</td>\n",
       "      <td>469</td>\n",
       "      <td>374.0</td>\n",
       "      <td>Landlady</td>\n",
       "      <td>Apartment Building</td>\n",
       "      <td>I think he's taking the next train to Capital ...</td>\n",
       "      <td>i think hes taking the next train to capital city</td>\n",
       "      <td>10</td>\n",
       "    </tr>\n",
       "    <tr>\n",
       "      <th>13</th>\n",
       "      <td>9562</td>\n",
       "      <td>32</td>\n",
       "      <td>222</td>\n",
       "      <td>Lisa Simpson: The train, how like him... tradi...</td>\n",
       "      <td>903000</td>\n",
       "      <td>True</td>\n",
       "      <td>9</td>\n",
       "      <td>374.0</td>\n",
       "      <td>Lisa Simpson</td>\n",
       "      <td>Apartment Building</td>\n",
       "      <td>The train, how like him... traditional, yet en...</td>\n",
       "      <td>the train how like him traditional yet environ...</td>\n",
       "      <td>9</td>\n",
       "    </tr>\n",
       "    <tr>\n",
       "      <th>14</th>\n",
       "      <td>9563</td>\n",
       "      <td>32</td>\n",
       "      <td>223</td>\n",
       "      <td>Landlady: Yes, and it's been the backbone of o...</td>\n",
       "      <td>908000</td>\n",
       "      <td>True</td>\n",
       "      <td>469</td>\n",
       "      <td>374.0</td>\n",
       "      <td>Landlady</td>\n",
       "      <td>Apartment Building</td>\n",
       "      <td>Yes, and it's been the backbone of our country...</td>\n",
       "      <td>yes and its been the backbone of our country s...</td>\n",
       "      <td>19</td>\n",
       "    </tr>\n",
       "    <tr>\n",
       "      <th>15</th>\n",
       "      <td>9564</td>\n",
       "      <td>32</td>\n",
       "      <td>224</td>\n",
       "      <td>Lisa Simpson: I see he touched you, too.</td>\n",
       "      <td>915000</td>\n",
       "      <td>True</td>\n",
       "      <td>9</td>\n",
       "      <td>374.0</td>\n",
       "      <td>Lisa Simpson</td>\n",
       "      <td>Apartment Building</td>\n",
       "      <td>I see he touched you, too.</td>\n",
       "      <td>i see he touched you too</td>\n",
       "      <td>6</td>\n",
       "    </tr>\n",
       "    <tr>\n",
       "      <th>17</th>\n",
       "      <td>9566</td>\n",
       "      <td>32</td>\n",
       "      <td>226</td>\n",
       "      <td>Bart Simpson: Hey, thanks for your vote, man.</td>\n",
       "      <td>918000</td>\n",
       "      <td>True</td>\n",
       "      <td>8</td>\n",
       "      <td>3.0</td>\n",
       "      <td>Bart Simpson</td>\n",
       "      <td>Springfield Elementary School</td>\n",
       "      <td>Hey, thanks for your vote, man.</td>\n",
       "      <td>hey thanks for your vote man</td>\n",
       "      <td>6</td>\n",
       "    </tr>\n",
       "    <tr>\n",
       "      <th>18</th>\n",
       "      <td>9567</td>\n",
       "      <td>32</td>\n",
       "      <td>227</td>\n",
       "      <td>Nelson Muntz: I didn't vote. Voting's for geeks.</td>\n",
       "      <td>920000</td>\n",
       "      <td>True</td>\n",
       "      <td>101</td>\n",
       "      <td>3.0</td>\n",
       "      <td>Nelson Muntz</td>\n",
       "      <td>Springfield Elementary School</td>\n",
       "      <td>I didn't vote. Voting's for geeks.</td>\n",
       "      <td>i didnt vote votings for geeks</td>\n",
       "      <td>6</td>\n",
       "    </tr>\n",
       "    <tr>\n",
       "      <th>19</th>\n",
       "      <td>9568</td>\n",
       "      <td>32</td>\n",
       "      <td>228</td>\n",
       "      <td>Bart Simpson: Well, you got that right. (TO TE...</td>\n",
       "      <td>922000</td>\n",
       "      <td>True</td>\n",
       "      <td>8</td>\n",
       "      <td>3.0</td>\n",
       "      <td>Bart Simpson</td>\n",
       "      <td>Springfield Elementary School</td>\n",
       "      <td>Well, you got that right. Thanks for your vote...</td>\n",
       "      <td>well you got that right thanks for your vote g...</td>\n",
       "      <td>10</td>\n",
       "    </tr>\n",
       "    <tr>\n",
       "      <th>20</th>\n",
       "      <td>9569</td>\n",
       "      <td>32</td>\n",
       "      <td>229</td>\n",
       "      <td>Terri/sherri: We forgot.</td>\n",
       "      <td>925000</td>\n",
       "      <td>True</td>\n",
       "      <td>467</td>\n",
       "      <td>3.0</td>\n",
       "      <td>Terri/sherri</td>\n",
       "      <td>Springfield Elementary School</td>\n",
       "      <td>We forgot.</td>\n",
       "      <td>we forgot</td>\n",
       "      <td>2</td>\n",
       "    </tr>\n",
       "    <tr>\n",
       "      <th>21</th>\n",
       "      <td>9570</td>\n",
       "      <td>32</td>\n",
       "      <td>230</td>\n",
       "      <td>Bart Simpson: Well, don't sweat it. Just so lo...</td>\n",
       "      <td>927000</td>\n",
       "      <td>True</td>\n",
       "      <td>8</td>\n",
       "      <td>3.0</td>\n",
       "      <td>Bart Simpson</td>\n",
       "      <td>Springfield Elementary School</td>\n",
       "      <td>Well, don't sweat it. Just so long as a couple...</td>\n",
       "      <td>well dont sweat it just so long as a couple of...</td>\n",
       "      <td>15</td>\n",
       "    </tr>\n",
       "  </tbody>\n",
       "</table>\n",
       "</div>"
      ],
      "text/plain": [
       "      id  episode_id  number  \\\n",
       "0   9549          32     209   \n",
       "1   9550          32     210   \n",
       "2   9551          32     211   \n",
       "3   9552          32     212   \n",
       "4   9553          32     213   \n",
       "5   9554          32     214   \n",
       "6   9555          32     215   \n",
       "7   9556          32     216   \n",
       "9   9558          32     218   \n",
       "10  9559          32     219   \n",
       "11  9560          32     220   \n",
       "12  9561          32     221   \n",
       "13  9562          32     222   \n",
       "14  9563          32     223   \n",
       "15  9564          32     224   \n",
       "17  9566          32     226   \n",
       "18  9567          32     227   \n",
       "19  9568          32     228   \n",
       "20  9569          32     229   \n",
       "21  9570          32     230   \n",
       "\n",
       "                                             raw_text timestamp_in_ms  \\\n",
       "0   Miss Hoover: No, actually, it was a little of ...          848000   \n",
       "1   Lisa Simpson: (NEAR TEARS) Where's Mr. Bergstrom?          856000   \n",
       "2   Miss Hoover: I don't know. Although I'd sure l...          856000   \n",
       "3            Lisa Simpson: That life is worth living.          864000   \n",
       "4   Edna Krabappel-Flanders: The polls will be ope...          864000   \n",
       "5   Martin Prince: (HOARSE WHISPER) I don't think ...          877000   \n",
       "6                      Edna Krabappel-Flanders: Bart?          881000   \n",
       "7        Bart Simpson: Victory party under the slide!          882000   \n",
       "9   Lisa Simpson: (CALLING) Mr. Bergstrom! Mr. Ber...          889000   \n",
       "10  Landlady: Hey, hey, he Moved out this morning....          893000   \n",
       "11  Lisa Simpson: Do you know where I could find him?          898000   \n",
       "12  Landlady: I think he's taking the next train t...          900000   \n",
       "13  Lisa Simpson: The train, how like him... tradi...          903000   \n",
       "14  Landlady: Yes, and it's been the backbone of o...          908000   \n",
       "15           Lisa Simpson: I see he touched you, too.          915000   \n",
       "17      Bart Simpson: Hey, thanks for your vote, man.          918000   \n",
       "18   Nelson Muntz: I didn't vote. Voting's for geeks.          920000   \n",
       "19  Bart Simpson: Well, you got that right. (TO TE...          922000   \n",
       "20                           Terri/sherri: We forgot.          925000   \n",
       "21  Bart Simpson: Well, don't sweat it. Just so lo...          927000   \n",
       "\n",
       "   speaking_line  character_id  location_id       raw_character_text  \\\n",
       "0           True           464          3.0              Miss Hoover   \n",
       "1           True             9          3.0             Lisa Simpson   \n",
       "2           True           464          3.0              Miss Hoover   \n",
       "3           True             9          3.0             Lisa Simpson   \n",
       "4           True            40          3.0  Edna Krabappel-Flanders   \n",
       "5           True            38          3.0            Martin Prince   \n",
       "6           True            40          3.0  Edna Krabappel-Flanders   \n",
       "7           True             8          3.0             Bart Simpson   \n",
       "9           True             9        374.0             Lisa Simpson   \n",
       "10          True           469        374.0                 Landlady   \n",
       "11          True             9        374.0             Lisa Simpson   \n",
       "12          True           469        374.0                 Landlady   \n",
       "13          True             9        374.0             Lisa Simpson   \n",
       "14          True           469        374.0                 Landlady   \n",
       "15          True             9        374.0             Lisa Simpson   \n",
       "17          True             8          3.0             Bart Simpson   \n",
       "18          True           101          3.0             Nelson Muntz   \n",
       "19          True             8          3.0             Bart Simpson   \n",
       "20          True           467          3.0             Terri/sherri   \n",
       "21          True             8          3.0             Bart Simpson   \n",
       "\n",
       "                raw_location_text  \\\n",
       "0   Springfield Elementary School   \n",
       "1   Springfield Elementary School   \n",
       "2   Springfield Elementary School   \n",
       "3   Springfield Elementary School   \n",
       "4   Springfield Elementary School   \n",
       "5   Springfield Elementary School   \n",
       "6   Springfield Elementary School   \n",
       "7   Springfield Elementary School   \n",
       "9              Apartment Building   \n",
       "10             Apartment Building   \n",
       "11             Apartment Building   \n",
       "12             Apartment Building   \n",
       "13             Apartment Building   \n",
       "14             Apartment Building   \n",
       "15             Apartment Building   \n",
       "17  Springfield Elementary School   \n",
       "18  Springfield Elementary School   \n",
       "19  Springfield Elementary School   \n",
       "20  Springfield Elementary School   \n",
       "21  Springfield Elementary School   \n",
       "\n",
       "                                         spoken_words  \\\n",
       "0   No, actually, it was a little of both. Sometim...   \n",
       "1                              Where's Mr. Bergstrom?   \n",
       "2   I don't know. Although I'd sure like to talk t...   \n",
       "3                          That life is worth living.   \n",
       "4   The polls will be open from now until the end ...   \n",
       "5         I don't think there's anything left to say.   \n",
       "6                                               Bart?   \n",
       "7                      Victory party under the slide!   \n",
       "9                       Mr. Bergstrom! Mr. Bergstrom!   \n",
       "10  Hey, hey, he Moved out this morning. He must h...   \n",
       "11                Do you know where I could find him?   \n",
       "12  I think he's taking the next train to Capital ...   \n",
       "13  The train, how like him... traditional, yet en...   \n",
       "14  Yes, and it's been the backbone of our country...   \n",
       "15                         I see he touched you, too.   \n",
       "17                    Hey, thanks for your vote, man.   \n",
       "18                 I didn't vote. Voting's for geeks.   \n",
       "19  Well, you got that right. Thanks for your vote...   \n",
       "20                                         We forgot.   \n",
       "21  Well, don't sweat it. Just so long as a couple...   \n",
       "\n",
       "                                      normalized_text  word_count  \n",
       "0   no actually it was a little of both sometimes ...          31  \n",
       "1                                 wheres mr bergstrom           3  \n",
       "2   i dont know although id sure like to talk to h...          22  \n",
       "3                           that life is worth living           5  \n",
       "4   the polls will be open from now until the end ...          33  \n",
       "5            i dont think theres anything left to say           8  \n",
       "6                                                bart           1  \n",
       "7                       victory party under the slide           5  \n",
       "9                           mr bergstrom mr bergstrom           4  \n",
       "10  hey hey he moved out this morning he must have...          19  \n",
       "11                 do you know where i could find him           8  \n",
       "12  i think hes taking the next train to capital city          10  \n",
       "13  the train how like him traditional yet environ...           9  \n",
       "14  yes and its been the backbone of our country s...          19  \n",
       "15                           i see he touched you too           6  \n",
       "17                       hey thanks for your vote man           6  \n",
       "18                     i didnt vote votings for geeks           6  \n",
       "19  well you got that right thanks for your vote g...          10  \n",
       "20                                          we forgot           2  \n",
       "21  well dont sweat it just so long as a couple of...          15  "
      ]
     },
     "execution_count": 19,
     "metadata": {},
     "output_type": "execute_result"
    }
   ],
   "source": [
    "def conv(row):\n",
    "    try:\n",
    "        return int(row)\n",
    "    except:\n",
    "        return np.nan\n",
    "# First apply the conv() filtering on the word count\n",
    "df_script[\"word_count\"] = df_script['word_count'].map(conv)\n",
    "df_script[\"character_id\"] = df_script['character_id'].map(conv)\n",
    "\n",
    "# And then drop all `nan` values in \"word_count\"\n",
    "\n",
    "# Hint: Make sure the operation is done in-place.\n",
    "df_script.dropna(subset=[ 'word_count'], inplace = True)\n",
    "df_script.dropna(subset=[ 'character_id'], inplace = True)\n",
    "df_script.head(20)\n",
    "### Your code ###"
   ]
  },
  {
   "cell_type": "code",
   "execution_count": 20,
   "metadata": {},
   "outputs": [
    {
     "data": {
      "text/plain": [
       "character_id  raw_character_text \n",
       "2             Homer Simpson          27910\n",
       "1             Marge Simpson          13192\n",
       "8             Bart Simpson           13013\n",
       "9             Lisa Simpson           10769\n",
       "15            C. Montgomery Burns     3087\n",
       "17            Moe Szyslak             2809\n",
       "3             Seymour Skinner         2390\n",
       "11            Ned Flanders            2057\n",
       "31            Grampa Simpson          1807\n",
       "71            Chief Wiggum            1796\n",
       "Name: character_id, dtype: int64"
      ]
     },
     "execution_count": 20,
     "metadata": {},
     "output_type": "execute_result"
    }
   ],
   "source": [
    "# Now aggregate the top characters by words:\n",
    "df_script['character_id'] = df_script['character_id'].astype('int')\n",
    "top_characters_by_words = df_script.groupby([\"character_id\", \"raw_character_text\"])[\"word_count\"].sum()\n",
    "top_characters_by_words.sort_values( ascending = False, inplace = True)\n",
    "top_characters_by_words.head(10)\n",
    "\n",
    "\n",
    "# And do the same by lines:\n",
    "top_characters_by_lines = df_script.groupby([\"character_id\", \"raw_character_text\"])[\"character_id\"].size()\n",
    "top_characters_by_lines.sort_values( ascending = False, inplace = True)\n",
    "top_characters_by_lines.head(10)\n"
   ]
  },
  {
   "cell_type": "markdown",
   "metadata": {},
   "source": [
    "\n",
    "Compare both results by drawing two bar plots: For the first plot, the x-axis should show the name of the top 10 characters with regard to the word count and the y-axis should display the number of spoken words.\n",
    "\n",
    "In the second plot, you should do the same, but this time considering the number of lines (not words) for each character. Note that the characters shown in the two plots might differ.\n"
   ]
  },
  {
   "cell_type": "code",
   "execution_count": 21,
   "metadata": {},
   "outputs": [
    {
     "data": {
      "text/plain": [
       "<AxesSubplot:xlabel='character_id,raw_character_text'>"
      ]
     },
     "execution_count": 21,
     "metadata": {},
     "output_type": "execute_result"
    },
    {
     "data": {
      "image/png": "[encoded data removed]",
      "text/plain": [
       "<Figure size 640x480 with 1 Axes>"
      ]
     },
     "metadata": {},
     "output_type": "display_data"
    }
   ],
   "source": [
    "# First plot: Top 10 characters by word count\n",
    "# Hint: Try to use the integration of matplotlib and pandas to directly plot from a dataframe.\n",
    "\n",
    "top_characters_by_words.head(10).plot( x = \"raw_character_text\", y = [2], kind =\"bar\")\n"
   ]
  },
  {
   "cell_type": "code",
   "execution_count": 22,
   "metadata": {},
   "outputs": [
    {
     "data": {
      "text/plain": [
       "<AxesSubplot:xlabel='character_id,raw_character_text'>"
      ]
     },
     "execution_count": 22,
     "metadata": {},
     "output_type": "execute_result"
    },
    {
     "data": {
      "image/png": "[encoded data removed]",
      "text/plain": [
       "<Figure size 640x480 with 1 Axes>"
      ]
     },
     "metadata": {},
     "output_type": "display_data"
    }
   ],
   "source": [
    "# Second plot: Top 10 characters by lines\n",
    "\n",
    "top_characters_by_lines.head(10).plot( x = \"raw_character_text\", y = [2], kind =\"bar\")"
   ]
  },
  {
   "cell_type": "markdown",
   "metadata": {},
   "source": [
    "Compare the results of the two plots: What do you notice? Do the results look correct to you?\n",
    "\n",
    "Homer Simpsons seems to say less words in a lot more lines than the other main characters. This is likely due to his character being prone to onelines like \"doh!\" and all around him being portrayed as less inteligent. This phenomenon can also be seen when comparing Marge Simpson to Bart Simpson. Marge has about the same amount of lines as bart while using six times the words Bart uses in his lines. This seems unusual. \n",
    "\n",
    "There is an error in the Data suggesting that ABBA and Robert Pinsky have a majority of words in the show. This is likely due to data quality problems, as they are not major characters."
   ]
  },
  {
   "cell_type": "markdown",
   "metadata": {},
   "source": [
    "### 3. Common Words (3 points)\n",
    "\n",
    "We continue by examining the dialogues in more detail, by looking at the top 20 most commonly appearing words (tokens).\n",
    "\n",
    "To generate a meaningful output, use the following pre-processing pipeline, parts of which were explained in more detail during the tutorials and the lecture:\n",
    "- Use spaCy (`en_core_web_sm`) to process all text.\n",
    "- Instead of considering the raw text, use the lemmatized token provided by spaCy.\n",
    "- Additionally, ignore any token that is classified as punctuation by spaCy.\n",
    "- Also skip any token which is classified as a stop word by spaCy."
   ]
  },
  {
   "cell_type": "code",
   "execution_count": 23,
   "metadata": {},
   "outputs": [
    {
     "ename": "NameError",
     "evalue": "name 'Counter' is not defined",
     "output_type": "error",
     "traceback": [
      "\u001b[1;31m---------------------------------------------------------------------------\u001b[0m",
      "\u001b[1;31mNameError\u001b[0m                                 Traceback (most recent call last)",
      "Cell \u001b[1;32mIn [23], line 16\u001b[0m\n\u001b[0;32m     12\u001b[0m             \u001b[39mif\u001b[39;00m token\u001b[39m.\u001b[39mis_stop \u001b[39m==\u001b[39m \u001b[39mFalse\u001b[39;00m:\n\u001b[0;32m     13\u001b[0m                 word_list\u001b[39m.\u001b[39mappend(token\u001b[39m.\u001b[39mlemma_)\n\u001b[1;32m---> 16\u001b[0m word_counter \u001b[39m=\u001b[39m Counter(word_list)\n\u001b[0;32m     17\u001b[0m counter\u001b[39m.\u001b[39mmost_common(\u001b[39m20\u001b[39m)\n",
      "\u001b[1;31mNameError\u001b[0m: name 'Counter' is not defined"
     ]
    }
   ],
   "source": [
    "# Load the spacy model specified above. Make sure to disable the \"ner\" component for more speed.\n",
    "nlp = spacy.load(\"en_core_web_sm\")\n",
    "nlp.disable_pipes('ner')\n",
    "\n",
    "word_list =[]\n",
    "\n",
    "# Iterate over the spoken words (Hint: df_script) and append the lemmatized tokens as detailed above\n",
    "for spoken_words in df_script[\"spoken_words\"]: \n",
    "    doc = nlp(spoken_words)\n",
    "    for token in doc:\n",
    "        if token.pos_ != \"PUNCT\":\n",
    "            if token.is_stop == False:\n",
    "                word_list.append(token.lemma_)\n",
    "\n",
    "\n",
    "word_counter = Counter(word_list)\n",
    "counter.most_common(20)"
   ]
  },
  {
   "cell_type": "code",
   "execution_count": 24,
   "metadata": {},
   "outputs": [
    {
     "data": {
      "text/plain": [
       "oh       8483\n",
       "like     6235\n",
       "go       5486\n",
       "know     5458\n",
       "get      5075\n",
       "hey      4320\n",
       "think    4109\n",
       "right    4107\n",
       "come     4055\n",
       "Homer    3974\n",
       "look     3719\n",
       "good     3646\n",
       "want     3574\n",
       "Bart     3546\n",
       "to       3483\n",
       "let      3277\n",
       "uh       3066\n",
       "yeah     2935\n",
       "time     2759\n",
       "man      2667\n",
       "dtype: int64"
      ]
     },
     "execution_count": 24,
     "metadata": {},
     "output_type": "execute_result"
    }
   ],
   "source": [
    "counts = pd.Series(word_list).value_counts()\n",
    "counts.sort_values(ascending = False, inplace = True)\n",
    "counts.head(20)"
   ]
  },
  {
   "cell_type": "markdown",
   "metadata": {},
   "source": [
    "Now plot a graph with the top 20 words on the x-axis and their respective frequencies on the y-axis, similar to the previous question."
   ]
  },
  {
   "cell_type": "code",
   "execution_count": 25,
   "metadata": {},
   "outputs": [
    {
     "data": {
      "text/plain": [
       "<AxesSubplot:>"
      ]
     },
     "execution_count": 25,
     "metadata": {},
     "output_type": "execute_result"
    },
    {
     "data": {
      "image/png": "[encoded data removed]",
      "text/plain": [
       "<Figure size 640x480 with 1 Axes>"
      ]
     },
     "metadata": {},
     "output_type": "display_data"
    }
   ],
   "source": [
    "# Provide a plot of the frequencies of the most common 20 words.\n",
    "counts.head(20).plot( x = [0], y = [1], kind =\"bar\")"
   ]
  },
  {
   "cell_type": "markdown",
   "metadata": {},
   "source": [
    "### 4. Named Entity Wordcloud (2 points)\n",
    "\n",
    "Apply named entity recognition (NER) using SpaCy and generate a word cloud of the most commonly appearing 50\n",
    "named entities that have the type `PERSON`. Visualize the resulting entities in a word cloud.\n",
    "Take into account that you cannot simply use the \n",
    "output of the previous task, since NER was explicitly disabled.\n",
    " Since the named entity recognition takes quite some time, use only the first `10000` scripts."
   ]
  },
  {
   "cell_type": "code",
   "execution_count": 32,
   "metadata": {},
   "outputs": [],
   "source": [
    "# Load the English spacy model again, but this time do not disable the NER module.\n",
    "persons = []\n",
    "\n",
    "nlp = spacy.load(\"en_core_web_sm\")\n",
    "\n",
    "# Extract named entities of the type \"PERSON\" from each script.\n",
    "for script in df_script.spoken_words.tolist()[:10000]:\n",
    "    doc = nlp(script)\n",
    "    for ent in doc.ents:\n",
    "        if ent.label_ == \"PERSON\":\n",
    "            persons.append(ent.text)"
   ]
  },
  {
   "cell_type": "code",
   "execution_count": 33,
   "metadata": {},
   "outputs": [
    {
     "data": {
      "text/plain": [
       "Lisa                 89\n",
       "Marge                79\n",
       "Simpson              70\n",
       "Burns                47\n",
       "Homer Simpson        45\n",
       "Smithers             36\n",
       "Homie                32\n",
       "Maggie               32\n",
       "Michael Jackson      22\n",
       "Bart Simpson         19\n",
       "Moe                  17\n",
       "Lisa Simpson         16\n",
       "Martin               16\n",
       "Dad                  15\n",
       "Principal Skinner    14\n",
       "Bart                 13\n",
       "Plow                 12\n",
       "Lis                  11\n",
       "Krabappel            11\n",
       "Ned Flanders         10\n",
       "Bob                  10\n",
       "Ned                  10\n",
       "Lurleen              10\n",
       "Skinner               9\n",
       "Sideshow Bob          9\n",
       "Wiggum                8\n",
       "Homer                 8\n",
       "Barney                8\n",
       "Bergstrom             8\n",
       "Aunt Selma            7\n",
       "Lovejoy               7\n",
       "Hibbert               7\n",
       "Springfield           7\n",
       "Lenny                 7\n",
       "Lanley                7\n",
       "Laura                 7\n",
       "Nelson                6\n",
       "Strawberry            6\n",
       "Kent Brockman         6\n",
       "Steve Sax             5\n",
       "Michael               5\n",
       "Marge Simpson         5\n",
       "Patty                 5\n",
       "Darryl Strawberry     5\n",
       "Sideshow Mel          5\n",
       "Bill                  5\n",
       "Black                 5\n",
       "Jack                  5\n",
       "Otto                  5\n",
       "Tom Jones             4\n",
       "dtype: int64"
      ]
     },
     "execution_count": 33,
     "metadata": {},
     "output_type": "execute_result"
    }
   ],
   "source": [
    "persons_pd = pd.Series(persons).value_counts()\n",
    "persons_pd.sort_values(ascending = False, inplace = True)\n",
    "persons_pd.head(50)"
   ]
  },
  {
   "cell_type": "markdown",
   "metadata": {},
   "source": [
    "To visualize the word cloud, you may use the `wordcloud` package, which works in combination with `matplotlib`. Make sure to limit the number of visible words to 50, and the maximum font size to 60."
   ]
  },
  {
   "cell_type": "code",
   "execution_count": 40,
   "metadata": {},
   "outputs": [
    {
     "data": {
      "text/plain": [
       "<matplotlib.image.AxesImage at 0x1d3ce66cfd0>"
      ]
     },
     "execution_count": 40,
     "metadata": {},
     "output_type": "execute_result"
    },
    {
     "data": {
      "image/png": "[encoded data removed]",
      "text/plain": [
       "<Figure size 864x864 with 1 Axes>"
      ]
     },
     "metadata": {
      "needs_background": "light"
     },
     "output_type": "display_data"
    }
   ],
   "source": [
    "# Create matplotlib skeleton for word cloud figure\n",
    "string_from_list=(\" \").join(persons)\n",
    "\n",
    "cloud = WordCloud(max_words = 50, max_font_size = 60).generate(string_from_list)\n",
    "\n",
    "fig = plt.figure(1, figsize=(12,12))\n",
    "\n",
    "plt.imshow(cloud, interpolation=\"bilinear\")\n",
    "#plt.axes(\"off\")\n",
    "\n"
   ]
  },
  {
   "cell_type": "markdown",
   "metadata": {},
   "source": [
    "### 5. Normalized Word Importance with TF-IDF (6 points)\n",
    "\n",
    "The top words so far seem not too informative. We wish to find out the importance of particular words for specific characters, by looking at normalized frequency counts.\n",
    "As an example, we expect the younger Simpson family members to exhibit a disproportionate frequency for the word \"mom\" or \"dad\", compared to other characters.\n",
    "\n",
    "We looked at the normalization through Term Frequency - Inverse Document Frequency (TF-IDF) in the lecture, which we will use here to investigate lines by `Lisa Simpson` and `Bart Simpson`.\n",
    "\n",
    "In this case, each script line is a document for a certain character who spoke the words.\n",
    "Use `CountVectorizer` and `TfidfTransformers` from the `scikit-learn` library. In addition, filter out stop words and words with a frequency of less than 5 occurrences from the analysis. Then plot the TF-IDF values for the top 10 words for Lisa and Bart as bar plots."
   ]
  },
  {
   "cell_type": "code",
   "execution_count": 191,
   "metadata": {},
   "outputs": [
    {
     "name": "stderr",
     "output_type": "stream",
     "text": [
      "C:\\Users\\gerbk\\AppData\\Local\\Temp\\ipykernel_17008\\123284941.py:4: DtypeWarning: Columns (4,5,6) have mixed types. Specify dtype option on import or set low_memory=False.\n",
      "  df_script = pd.read_csv(\"data/simpsons_script_lines.csv\")\n"
     ]
    }
   ],
   "source": [
    "from sklearn.feature_extraction.text import CountVectorizer\n",
    "from sklearn.feature_extraction.text import TfidfTransformer\n",
    "\n",
    "df_script = pd.read_csv(\"data/simpsons_script_lines.csv\")\n",
    "\n",
    "Lisa_Lines = df_script.loc[df_script[\"character_id\"] == 9, 'normalized_text'] \n",
    "Bart_Lines = df_script.loc[df_script[\"character_id\"] == 8, 'normalized_text'] "
   ]
  },
  {
   "cell_type": "code",
   "execution_count": 192,
   "metadata": {},
   "outputs": [
    {
     "data": {
      "text/plain": [
       "<bound method NDFrame.head of 1                                       wheres mr bergstrom\n",
       "3                                 that life is worth living\n",
       "9                                 mr bergstrom mr bergstrom\n",
       "11                       do you know where i could find him\n",
       "13        the train how like him traditional yet environ...\n",
       "                                ...                        \n",
       "130989    i dont think shauna should choose any of you s...\n",
       "130995         well bart i guess thats our cue to skedaddle\n",
       "131038    face it were just kids we cant afford stuff wi...\n",
       "131054    i sold a couple of my rare jazz records after ...\n",
       "131058                        and dad donated something too\n",
       "Name: normalized_text, Length: 9732, dtype: object>"
      ]
     },
     "execution_count": 192,
     "metadata": {},
     "output_type": "execute_result"
    }
   ],
   "source": [
    "Lisa_Lines.head"
   ]
  },
  {
   "cell_type": "code",
   "execution_count": 170,
   "metadata": {},
   "outputs": [
    {
     "name": "stdout",
     "output_type": "stream",
     "text": [
      "7                             victory party under the slide\n",
      "17                             hey thanks for your vote man\n",
      "19        well you got that right thanks for your vote g...\n",
      "21        well dont sweat it just so long as a couple of...\n",
      "23                                                    lewis\n",
      "                                ...                        \n",
      "131051    i woke up and the money jar was full that mean...\n",
      "131052                                          snowball ii\n",
      "131056    really but thats been in your family for gener...\n",
      "131062    its weird to hear myself saying this but i lov...\n",
      "131071                                  look thats our ship\n",
      "Name: normalized_text, Length: 11268, dtype: object\n"
     ]
    }
   ],
   "source": [
    "print(Bart_Lines)"
   ]
  },
  {
   "cell_type": "code",
   "execution_count": 131,
   "metadata": {},
   "outputs": [],
   "source": [
    "# Plot the top 10 occurrences, weighted by TF-IDF\n",
    "\n"
   ]
  },
  {
   "cell_type": "code",
   "execution_count": 171,
   "metadata": {},
   "outputs": [],
   "source": [
    "sp = spacy.load('en_core_web_sm')\n",
    "all_stopwords = sp.Defaults.stop_words\n"
   ]
  },
  {
   "cell_type": "code",
   "execution_count": 193,
   "metadata": {},
   "outputs": [],
   "source": [
    "tokens_without_sw_lisa = []\n",
    "tokens_without_sw_bart = []\n",
    "for a in Lisa_Lines.values:\n",
    "    if type(a) == str:\n",
    "        text_tokens = sp(a)\n",
    "        for token in text_tokens:\n",
    "            if token.text not in all_stopwords:\n",
    "                tokens_without_sw_lisa.append(token.text)\n",
    "\n"
   ]
  },
  {
   "cell_type": "code",
   "execution_count": 194,
   "metadata": {},
   "outputs": [],
   "source": [
    "for b in Bart_Lines.values:\n",
    "    if type(b) == str:\n",
    "        text_tokens = sp(b)\n",
    "        for token in text_tokens:\n",
    "            if token.text not in all_stopwords:\n",
    "                tokens_without_sw_bart.append(token.text)\n",
    "\n"
   ]
  },
  {
   "cell_type": "code",
   "execution_count": 195,
   "metadata": {},
   "outputs": [],
   "source": [
    "from collections import Counter\n",
    "\n",
    "def removeElements(lst, k):\n",
    "    counted = Counter(lst)\n",
    "\n",
    "    temp_lst = []\n",
    "    for el in counted:\n",
    "        if counted[el] < k:\n",
    "            temp_lst.append(el)\n",
    "\n",
    "    res_lst = []\n",
    "    for el in lst:\n",
    "        if el not in temp_lst:\n",
    "            res_lst.append(el)\n",
    "    return(res_lst)\n",
    "\n",
    "# Driver code\n",
    "\n",
    "\n",
    "Lisa_List = removeElements(tokens_without_sw_lisa, 5)\n",
    "Bart_List = removeElements(tokens_without_sw_bart, 5)"
   ]
  },
  {
   "cell_type": "code",
   "execution_count": 207,
   "metadata": {},
   "outputs": [],
   "source": [
    "#instantiate CountVectorizer() \n",
    "cvl=CountVectorizer() \n",
    "cvb=CountVectorizer() \n",
    "# this steps generates word counts for the words in your docs \n",
    "word_count_vector_lisa=cvl.fit_transform(Lisa_List)\n",
    "word_count_vector_bart=cvb.fit_transform(Bart_List)"
   ]
  },
  {
   "cell_type": "code",
   "execution_count": 197,
   "metadata": {},
   "outputs": [
    {
     "data": {
      "text/plain": [
       "(35847, 1435)"
      ]
     },
     "execution_count": 197,
     "metadata": {},
     "output_type": "execute_result"
    }
   ],
   "source": [
    "\n",
    "word_count_vector_bart.shape\n"
   ]
  },
  {
   "cell_type": "code",
   "execution_count": 208,
   "metadata": {},
   "outputs": [
    {
     "data": {
      "text/html": [
       "<style>#sk-container-id-12 {color: black;background-color: white;}#sk-container-id-12 pre{padding: 0;}#sk-container-id-12 div.sk-toggleable {background-color: white;}#sk-container-id-12 label.sk-toggleable__label {cursor: pointer;display: block;width: 100%;margin-bottom: 0;padding: 0.3em;box-sizing: border-box;text-align: center;}#sk-container-id-12 label.sk-toggleable__label-arrow:before {content: \"▸\";float: left;margin-right: 0.25em;color: #696969;}#sk-container-id-12 label.sk-toggleable__label-arrow:hover:before {color: black;}#sk-container-id-12 div.sk-estimator:hover label.sk-toggleable__label-arrow:before {color: black;}#sk-container-id-12 div.sk-toggleable__content {max-height: 0;max-width: 0;overflow: hidden;text-align: left;background-color: #f0f8ff;}#sk-container-id-12 div.sk-toggleable__content pre {margin: 0.2em;color: black;border-radius: 0.25em;background-color: #f0f8ff;}#sk-container-id-12 input.sk-toggleable__control:checked~div.sk-toggleable__content {max-height: 200px;max-width: 100%;overflow: auto;}#sk-container-id-12 input.sk-toggleable__control:checked~label.sk-toggleable__label-arrow:before {content: \"▾\";}#sk-container-id-12 div.sk-estimator input.sk-toggleable__control:checked~label.sk-toggleable__label {background-color: #d4ebff;}#sk-container-id-12 div.sk-label input.sk-toggleable__control:checked~label.sk-toggleable__label {background-color: #d4ebff;}#sk-container-id-12 input.sk-hidden--visually {border: 0;clip: rect(1px 1px 1px 1px);clip: rect(1px, 1px, 1px, 1px);height: 1px;margin: -1px;overflow: hidden;padding: 0;position: absolute;width: 1px;}#sk-container-id-12 div.sk-estimator {font-family: monospace;background-color: #f0f8ff;border: 1px dotted black;border-radius: 0.25em;box-sizing: border-box;margin-bottom: 0.5em;}#sk-container-id-12 div.sk-estimator:hover {background-color: #d4ebff;}#sk-container-id-12 div.sk-parallel-item::after {content: \"\";width: 100%;border-bottom: 1px solid gray;flex-grow: 1;}#sk-container-id-12 div.sk-label:hover label.sk-toggleable__label {background-color: #d4ebff;}#sk-container-id-12 div.sk-serial::before {content: \"\";position: absolute;border-left: 1px solid gray;box-sizing: border-box;top: 0;bottom: 0;left: 50%;z-index: 0;}#sk-container-id-12 div.sk-serial {display: flex;flex-direction: column;align-items: center;background-color: white;padding-right: 0.2em;padding-left: 0.2em;position: relative;}#sk-container-id-12 div.sk-item {position: relative;z-index: 1;}#sk-container-id-12 div.sk-parallel {display: flex;align-items: stretch;justify-content: center;background-color: white;position: relative;}#sk-container-id-12 div.sk-item::before, #sk-container-id-12 div.sk-parallel-item::before {content: \"\";position: absolute;border-left: 1px solid gray;box-sizing: border-box;top: 0;bottom: 0;left: 50%;z-index: -1;}#sk-container-id-12 div.sk-parallel-item {display: flex;flex-direction: column;z-index: 1;position: relative;background-color: white;}#sk-container-id-12 div.sk-parallel-item:first-child::after {align-self: flex-end;width: 50%;}#sk-container-id-12 div.sk-parallel-item:last-child::after {align-self: flex-start;width: 50%;}#sk-container-id-12 div.sk-parallel-item:only-child::after {width: 0;}#sk-container-id-12 div.sk-dashed-wrapped {border: 1px dashed gray;margin: 0 0.4em 0.5em 0.4em;box-sizing: border-box;padding-bottom: 0.4em;background-color: white;}#sk-container-id-12 div.sk-label label {font-family: monospace;font-weight: bold;display: inline-block;line-height: 1.2em;}#sk-container-id-12 div.sk-label-container {text-align: center;}#sk-container-id-12 div.sk-container {/* jupyter's `normalize.less` sets `[hidden] { display: none; }` but bootstrap.min.css set `[hidden] { display: none !important; }` so we also need the `!important` here to be able to override the default hidden behavior on the sphinx rendered scikit-learn.org. See: https://github.com/scikit-learn/scikit-learn/issues/21755 */display: inline-block !important;position: relative;}#sk-container-id-12 div.sk-text-repr-fallback {display: none;}</style><div id=\"sk-container-id-12\" class=\"sk-top-container\"><div class=\"sk-text-repr-fallback\"><pre>TfidfTransformer()</pre><b>In a Jupyter environment, please rerun this cell to show the HTML representation or trust the notebook. <br />On GitHub, the HTML representation is unable to render, please try loading this page with nbviewer.org.</b></div><div class=\"sk-container\" hidden><div class=\"sk-item\"><div class=\"sk-estimator sk-toggleable\"><input class=\"sk-toggleable__control sk-hidden--visually\" id=\"sk-estimator-id-12\" type=\"checkbox\" checked><label for=\"sk-estimator-id-12\" class=\"sk-toggleable__label sk-toggleable__label-arrow\">TfidfTransformer</label><div class=\"sk-toggleable__content\"><pre>TfidfTransformer()</pre></div></div></div></div></div>"
      ],
      "text/plain": [
       "TfidfTransformer()"
      ]
     },
     "execution_count": 208,
     "metadata": {},
     "output_type": "execute_result"
    }
   ],
   "source": [
    "tfidf_transformer_lisa=TfidfTransformer(smooth_idf=True,use_idf=True) \n",
    "tfidf_transformer_lisa.fit(word_count_vector_lisa)"
   ]
  },
  {
   "cell_type": "code",
   "execution_count": 209,
   "metadata": {},
   "outputs": [
    {
     "name": "stderr",
     "output_type": "stream",
     "text": [
      "c:\\Users\\gerbk\\anaconda3\\envs\\AML_bidde\\lib\\site-packages\\sklearn\\utils\\deprecation.py:87: FutureWarning: Function get_feature_names is deprecated; get_feature_names is deprecated in 1.0 and will be removed in 1.2. Please use get_feature_names_out instead.\n",
      "  warnings.warn(msg, category=FutureWarning)\n"
     ]
    },
    {
     "data": {
      "text/html": [
       "<div>\n",
       "<style scoped>\n",
       "    .dataframe tbody tr th:only-of-type {\n",
       "        vertical-align: middle;\n",
       "    }\n",
       "\n",
       "    .dataframe tbody tr th {\n",
       "        vertical-align: top;\n",
       "    }\n",
       "\n",
       "    .dataframe thead th {\n",
       "        text-align: right;\n",
       "    }\n",
       "</style>\n",
       "<table border=\"1\" class=\"dataframe\">\n",
       "  <thead>\n",
       "    <tr style=\"text-align: right;\">\n",
       "      <th></th>\n",
       "      <th>idf_weights</th>\n",
       "    </tr>\n",
       "  </thead>\n",
       "  <tbody>\n",
       "    <tr>\n",
       "      <th>nt</th>\n",
       "      <td>4.176618</td>\n",
       "    </tr>\n",
       "    <tr>\n",
       "      <th>dad</th>\n",
       "      <td>4.488054</td>\n",
       "    </tr>\n",
       "    <tr>\n",
       "      <th>bart</th>\n",
       "      <td>4.934408</td>\n",
       "    </tr>\n",
       "    <tr>\n",
       "      <th>mom</th>\n",
       "      <td>5.028884</td>\n",
       "    </tr>\n",
       "    <tr>\n",
       "      <th>oh</th>\n",
       "      <td>5.198443</td>\n",
       "    </tr>\n",
       "    <tr>\n",
       "      <th>like</th>\n",
       "      <td>5.435267</td>\n",
       "    </tr>\n",
       "    <tr>\n",
       "      <th>ve</th>\n",
       "      <td>5.524535</td>\n",
       "    </tr>\n",
       "    <tr>\n",
       "      <th>know</th>\n",
       "      <td>5.558229</td>\n",
       "    </tr>\n",
       "    <tr>\n",
       "      <th>think</th>\n",
       "      <td>5.694880</td>\n",
       "    </tr>\n",
       "    <tr>\n",
       "      <th>got</th>\n",
       "      <td>5.820282</td>\n",
       "    </tr>\n",
       "  </tbody>\n",
       "</table>\n",
       "</div>"
      ],
      "text/plain": [
       "       idf_weights\n",
       "nt        4.176618\n",
       "dad       4.488054\n",
       "bart      4.934408\n",
       "mom       5.028884\n",
       "oh        5.198443\n",
       "like      5.435267\n",
       "ve        5.524535\n",
       "know      5.558229\n",
       "think     5.694880\n",
       "got       5.820282"
      ]
     },
     "execution_count": 209,
     "metadata": {},
     "output_type": "execute_result"
    }
   ],
   "source": [
    "# print idf values \n",
    "df_idf = pd.DataFrame(tfidf_transformer_lisa.idf_, index=cvl.get_feature_names(),columns=[\"idf_weights\"]) \n",
    "# sort ascending \n",
    "df_idf.sort_values(by=['idf_weights']).head(10)"
   ]
  },
  {
   "cell_type": "code",
   "execution_count": 210,
   "metadata": {},
   "outputs": [
    {
     "data": {
      "text/html": [
       "<style>#sk-container-id-13 {color: black;background-color: white;}#sk-container-id-13 pre{padding: 0;}#sk-container-id-13 div.sk-toggleable {background-color: white;}#sk-container-id-13 label.sk-toggleable__label {cursor: pointer;display: block;width: 100%;margin-bottom: 0;padding: 0.3em;box-sizing: border-box;text-align: center;}#sk-container-id-13 label.sk-toggleable__label-arrow:before {content: \"▸\";float: left;margin-right: 0.25em;color: #696969;}#sk-container-id-13 label.sk-toggleable__label-arrow:hover:before {color: black;}#sk-container-id-13 div.sk-estimator:hover label.sk-toggleable__label-arrow:before {color: black;}#sk-container-id-13 div.sk-toggleable__content {max-height: 0;max-width: 0;overflow: hidden;text-align: left;background-color: #f0f8ff;}#sk-container-id-13 div.sk-toggleable__content pre {margin: 0.2em;color: black;border-radius: 0.25em;background-color: #f0f8ff;}#sk-container-id-13 input.sk-toggleable__control:checked~div.sk-toggleable__content {max-height: 200px;max-width: 100%;overflow: auto;}#sk-container-id-13 input.sk-toggleable__control:checked~label.sk-toggleable__label-arrow:before {content: \"▾\";}#sk-container-id-13 div.sk-estimator input.sk-toggleable__control:checked~label.sk-toggleable__label {background-color: #d4ebff;}#sk-container-id-13 div.sk-label input.sk-toggleable__control:checked~label.sk-toggleable__label {background-color: #d4ebff;}#sk-container-id-13 input.sk-hidden--visually {border: 0;clip: rect(1px 1px 1px 1px);clip: rect(1px, 1px, 1px, 1px);height: 1px;margin: -1px;overflow: hidden;padding: 0;position: absolute;width: 1px;}#sk-container-id-13 div.sk-estimator {font-family: monospace;background-color: #f0f8ff;border: 1px dotted black;border-radius: 0.25em;box-sizing: border-box;margin-bottom: 0.5em;}#sk-container-id-13 div.sk-estimator:hover {background-color: #d4ebff;}#sk-container-id-13 div.sk-parallel-item::after {content: \"\";width: 100%;border-bottom: 1px solid gray;flex-grow: 1;}#sk-container-id-13 div.sk-label:hover label.sk-toggleable__label {background-color: #d4ebff;}#sk-container-id-13 div.sk-serial::before {content: \"\";position: absolute;border-left: 1px solid gray;box-sizing: border-box;top: 0;bottom: 0;left: 50%;z-index: 0;}#sk-container-id-13 div.sk-serial {display: flex;flex-direction: column;align-items: center;background-color: white;padding-right: 0.2em;padding-left: 0.2em;position: relative;}#sk-container-id-13 div.sk-item {position: relative;z-index: 1;}#sk-container-id-13 div.sk-parallel {display: flex;align-items: stretch;justify-content: center;background-color: white;position: relative;}#sk-container-id-13 div.sk-item::before, #sk-container-id-13 div.sk-parallel-item::before {content: \"\";position: absolute;border-left: 1px solid gray;box-sizing: border-box;top: 0;bottom: 0;left: 50%;z-index: -1;}#sk-container-id-13 div.sk-parallel-item {display: flex;flex-direction: column;z-index: 1;position: relative;background-color: white;}#sk-container-id-13 div.sk-parallel-item:first-child::after {align-self: flex-end;width: 50%;}#sk-container-id-13 div.sk-parallel-item:last-child::after {align-self: flex-start;width: 50%;}#sk-container-id-13 div.sk-parallel-item:only-child::after {width: 0;}#sk-container-id-13 div.sk-dashed-wrapped {border: 1px dashed gray;margin: 0 0.4em 0.5em 0.4em;box-sizing: border-box;padding-bottom: 0.4em;background-color: white;}#sk-container-id-13 div.sk-label label {font-family: monospace;font-weight: bold;display: inline-block;line-height: 1.2em;}#sk-container-id-13 div.sk-label-container {text-align: center;}#sk-container-id-13 div.sk-container {/* jupyter's `normalize.less` sets `[hidden] { display: none; }` but bootstrap.min.css set `[hidden] { display: none !important; }` so we also need the `!important` here to be able to override the default hidden behavior on the sphinx rendered scikit-learn.org. See: https://github.com/scikit-learn/scikit-learn/issues/21755 */display: inline-block !important;position: relative;}#sk-container-id-13 div.sk-text-repr-fallback {display: none;}</style><div id=\"sk-container-id-13\" class=\"sk-top-container\"><div class=\"sk-text-repr-fallback\"><pre>TfidfTransformer()</pre><b>In a Jupyter environment, please rerun this cell to show the HTML representation or trust the notebook. <br />On GitHub, the HTML representation is unable to render, please try loading this page with nbviewer.org.</b></div><div class=\"sk-container\" hidden><div class=\"sk-item\"><div class=\"sk-estimator sk-toggleable\"><input class=\"sk-toggleable__control sk-hidden--visually\" id=\"sk-estimator-id-13\" type=\"checkbox\" checked><label for=\"sk-estimator-id-13\" class=\"sk-toggleable__label sk-toggleable__label-arrow\">TfidfTransformer</label><div class=\"sk-toggleable__content\"><pre>TfidfTransformer()</pre></div></div></div></div></div>"
      ],
      "text/plain": [
       "TfidfTransformer()"
      ]
     },
     "execution_count": 210,
     "metadata": {},
     "output_type": "execute_result"
    }
   ],
   "source": [
    "tfidf_transformer_bart=TfidfTransformer(smooth_idf=True,use_idf=True) \n",
    "tfidf_transformer_bart.fit(word_count_vector_bart)"
   ]
  },
  {
   "cell_type": "code",
   "execution_count": 211,
   "metadata": {},
   "outputs": [
    {
     "name": "stderr",
     "output_type": "stream",
     "text": [
      "c:\\Users\\gerbk\\anaconda3\\envs\\AML_bidde\\lib\\site-packages\\sklearn\\utils\\deprecation.py:87: FutureWarning: Function get_feature_names is deprecated; get_feature_names is deprecated in 1.0 and will be removed in 1.2. Please use get_feature_names_out instead.\n",
      "  warnings.warn(msg, category=FutureWarning)\n"
     ]
    },
    {
     "data": {
      "text/html": [
       "<div>\n",
       "<style scoped>\n",
       "    .dataframe tbody tr th:only-of-type {\n",
       "        vertical-align: middle;\n",
       "    }\n",
       "\n",
       "    .dataframe tbody tr th {\n",
       "        vertical-align: top;\n",
       "    }\n",
       "\n",
       "    .dataframe thead th {\n",
       "        text-align: right;\n",
       "    }\n",
       "</style>\n",
       "<table border=\"1\" class=\"dataframe\">\n",
       "  <thead>\n",
       "    <tr style=\"text-align: right;\">\n",
       "      <th></th>\n",
       "      <th>idf_weights</th>\n",
       "    </tr>\n",
       "  </thead>\n",
       "  <tbody>\n",
       "    <tr>\n",
       "      <th>nt</th>\n",
       "      <td>4.363370</td>\n",
       "    </tr>\n",
       "    <tr>\n",
       "      <th>dad</th>\n",
       "      <td>4.900871</td>\n",
       "    </tr>\n",
       "    <tr>\n",
       "      <th>hey</th>\n",
       "      <td>5.155541</td>\n",
       "    </tr>\n",
       "    <tr>\n",
       "      <th>oh</th>\n",
       "      <td>5.278453</td>\n",
       "    </tr>\n",
       "    <tr>\n",
       "      <th>got</th>\n",
       "      <td>5.391218</td>\n",
       "    </tr>\n",
       "    <tr>\n",
       "      <th>like</th>\n",
       "      <td>5.473328</td>\n",
       "    </tr>\n",
       "    <tr>\n",
       "      <th>mom</th>\n",
       "      <td>5.541622</td>\n",
       "    </tr>\n",
       "    <tr>\n",
       "      <th>ve</th>\n",
       "      <td>5.634841</td>\n",
       "    </tr>\n",
       "    <tr>\n",
       "      <th>know</th>\n",
       "      <td>5.658097</td>\n",
       "    </tr>\n",
       "    <tr>\n",
       "      <th>yeah</th>\n",
       "      <td>5.786599</td>\n",
       "    </tr>\n",
       "  </tbody>\n",
       "</table>\n",
       "</div>"
      ],
      "text/plain": [
       "      idf_weights\n",
       "nt       4.363370\n",
       "dad      4.900871\n",
       "hey      5.155541\n",
       "oh       5.278453\n",
       "got      5.391218\n",
       "like     5.473328\n",
       "mom      5.541622\n",
       "ve       5.634841\n",
       "know     5.658097\n",
       "yeah     5.786599"
      ]
     },
     "execution_count": 211,
     "metadata": {},
     "output_type": "execute_result"
    }
   ],
   "source": [
    "# print idf values \n",
    "df_idf = pd.DataFrame(tfidf_transformer_bart.idf_, index=cvb.get_feature_names(),columns=[\"idf_weights\"]) \n",
    "# sort ascending \n",
    "df_idf.sort_values(by=['idf_weights']).head(10)"
   ]
  },
  {
   "cell_type": "markdown",
   "metadata": {},
   "source": [
    "Do your results look correct?"
   ]
  },
  {
   "cell_type": "markdown",
   "metadata": {},
   "source": [
    "### Your answer here"
   ]
  },
  {
   "cell_type": "markdown",
   "metadata": {},
   "source": [
    "By using `CountVectorizer` over the concatenation of all character-specific lines, we can then also compute a (non-normalized) document similarity between the lines of Lisa and Bart. Use cosine similarity over the two document vectors to compare the similarity.\n",
    "\n",
    "For the `CountVectorizer`, use the same arguments as before (minimum 5 occurrences and no stop words)."
   ]
  },
  {
   "cell_type": "code",
   "execution_count": 214,
   "metadata": {},
   "outputs": [
    {
     "name": "stdout",
     "output_type": "stream",
     "text": [
      "Similarity of two sentences are equal to  90.66 %\n"
     ]
    },
    {
     "data": {
      "text/plain": [
       "0.0933758301927079"
      ]
     },
     "execution_count": 214,
     "metadata": {},
     "output_type": "execute_result"
    }
   ],
   "source": [
    "from sklearn.metrics.pairwise import cosine_similarity\n",
    "from scipy.spatial import distance\n",
    "\n",
    "\n",
    "def cosine_distance_countvectorizer_method(s1, s2):\n",
    "    \n",
    "    # sentences to list\n",
    "    allsentences = [s1 , s2]\n",
    " \n",
    "    # text to vector\n",
    "    vectorizer = CountVectorizer()\n",
    "    all_sentences_to_vector = vectorizer.fit_transform(allsentences)\n",
    "    text_to_vector_v1 = all_sentences_to_vector.toarray()[0].tolist()\n",
    "    text_to_vector_v2 = all_sentences_to_vector.toarray()[1].tolist()\n",
    "    \n",
    "    # distance of similarity\n",
    "    cosine = distance.cosine(text_to_vector_v1, text_to_vector_v2)\n",
    "    print('Similarity of two sentences are equal to ',round((1-cosine)*100,2),'%')\n",
    "    return cosine\n",
    "\n",
    "cosine_distance_countvectorizer_method(' '.join(Lisa_List), ' '.join(Bart_List))"
   ]
  },
  {
   "cell_type": "markdown",
   "metadata": {},
   "source": [
    "### 6. NNMF Topics (5 points)\n",
    "\n",
    "Uncover interesting topics by using non-negative matrix factorization (NNMF or NMF).\n",
    "\n",
    "Use the `NMF` implementation from `sklearn` to detect the topics in the scripts, and use text cleaning steps similar to the first task. However, this time perform no lemmatization:\n",
    "- Use spaCy (`en_core_web_sm`) to process all text.\n",
    "- Additionally, ignore any token that is classified as punctuation by spaCy.\n",
    "- Also skip any token which is classified as a stop word by spaCy.\n",
    "\n",
    "Set the `max_features` of `CountVectorizer` to 10,000 and `random_state` of the `NMF` to 42, and `n_components=10`."
   ]
  },
  {
   "cell_type": "code",
   "execution_count": 20,
   "metadata": {},
   "outputs": [],
   "source": [
    "from sklearn.decomposition import NMF "
   ]
  },
  {
   "cell_type": "code",
   "execution_count": null,
   "metadata": {},
   "outputs": [],
   "source": [
    "# Clean the documents according to the specifications"
   ]
  },
  {
   "cell_type": "code",
   "execution_count": null,
   "metadata": {},
   "outputs": [],
   "source": [
    "# Apply the NNMF method as specified above"
   ]
  },
  {
   "cell_type": "code",
   "execution_count": 22,
   "metadata": {},
   "outputs": [],
   "source": [
    "def show_topics(components,num_top_words,vocab):\n",
    "    #for each component or topic sorts the row values from large to small and \n",
    "    # returns the top words as the representation of the topic.\n",
    "    top_words = lambda t: [vocab[i] for i in np.argsort(t)[:-num_top_words-1:-1]]\n",
    "    topic_words = ([top_words(t) for t in components])\n",
    "    return [' '.join(t) for t in topic_words]"
   ]
  },
  {
   "cell_type": "markdown",
   "metadata": {},
   "source": [
    "Use the `show_topics` method to show the top-20 words for the top 2 topics."
   ]
  },
  {
   "cell_type": "code",
   "execution_count": null,
   "metadata": {},
   "outputs": [],
   "source": [
    "### Your code"
   ]
  },
  {
   "cell_type": "markdown",
   "metadata": {},
   "source": [
    "## Question 2-2: Boosting results in Elasticsearch (1 + 9 + 2 = 12 points)\n",
    "\n",
    "Before you start, make sure to download the file `test_data.json`, available on [Moodle](https://moodle.uni-heidelberg.de/pluginfile.php/1006481/mod_label/intro/test-data.json). This question assumes you have a running installation of Elasticsearch 7.X on your machine. If not, make sure to follow the steps detailed in the first tutorial to set up an instance. To complete the following questions, you will have to adjust the given URLs with your own settings. Look out for mentions of `<login>`, `<password>` and `<port>` and replace them accordingly."
   ]
  },
  {
   "cell_type": "markdown",
   "metadata": {},
   "source": [
    "Bulk load the content of `test_data.json` into an index called `dishes`. You may use the following shell command:\n",
    "\n",
    "```bash\n",
    "curl -u <login>:<password> -H \"Content-Type:application/x-ndjson\" -XPOST http://localhost:<port>/dishes/_bulk --data-binary \"@test_data.json\"\n",
    "```\n",
    "1. Provide a command to extract the dynamic mapping that is created in this scenario. Make sure that the output mapping is included in your solution (potentially pasting it into another cell or execute through the )."
   ]
  },
  {
   "cell_type": "markdown",
   "metadata": {},
   "source": [
    "### Insert your answer here\n",
    "Hint: Consider using the option `?pretty` for legible outputs"
   ]
  },
  {
   "cell_type": "markdown",
   "metadata": {},
   "source": [
    "2. Write queries to the `dishes` index given the specified criteria. The matching documents should be included in your solution, including their respective scores."
   ]
  },
  {
   "cell_type": "markdown",
   "metadata": {},
   "source": [
    "a) Return all dishes that have a preparation time of less than 15 minutes"
   ]
  },
  {
   "cell_type": "markdown",
   "metadata": {},
   "source": [
    "### Insert your answer here"
   ]
  },
  {
   "cell_type": "markdown",
   "metadata": {},
   "source": [
    "b) All dishes that contain `spaghetti` in the title."
   ]
  },
  {
   "cell_type": "markdown",
   "metadata": {},
   "source": [
    "### Insert your answer here"
   ]
  },
  {
   "cell_type": "markdown",
   "metadata": {},
   "source": [
    "c) All dishes that received at least one 5-star rating and were created after 2016."
   ]
  },
  {
   "cell_type": "markdown",
   "metadata": {},
   "source": [
    "### Insert your answer here"
   ]
  },
  {
   "cell_type": "markdown",
   "metadata": {},
   "source": [
    "d) Dishes that serve between 6 to 8 people."
   ]
  },
  {
   "cell_type": "markdown",
   "metadata": {},
   "source": [
    "### Insert your answer here"
   ]
  },
  {
   "cell_type": "markdown",
   "metadata": {},
   "source": [
    "e) Dishes that mention both of the phrases \"pasta\" and \"parmigiano\" in the instructions."
   ]
  },
  {
   "cell_type": "markdown",
   "metadata": {},
   "source": [
    "### Insert your answer here"
   ]
  },
  {
   "cell_type": "markdown",
   "metadata": {},
   "source": [
    "f) All recipes that require more than 10 ingredients"
   ]
  },
  {
   "cell_type": "markdown",
   "metadata": {},
   "source": [
    "### Insert your answer here"
   ]
  },
  {
   "cell_type": "markdown",
   "metadata": {},
   "source": [
    "g) Extend your query from b), such that it searches for `spaghetti` in both the title *and* description field. Occurrences in the title field should be boosted by a factor of 3."
   ]
  },
  {
   "cell_type": "markdown",
   "metadata": {},
   "source": [
    "### Insert your answer here"
   ]
  },
  {
   "cell_type": "markdown",
   "metadata": {},
   "source": [
    "3. The default analyzer might not be perfect for working with recipe data. Provide the definition of a custom analyzer which adheres to the following specifications:\n",
    "   \n",
    "   - It performs *no* stop word filtering.\n",
    "   - It applies stemming to all tokens.\n",
    "   - It does *not* lowercase tokens, but keeps the original case of letters."
   ]
  },
  {
   "cell_type": "markdown",
   "metadata": {},
   "source": [
    "### Insert your answer here"
   ]
  },
  {
   "cell_type": "markdown",
   "metadata": {},
   "source": [
    "## Question 2-3: Document Representations (2 + 2 + 3 = 7 points)\n",
    "\n",
    "Please fill out the answers directly in the provided fields."
   ]
  },
  {
   "cell_type": "markdown",
   "metadata": {},
   "source": [
    "#### a) Why is it preferable to use cosine distance over Euclidean distance when computing document similarity?"
   ]
  },
  {
   "cell_type": "markdown",
   "metadata": {},
   "source": [
    "Answer:"
   ]
  },
  {
   "cell_type": "markdown",
   "metadata": {},
   "source": [
    "#### b) Identify two shortcomings of Bag-of-Word-based document representations"
   ]
  },
  {
   "cell_type": "markdown",
   "metadata": {},
   "source": [
    "Answer:"
   ]
  },
  {
   "cell_type": "markdown",
   "metadata": {},
   "source": [
    "#### c) Find the singular value decomposition of the following matrix:\n",
    "\n",
    "$A = \\left[ \\begin{matrix}1&-1\\\\ -2&2\\\\ 2&-2\\end{matrix} \\right]$.\n"
   ]
  },
  {
   "cell_type": "markdown",
   "metadata": {},
   "source": [
    "Answer:"
   ]
  },
  {
   "cell_type": "markdown",
   "metadata": {},
   "source": []
  }
 ],
 "metadata": {
  "kernelspec": {
   "display_name": "Python 3.10.4 ('AML_bidde')",
   "language": "python",
   "name": "python3"
  },
  "language_info": {
   "codemirror_mode": {
    "name": "ipython",
    "version": 3
   },
   "file_extension": ".py",
   "mimetype": "text/x-python",
   "name": "python",
   "nbconvert_exporter": "python",
   "pygments_lexer": "ipython3",
   "version": "3.10.8"
  },
  "orig_nbformat": 4,
  "vscode": {
   "interpreter": {
    "hash": "6b52411e3314414b702c5686635835232cca674170cc7878c1cad8ba3f5f04eb"
   }
  }
 },
 "nbformat": 4,
 "nbformat_minor": 2
}
