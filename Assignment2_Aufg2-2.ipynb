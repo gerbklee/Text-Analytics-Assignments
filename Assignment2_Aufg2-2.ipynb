{
 "cells": [
  {
   "cell_type": "markdown",
   "metadata": {},
   "source": [
    "# Assignment 2: Elasticsearch and Text Mining\n",
    "\n",
    "Due: Monday, December 12, 2022, at 2pm via Moodle\n",
    "\n",
    "**Team Members** `<Fill out>`"
   ]
  },
  {
   "cell_type": "markdown",
   "metadata": {},
   "source": [
    "### Submission Guidelines\n",
    "\n",
    "- Solutions need to be uploaded as a single Jupyter notebook. You will find this notebook contains some pre-filled cells that you should complete for the individual tasks.\n",
    "- For answers requiring written solutions, use Markdown cells (in combination with Jupyter LaTeX support) **inside this notebook**. Do *not* hand in any separate files, simply re-upload the `.ipynb` file.\n",
    "- Download the .zip file containing the dataset but do *not* upload it with your solution.\n",
    "- Make sure that the names of all team members are present in the solution."
   ]
  },
  {
   "cell_type": "code",
   "execution_count": 4,
   "metadata": {},
   "outputs": [
    {
     "name": "stdout",
     "output_type": "stream",
     "text": [
      "Requirement already satisfied: pandas in /home/dennis/anaconda3/lib/python3.9/site-packages (from -r requirements.txt (line 1)) (1.4.2)\n",
      "Requirement already satisfied: numpy in /home/dennis/anaconda3/lib/python3.9/site-packages (from -r requirements.txt (line 2)) (1.21.5)\n",
      "Requirement already satisfied: matplotlib in /home/dennis/anaconda3/lib/python3.9/site-packages (from -r requirements.txt (line 3)) (3.5.1)\n",
      "Requirement already satisfied: python-dateutil>=2.8.1 in /home/dennis/anaconda3/lib/python3.9/site-packages (from pandas->-r requirements.txt (line 1)) (2.8.2)\n",
      "Requirement already satisfied: pytz>=2020.1 in /home/dennis/anaconda3/lib/python3.9/site-packages (from pandas->-r requirements.txt (line 1)) (2021.3)\n",
      "Requirement already satisfied: packaging>=20.0 in /home/dennis/anaconda3/lib/python3.9/site-packages (from matplotlib->-r requirements.txt (line 3)) (21.3)\n",
      "Requirement already satisfied: fonttools>=4.22.0 in /home/dennis/anaconda3/lib/python3.9/site-packages (from matplotlib->-r requirements.txt (line 3)) (4.25.0)\n",
      "Requirement already satisfied: kiwisolver>=1.0.1 in /home/dennis/anaconda3/lib/python3.9/site-packages (from matplotlib->-r requirements.txt (line 3)) (1.3.2)\n",
      "Requirement already satisfied: pillow>=6.2.0 in /home/dennis/anaconda3/lib/python3.9/site-packages (from matplotlib->-r requirements.txt (line 3)) (9.2.0)\n",
      "Requirement already satisfied: cycler>=0.10 in /home/dennis/anaconda3/lib/python3.9/site-packages (from matplotlib->-r requirements.txt (line 3)) (0.11.0)\n",
      "Requirement already satisfied: pyparsing>=2.2.1 in /home/dennis/anaconda3/lib/python3.9/site-packages (from matplotlib->-r requirements.txt (line 3)) (3.0.4)\n",
      "Requirement already satisfied: six>=1.5 in /home/dennis/anaconda3/lib/python3.9/site-packages (from python-dateutil>=2.8.1->pandas->-r requirements.txt (line 1)) (1.16.0)\n"
     ]
    }
   ],
   "source": [
    "%%bash\n",
    ". ~/.bashrc\n",
    "python3 -m pip install -r requirements.txt\n",
    "# Install necessary packages"
   ]
  },
  {
   "cell_type": "code",
   "execution_count": 13,
   "metadata": {},
   "outputs": [
    {
     "name": "stderr",
     "output_type": "stream",
     "text": [
      "bash: line 1: ./: Is a directory\n"
     ]
    },
    {
     "name": "stdout",
     "output_type": "stream",
     "text": [
      "Collecting en-core-web-sm==3.4.1\n",
      "  Downloading https://github.com/explosion/spacy-models/releases/download/en_core_web_sm-3.4.1/en_core_web_sm-3.4.1-py3-none-any.whl (12.8 MB)\n",
      "Requirement already satisfied: spacy<3.5.0,>=3.4.0 in /home/dennis/anaconda3/lib/python3.9/site-packages (from en-core-web-sm==3.4.1) (3.4.1)\n",
      "Requirement already satisfied: tqdm<5.0.0,>=4.38.0 in /home/dennis/anaconda3/lib/python3.9/site-packages (from spacy<3.5.0,>=3.4.0->en-core-web-sm==3.4.1) (4.64.0)\n",
      "Requirement already satisfied: spacy-legacy<3.1.0,>=3.0.9 in /home/dennis/anaconda3/lib/python3.9/site-packages (from spacy<3.5.0,>=3.4.0->en-core-web-sm==3.4.1) (3.0.9)\n",
      "Requirement already satisfied: cymem<2.1.0,>=2.0.2 in /home/dennis/anaconda3/lib/python3.9/site-packages (from spacy<3.5.0,>=3.4.0->en-core-web-sm==3.4.1) (2.0.6)\n",
      "Requirement already satisfied: typer<0.5.0,>=0.3.0 in /home/dennis/anaconda3/lib/python3.9/site-packages (from spacy<3.5.0,>=3.4.0->en-core-web-sm==3.4.1) (0.4.0)\n",
      "Requirement already satisfied: wasabi<1.1.0,>=0.9.1 in /home/dennis/anaconda3/lib/python3.9/site-packages (from spacy<3.5.0,>=3.4.0->en-core-web-sm==3.4.1) (0.9.1)\n",
      "Requirement already satisfied: setuptools in /home/dennis/anaconda3/lib/python3.9/site-packages (from spacy<3.5.0,>=3.4.0->en-core-web-sm==3.4.1) (61.2.0)\n",
      "Requirement already satisfied: langcodes<4.0.0,>=3.2.0 in /home/dennis/anaconda3/lib/python3.9/site-packages (from spacy<3.5.0,>=3.4.0->en-core-web-sm==3.4.1) (3.3.0)\n",
      "Requirement already satisfied: murmurhash<1.1.0,>=0.28.0 in /home/dennis/anaconda3/lib/python3.9/site-packages (from spacy<3.5.0,>=3.4.0->en-core-web-sm==3.4.1) (1.0.6)\n",
      "Requirement already satisfied: pydantic!=1.8,!=1.8.1,<1.10.0,>=1.7.4 in /home/dennis/anaconda3/lib/python3.9/site-packages (from spacy<3.5.0,>=3.4.0->en-core-web-sm==3.4.1) (1.8.2)\n",
      "Requirement already satisfied: requests<3.0.0,>=2.13.0 in /home/dennis/anaconda3/lib/python3.9/site-packages (from spacy<3.5.0,>=3.4.0->en-core-web-sm==3.4.1) (2.27.1)\n",
      "Requirement already satisfied: catalogue<2.1.0,>=2.0.6 in /home/dennis/anaconda3/lib/python3.9/site-packages (from spacy<3.5.0,>=3.4.0->en-core-web-sm==3.4.1) (2.0.6)\n",
      "Requirement already satisfied: numpy>=1.15.0 in /home/dennis/anaconda3/lib/python3.9/site-packages (from spacy<3.5.0,>=3.4.0->en-core-web-sm==3.4.1) (1.21.5)\n",
      "Requirement already satisfied: thinc<8.2.0,>=8.1.0 in /home/dennis/anaconda3/lib/python3.9/site-packages (from spacy<3.5.0,>=3.4.0->en-core-web-sm==3.4.1) (8.1.4)\n",
      "Requirement already satisfied: packaging>=20.0 in /home/dennis/anaconda3/lib/python3.9/site-packages (from spacy<3.5.0,>=3.4.0->en-core-web-sm==3.4.1) (21.3)\n",
      "Requirement already satisfied: srsly<3.0.0,>=2.4.3 in /home/dennis/anaconda3/lib/python3.9/site-packages (from spacy<3.5.0,>=3.4.0->en-core-web-sm==3.4.1) (2.4.3)\n",
      "Requirement already satisfied: preshed<3.1.0,>=3.0.2 in /home/dennis/anaconda3/lib/python3.9/site-packages (from spacy<3.5.0,>=3.4.0->en-core-web-sm==3.4.1) (3.0.6)\n",
      "Requirement already satisfied: pathy>=0.3.5 in /home/dennis/anaconda3/lib/python3.9/site-packages (from spacy<3.5.0,>=3.4.0->en-core-web-sm==3.4.1) (0.6.1)\n",
      "Requirement already satisfied: spacy-loggers<2.0.0,>=1.0.0 in /home/dennis/anaconda3/lib/python3.9/site-packages (from spacy<3.5.0,>=3.4.0->en-core-web-sm==3.4.1) (1.0.1)\n",
      "Requirement already satisfied: jinja2 in /home/dennis/anaconda3/lib/python3.9/site-packages (from spacy<3.5.0,>=3.4.0->en-core-web-sm==3.4.1) (3.0.3)\n",
      "Requirement already satisfied: pyparsing!=3.0.5,>=2.0.2 in /home/dennis/anaconda3/lib/python3.9/site-packages (from packaging>=20.0->spacy<3.5.0,>=3.4.0->en-core-web-sm==3.4.1) (3.0.4)\n",
      "Requirement already satisfied: smart-open<6.0.0,>=5.0.0 in /home/dennis/anaconda3/lib/python3.9/site-packages (from pathy>=0.3.5->spacy<3.5.0,>=3.4.0->en-core-web-sm==3.4.1) (5.2.1)\n",
      "Requirement already satisfied: typing-extensions>=3.7.4.3 in /home/dennis/anaconda3/lib/python3.9/site-packages (from pydantic!=1.8,!=1.8.1,<1.10.0,>=1.7.4->spacy<3.5.0,>=3.4.0->en-core-web-sm==3.4.1) (4.1.1)\n",
      "Requirement already satisfied: certifi>=2017.4.17 in /home/dennis/anaconda3/lib/python3.9/site-packages (from requests<3.0.0,>=2.13.0->spacy<3.5.0,>=3.4.0->en-core-web-sm==3.4.1) (2021.10.8)\n",
      "Requirement already satisfied: charset-normalizer~=2.0.0 in /home/dennis/anaconda3/lib/python3.9/site-packages (from requests<3.0.0,>=2.13.0->spacy<3.5.0,>=3.4.0->en-core-web-sm==3.4.1) (2.0.4)\n",
      "Requirement already satisfied: idna<4,>=2.5 in /home/dennis/anaconda3/lib/python3.9/site-packages (from requests<3.0.0,>=2.13.0->spacy<3.5.0,>=3.4.0->en-core-web-sm==3.4.1) (3.3)\n",
      "Requirement already satisfied: urllib3<1.27,>=1.21.1 in /home/dennis/anaconda3/lib/python3.9/site-packages (from requests<3.0.0,>=2.13.0->spacy<3.5.0,>=3.4.0->en-core-web-sm==3.4.1) (1.26.9)\n",
      "Requirement already satisfied: blis<0.8.0,>=0.7.8 in /home/dennis/anaconda3/lib/python3.9/site-packages (from thinc<8.2.0,>=8.1.0->spacy<3.5.0,>=3.4.0->en-core-web-sm==3.4.1) (0.7.9)\n",
      "Requirement already satisfied: confection<1.0.0,>=0.0.1 in /home/dennis/anaconda3/lib/python3.9/site-packages (from thinc<8.2.0,>=8.1.0->spacy<3.5.0,>=3.4.0->en-core-web-sm==3.4.1) (0.0.3)\n",
      "Requirement already satisfied: click<9.0.0,>=7.1.1 in /home/dennis/anaconda3/lib/python3.9/site-packages (from typer<0.5.0,>=0.3.0->spacy<3.5.0,>=3.4.0->en-core-web-sm==3.4.1) (8.0.4)\n",
      "Requirement already satisfied: MarkupSafe>=2.0 in /home/dennis/anaconda3/lib/python3.9/site-packages (from jinja2->spacy<3.5.0,>=3.4.0->en-core-web-sm==3.4.1) (2.1.0)\n",
      "Installing collected packages: en-core-web-sm\n",
      "  Attempting uninstall: en-core-web-sm\n",
      "    Found existing installation: en-core-web-sm 3.4.0\n",
      "    Uninstalling en-core-web-sm-3.4.0:\n",
      "      Successfully uninstalled en-core-web-sm-3.4.0\n",
      "Successfully installed en-core-web-sm-3.4.1\n",
      "\u001b[38;5;2m✔ Download and installation successful\u001b[0m\n",
      "You can now load the package via spacy.load('en_core_web_sm')\n"
     ]
    }
   ],
   "source": [
    "%%bash\n",
    "./ ~/.bashrc\n",
    "python3 -m spacy download en_core_web_sm\n",
    "# Install required language model for spaCy"
   ]
  },
  {
   "cell_type": "markdown",
   "metadata": {},
   "source": [
    "\n",
    "## Question 2-1: \"The Simpsons\" Dataset (1 + 4 + 3 + 2 + 6 + 5 = 21 points)"
   ]
  },
  {
   "cell_type": "markdown",
   "metadata": {},
   "source": [
    "\"The Simpsons\" is the world’s longest-running animated sitcom. The show revolves around the lives of the Simpson family, which consists of Homer, Marge, Bart, Lisa, and the little Maggi.\n",
    "For this exercise, you will work with the dataset that contains characters, locations, episode details, and script lines for approximately 600 Simpsons episodes, dating back to 1989.\n",
    "We will explore the data and use visualizations to gain some insight into the show. The Zip file alongside this notebook should contain the following files:\n",
    "\n",
    "` simpsons_characters.csv, simpsons_locations.csv, simpsons_script_lines.csv, simpsons_episodes.csv`\n",
    "\n",
    "Take some time and familiarize yourself with the data. `simpsons_characters.csv` contains the character-names and their gender.\n",
    "`simpsons_locations.csv` contains information about locations in the shows, and `simpsons_episodes.csv` has information about each episode including their title, rating, and views.\n",
    "Finally, `simpsons_script_lines.csv` lists all the lines in the show, who said the line and where it was said. Be aware that this data set is not cleaned and, hence, includes faulty data as well as inconsistent data types."
   ]
  },
  {
   "cell_type": "code",
   "execution_count": 8,
   "metadata": {},
   "outputs": [],
   "source": [
    "# General imports\n",
    "import os\n",
    "\n",
    "import pandas as pd\n",
    "import numpy as np\n",
    "import spacy\n",
    "import matplotlib\n",
    "from wordcloud import WordCloud\n",
    "from matplotlib import pyplot as plt\n",
    "\n",
    "# Ensure matplotlib works correctly with Jupyter\n",
    "%matplotlib inline"
   ]
  },
  {
   "cell_type": "markdown",
   "metadata": {},
   "source": [
    "### 1. Data Loading (1 point)\n",
    "Load the four datasets in the respective variables using pandas, and make sure to set the type of the `character_id` to integer."
   ]
  },
  {
   "cell_type": "code",
   "execution_count": null,
   "metadata": {},
   "outputs": [],
   "source": [
    "df_characters = ### Your code\n",
    "df_locations = ### Your code\n",
    "df_script = ### Your code\n",
    "df_episodes = ### Your code"
   ]
  },
  {
   "cell_type": "markdown",
   "metadata": {},
   "source": [
    "Drop all lines associated with the (non-numeric) character ID `142024`."
   ]
  },
  {
   "cell_type": "code",
   "execution_count": 9,
   "metadata": {},
   "outputs": [],
   "source": [
    "### Your code"
   ]
  },
  {
   "cell_type": "markdown",
   "metadata": {},
   "source": [
    "Next, use panda's `.head()` function to inspect the top rows of each dataframe."
   ]
  },
  {
   "cell_type": "code",
   "execution_count": 10,
   "metadata": {},
   "outputs": [],
   "source": [
    "### Your code"
   ]
  },
  {
   "cell_type": "markdown",
   "metadata": {},
   "source": [
    "### 2. Prominent Characters (4 points)\n",
    "\n",
    "Let us now take a look at the most important characters of the show. To start, retrieve the most prominent characters by the number of spoken words/lines throughout the show. \n",
    "\n",
    "Extract the top 10 characters based on the number of spoken words (word count), as well as the 10 most prominent characters regarding their sum total number of lines.\n",
    "\n",
    "You might notice that there is a column with `word_count` in the `df_scripts` data frame, but cleaning it up might be tricky. To find the sum of all values, first remove the `nan` entries and any other string characters in that column. You can use the provided `conv` function for this."
   ]
  },
  {
   "cell_type": "code",
   "execution_count": null,
   "metadata": {},
   "outputs": [],
   "source": [
    "def conv(row):\n",
    "    try:\n",
    "        return int(row)\n",
    "    except:\n",
    "        return np.nan\n",
    "# First apply the conv() filtering on the word count\n",
    "df_script[\"word_count\"] = ### Your code ###\n",
    "# And then drop all `nan` values in \"word_count\"\n",
    "# Hint: Make sure the operation is done in-place.\n",
    "### Your code ###"
   ]
  },
  {
   "cell_type": "code",
   "execution_count": null,
   "metadata": {},
   "outputs": [],
   "source": [
    "# Now aggregate the top characters by words:\n",
    "top_characters_by_words = ### your code\n",
    "\n",
    "# And do the same by lines:\n",
    "top_characters_by_lines = ### your code"
   ]
  },
  {
   "cell_type": "markdown",
   "metadata": {},
   "source": [
    "\n",
    "Compare both results by drawing two bar plots: For the first plot, the x-axis should show the name of the top 10 characters with regard to the word count and the y-axis should display the number of spoken words.\n",
    "\n",
    "In the second plot, you should do the same, but this time considering the number of lines (not words) for each character. Note that the characters shown in the two plots might differ.\n"
   ]
  },
  {
   "cell_type": "code",
   "execution_count": 11,
   "metadata": {},
   "outputs": [],
   "source": [
    "# First plot: Top 10 characters by word count\n",
    "# Hint: Try to use the integration of matplotlib and pandas to directly plot from a dataframe."
   ]
  },
  {
   "cell_type": "code",
   "execution_count": 12,
   "metadata": {},
   "outputs": [],
   "source": [
    "# Second plot: Top 10 characters by lines"
   ]
  },
  {
   "cell_type": "markdown",
   "metadata": {},
   "source": [
    "Compare the results of the two plots: What do you notice? Do the results look correct to you?\n",
    "\n",
    "### Your answer here"
   ]
  },
  {
   "cell_type": "markdown",
   "metadata": {},
   "source": [
    "### 3. Common Words (3 points)\n",
    "\n",
    "We continue by examining the dialogues in more detail, by looking at the top 20 most commonly appearing words (tokens).\n",
    "\n",
    "To generate a meaningful output, use the following pre-processing pipeline, parts of which were explained in more detail during the tutorials and the lecture:\n",
    "- Use spaCy (`en_core_web_sm`) to process all text.\n",
    "- Instead of considering the raw text, use the lemmatized token provided by spaCy.\n",
    "- Additionally, ignore any token that is classified as punctuation by spaCy.\n",
    "- Also skip any token which is classified as a stop word by spaCy."
   ]
  },
  {
   "cell_type": "code",
   "execution_count": 14,
   "metadata": {},
   "outputs": [
    {
     "ename": "SyntaxError",
     "evalue": "invalid syntax (4292105624.py, line 2)",
     "output_type": "error",
     "traceback": [
      "\u001b[0;36m  Input \u001b[0;32mIn [14]\u001b[0;36m\u001b[0m\n\u001b[0;31m    nlp = spacy.###Your code here\u001b[0m\n\u001b[0m                ^\u001b[0m\n\u001b[0;31mSyntaxError\u001b[0m\u001b[0;31m:\u001b[0m invalid syntax\n"
     ]
    }
   ],
   "source": [
    "# Load the spacy model specified above. Make sure to disable the \"ner\" component for more speed.\n",
    "nlp = spacy.###Your code here\n",
    "\n",
    "word_list =[]\n",
    "\n",
    "# Iterate over the spoken words (Hint: df_script) and append the lemmatized tokens as detailed above\n",
    "### Your code here\n",
    "\n",
    "\n",
    "word_counter = Counter(word_list)\n",
    "counter.most_common(20)"
   ]
  },
  {
   "cell_type": "markdown",
   "metadata": {},
   "source": [
    "Now plot a graph with the top 20 words on the x-axis and their respective frequencies on the y-axis, similar to the previous question."
   ]
  },
  {
   "cell_type": "code",
   "execution_count": 16,
   "metadata": {},
   "outputs": [],
   "source": [
    "# Provide a plot of the frequencies of the most common 20 words."
   ]
  },
  {
   "cell_type": "markdown",
   "metadata": {},
   "source": [
    "### 4. Named Entity Wordcloud (2 points)\n",
    "\n",
    "Apply named entity recognition (NER) using SpaCy and generate a word cloud of the most commonly appearing 50\n",
    "named entities that have the type `PERSON`. Visualize the resulting entities in a word cloud.\n",
    "Take into account that you cannot simply use the \n",
    "output of the previous task, since NER was explicitly disabled.\n",
    " Since the named entity recognition takes quite some time, use only the first `10000` scripts."
   ]
  },
  {
   "cell_type": "code",
   "execution_count": null,
   "metadata": {},
   "outputs": [],
   "source": [
    "# Load the English spacy model again, but this time do not disable the NER module.\n",
    "nlp = ### Your code\n",
    "\n",
    "# Extract named entities of the type \"PERSON\" from each script.\n",
    "for script in df_script.spoken_words.tolist()[:10000]:\n",
    "    ### Your code"
   ]
  },
  {
   "cell_type": "markdown",
   "metadata": {},
   "source": [
    "To visualize the word cloud, you may use the `wordcloud` package, which works in combination with `matplotlib`. Make sure to limit the number of visible words to 50, and the maximum font size to 60."
   ]
  },
  {
   "cell_type": "code",
   "execution_count": null,
   "metadata": {},
   "outputs": [],
   "source": [
    "# Create matplotlib skeleton for word cloud figure\n",
    "fig = plt.figure(1, figsize=(12,12))\n",
    "plt.axes(\"off\")\n",
    "\n",
    "cloud = ### Your code\n",
    "\n",
    "plt.imshow(cloud, interpolation=\"bilinear\")"
   ]
  },
  {
   "cell_type": "markdown",
   "metadata": {},
   "source": [
    "### 5. Normalized Word Importance with TF-IDF (6 points)\n",
    "\n",
    "The top words so far seem not too informative. We wish to find out the importance of particular words for specific characters, by looking at normalized frequency counts.\n",
    "As an example, we expect the younger Simpson family members to exhibit a disproportionate frequency for the word \"mom\" or \"dad\", compared to other characters.\n",
    "\n",
    "We looked at the normalization through Term Frequency - Inverse Document Frequency (TF-IDF) in the lecture, which we will use here to investigate lines by `Lisa Simpson` and `Bart Simpson`.\n",
    "\n",
    "In this case, each script line is a document for a certain character who spoke the words.\n",
    "Use `CountVectorizer` and `TfidfTransformers` from the `scikit-learn` library. In addition, filter out stop words and words with a frequency of less than 5 occurrences from the analysis. Then plot the TF-IDF values for the top 10 words for Lisa and Bart as bar plots."
   ]
  },
  {
   "cell_type": "code",
   "execution_count": null,
   "metadata": {},
   "outputs": [],
   "source": [
    "from sklearn.feature_extraction.text import CountVectorizer\n",
    "from sklearn.feature_extraction.text import TfidfTransformer\n",
    "\n",
    "### Your code"
   ]
  },
  {
   "cell_type": "code",
   "execution_count": null,
   "metadata": {},
   "outputs": [],
   "source": [
    "# Plot the top 10 occurrences, weighted by TF-IDF."
   ]
  },
  {
   "cell_type": "markdown",
   "metadata": {},
   "source": [
    "Do your results look correct?"
   ]
  },
  {
   "cell_type": "markdown",
   "metadata": {},
   "source": [
    "### Your answer here"
   ]
  },
  {
   "cell_type": "markdown",
   "metadata": {},
   "source": [
    "By using `CountVectorizer` over the concatenation of all character-specific lines, we can then also compute a (non-normalized) document similarity between the lines of Lisa and Bart. Use cosine similarity over the two document vectors to compare the similarity.\n",
    "\n",
    "For the `CountVectorizer`, use the same arguments as before (minimum 5 occurrences and no stop words)."
   ]
  },
  {
   "cell_type": "code",
   "execution_count": 18,
   "metadata": {},
   "outputs": [],
   "source": [
    "from sklearn.metrics.pairwise import cosine_similarity\n",
    "\n",
    "### Your code"
   ]
  },
  {
   "cell_type": "markdown",
   "metadata": {},
   "source": [
    "### 6. NNMF Topics (5 points)\n",
    "\n",
    "Uncover interesting topics by using non-negative matrix factorization (NNMF or NMF).\n",
    "\n",
    "Use the `NMF` implementation from `sklearn` to detect the topics in the scripts, and use text cleaning steps similar to the first task. However, this time perform no lemmatization:\n",
    "- Use spaCy (`en_core_web_sm`) to process all text.\n",
    "- Additionally, ignore any token that is classified as punctuation by spaCy.\n",
    "- Also skip any token which is classified as a stop word by spaCy.\n",
    "\n",
    "Set the `max_features` of `CountVectorizer` to 10,000 and `random_state` of the `NMF` to 42, and `n_components=10`."
   ]
  },
  {
   "cell_type": "code",
   "execution_count": 20,
   "metadata": {},
   "outputs": [],
   "source": [
    "from sklearn.decomposition import NMF "
   ]
  },
  {
   "cell_type": "code",
   "execution_count": null,
   "metadata": {},
   "outputs": [],
   "source": [
    "# Clean the documents according to the specifications"
   ]
  },
  {
   "cell_type": "code",
   "execution_count": null,
   "metadata": {},
   "outputs": [],
   "source": [
    "# Apply the NNMF method as specified above"
   ]
  },
  {
   "cell_type": "code",
   "execution_count": 22,
   "metadata": {},
   "outputs": [],
   "source": [
    "def show_topics(components,num_top_words,vocab):\n",
    "    #for each component or topic sorts the row values from large to small and \n",
    "    # returns the top words as the representation of the topic.\n",
    "    top_words = lambda t: [vocab[i] for i in np.argsort(t)[:-num_top_words-1:-1]]\n",
    "    topic_words = ([top_words(t) for t in components])\n",
    "    return [' '.join(t) for t in topic_words]"
   ]
  },
  {
   "cell_type": "markdown",
   "metadata": {},
   "source": [
    "Use the `show_topics` method to show the top-20 words for the top 2 topics."
   ]
  },
  {
   "cell_type": "code",
   "execution_count": null,
   "metadata": {},
   "outputs": [],
   "source": [
    "### Your code"
   ]
  },
  {
   "cell_type": "markdown",
   "metadata": {},
   "source": [
    "## Question 2-2: Boosting results in Elasticsearch (1 + 9 + 2 = 12 points)\n",
    "\n",
    "Before you start, make sure to download the file `test_data.json`, available on [Moodle](https://moodle.uni-heidelberg.de/pluginfile.php/1006481/mod_label/intro/test-data.json). This question assumes you have a running installation of Elasticsearch 7.X on your machine. If not, make sure to follow the steps detailed in the first tutorial to set up an instance. To complete the following questions, you will have to adjust the given URLs with your own settings. Look out for mentions of `<login>`, `<password>` and `<port>` and replace them accordingly."
   ]
  },
  {
   "cell_type": "markdown",
   "metadata": {},
   "source": [
    "Bulk load the content of `test_data.json` into an index called `dishes`. You may use the following shell command:\n",
    "\n",
    "```bash\n",
    "curl -u <login>:<password> -H \"Content-Type:application/x-ndjson\" -XPOST http://localhost:<port>/dishes/_bulk --data-binary \"@test_data.json\"\n",
    "```\n",
    "1. Provide a command to extract the dynamic mapping that is created in this scenario. Make sure that the output mapping is included in your solution (potentially pasting it into another cell or execute through the )."
   ]
  },
  {
   "cell_type": "markdown",
   "metadata": {},
   "source": [
    "### Insert your answer here\n",
    "Hint: Consider using the option `?pretty` for legible outputs\n",
    "\n",
    "GET /dishes/_mapping?pretty=true"
   ]
  },
  {
   "cell_type": "markdown",
   "metadata": {},
   "source": [
    "{\n",
    "  \"dishes\" : {\n",
    "    \"mappings\" : {\n",
    "      \"properties\" : {\n",
    "        \"created\" : {\n",
    "          \"type\" : \"date\",\n",
    "          \"format\" : \"yyyy/MM/dd HH:mm:ss||yyyy/MM/dd||epoch_millis\"\n",
    "        },\n",
    "        \"description\" : {\n",
    "          \"type\" : \"text\",\n",
    "          \"fields\" : {\n",
    "            \"keyword\" : {\n",
    "              \"type\" : \"keyword\",\n",
    "              \"ignore_above\" : 256\n",
    "            }\n",
    "          }\n",
    "        },\n",
    "        \"ingredients\" : {\n",
    "          \"properties\" : {\n",
    "            \"name\" : {\n",
    "              \"type\" : \"text\",\n",
    "              \"fields\" : {\n",
    "                \"keyword\" : {\n",
    "                  \"type\" : \"keyword\",\n",
    "                  \"ignore_above\" : 256\n",
    "                }\n",
    "              }\n",
    "            },\n",
    "            \"quantity\" : {\n",
    "              \"type\" : \"text\",\n",
    "              \"fields\" : {\n",
    "                \"keyword\" : {\n",
    "                  \"type\" : \"keyword\",\n",
    "                  \"ignore_above\" : 256\n",
    "                }\n",
    "              }\n",
    "            }\n",
    "          }\n",
    "        },\n",
    "        \"preparation_time_minutes\" : {\n",
    "          \"type\" : \"long\"\n",
    "        },\n",
    "        \"ratings\" : {\n",
    "          \"type\" : \"float\"\n",
    "        },\n",
    "        \"servings\" : {\n",
    "          \"properties\" : {\n",
    "            \"max\" : {\n",
    "              \"type\" : \"long\"\n",
    "            },\n",
    "            \"min\" : {\n",
    "              \"type\" : \"long\"\n",
    "            }\n",
    "          }\n",
    "        },\n",
    "        \"steps\" : {\n",
    "          \"type\" : \"text\",\n",
    "          \"fields\" : {\n",
    "            \"keyword\" : {\n",
    "              \"type\" : \"keyword\",\n",
    "              \"ignore_above\" : 256\n",
    "            }\n",
    "          }\n",
    "        },\n",
    "        \"title\" : {\n",
    "          \"type\" : \"text\",\n",
    "          \"fields\" : {\n",
    "            \"keyword\" : {\n",
    "              \"type\" : \"keyword\",\n",
    "              \"ignore_above\" : 256\n",
    "            }\n",
    "          }\n",
    "        }\n",
    "      }\n",
    "    }\n",
    "  }\n",
    "}\n"
   ]
  },
  {
   "cell_type": "markdown",
   "metadata": {},
   "source": [
    "2. Write queries to the `dishes` index given the specified criteria. The matching documents should be included in your solution, including their respective scores."
   ]
  },
  {
   "cell_type": "markdown",
   "metadata": {},
   "source": [
    "a) Return all dishes that have a preparation time of less than 15 minutes"
   ]
  },
  {
   "cell_type": "markdown",
   "metadata": {},
   "source": [
    "### Insert your answer here\n",
    "\n",
    "GET /dishes/_search\n",
    "{\n",
    "  \"_source\": [\n",
    "    \"title\",\n",
    "    \"preparation_time_minutes\"\n",
    "  ],\n",
    "  \"query\":{\n",
    "    \"range\": {\n",
    "      \"preparation_time_minutes\": {\n",
    "        \"lt\": 15\n",
    "      }\n",
    "    }\n",
    "  }\n",
    "}"
   ]
  },
  {
   "cell_type": "markdown",
   "metadata": {},
   "source": [
    "{\n",
    "  \"took\" : 3,\n",
    "  \"timed_out\" : false,\n",
    "  \"_shards\" : {\n",
    "    \"total\" : 1,\n",
    "    \"successful\" : 1,\n",
    "    \"skipped\" : 0,\n",
    "    \"failed\" : 0\n",
    "  },\n",
    "  \"hits\" : {\n",
    "    \"total\" : {\n",
    "      \"value\" : 3,\n",
    "      \"relation\" : \"eq\"\n",
    "    },\n",
    "    \"max_score\" : 1.0,\n",
    "    \"hits\" : [\n",
    "      {\n",
    "        \"_index\" : \"dishes\",\n",
    "        \"_type\" : \"_doc\",\n",
    "        \"_id\" : \"1\",\n",
    "        \"_score\" : 1.0,\n",
    "        \"_ignored\" : [\n",
    "          \"description.keyword\",\n",
    "          \"steps.keyword\"\n",
    "        ],\n",
    "        \"_source\" : {\n",
    "          \"preparation_time_minutes\" : 12,\n",
    "          \"title\" : \"Fast and Easy Pasta With Blistered Cherry Tomato Sauce\"\n",
    "        }\n",
    "      },\n",
    "      {\n",
    "        \"_index\" : \"dishes\",\n",
    "        \"_type\" : \"_doc\",\n",
    "        \"_id\" : \"5\",\n",
    "        \"_score\" : 1.0,\n",
    "        \"_ignored\" : [\n",
    "          \"description.keyword\",\n",
    "          \"steps.keyword\"\n",
    "        ],\n",
    "        \"_source\" : {\n",
    "          \"preparation_time_minutes\" : 8,\n",
    "          \"title\" : \"Stovetop Macaroni and Cheese\"\n",
    "        }\n",
    "      },\n",
    "      {\n",
    "        \"_index\" : \"dishes\",\n",
    "        \"_type\" : \"_doc\",\n",
    "        \"_id\" : \"6\",\n",
    "        \"_score\" : 1.0,\n",
    "        \"_ignored\" : [\n",
    "          \"steps.keyword\"\n",
    "        ],\n",
    "        \"_source\" : {\n",
    "          \"preparation_time_minutes\" : 10,\n",
    "          \"title\" : \"Spaghetti Aglio e Olio Recipe\"\n",
    "        }\n",
    "      }\n",
    "    ]\n",
    "  }\n",
    "}\n"
   ]
  },
  {
   "cell_type": "markdown",
   "metadata": {},
   "source": [
    "b) All dishes that contain `spaghetti` in the title."
   ]
  },
  {
   "cell_type": "markdown",
   "metadata": {},
   "source": [
    "### Insert your answer here\n",
    "\n",
    "GET /dishes/_search\n",
    "{\n",
    "  \"_source\": [\n",
    "    \"title\"\n",
    "  ],\n",
    "  \"query\": {\n",
    "    \"match\": {\n",
    "      \"title\": {\n",
    "        \"query\": \"spaghetti\"\n",
    "      }\n",
    "    }\n",
    "  }\n",
    "}"
   ]
  },
  {
   "cell_type": "markdown",
   "metadata": {},
   "source": [
    "{\n",
    "  \"took\" : 3,\n",
    "  \"timed_out\" : false,\n",
    "  \"_shards\" : {\n",
    "    \"total\" : 1,\n",
    "    \"successful\" : 1,\n",
    "    \"skipped\" : 0,\n",
    "    \"failed\" : 0\n",
    "  },\n",
    "  \"hits\" : {\n",
    "    \"total\" : {\n",
    "      \"value\" : 4,\n",
    "      \"relation\" : \"eq\"\n",
    "    },\n",
    "    \"max_score\" : 1.9130536,\n",
    "    \"hits\" : [\n",
    "      {\n",
    "        \"_index\" : \"dishes\",\n",
    "        \"_type\" : \"_doc\",\n",
    "        \"_id\" : \"11\",\n",
    "        \"_score\" : 1.9130536,\n",
    "        \"_ignored\" : [\n",
    "          \"description.keyword\",\n",
    "          \"steps.keyword\"\n",
    "        ],\n",
    "        \"_source\" : {\n",
    "          \"title\" : \"Spaghetti Puttanesca (Pasta or Spaghetti With Capers, Olives, and Anchovies)\"\n",
    "        }\n",
    "      },\n",
    "      {\n",
    "        \"_index\" : \"dishes\",\n",
    "        \"_type\" : \"_doc\",\n",
    "        \"_id\" : \"6\",\n",
    "        \"_score\" : 1.7677585,\n",
    "        \"_ignored\" : [\n",
    "          \"steps.keyword\"\n",
    "        ],\n",
    "        \"_source\" : {\n",
    "          \"title\" : \"Spaghetti Aglio e Olio Recipe\"\n",
    "        }\n",
    "      },\n",
    "      {\n",
    "        \"_index\" : \"dishes\",\n",
    "        \"_type\" : \"_doc\",\n",
    "        \"_id\" : \"4\",\n",
    "        \"_score\" : 1.4669425,\n",
    "        \"_ignored\" : [\n",
    "          \"description.keyword\",\n",
    "          \"steps.keyword\"\n",
    "        ],\n",
    "        \"_source\" : {\n",
    "          \"title\" : \"Shrimp Fra Diavolo (Spaghetti With Spicy Tomato Sauce)\"\n",
    "        }\n",
    "      },\n",
    "      {\n",
    "        \"_index\" : \"dishes\",\n",
    "        \"_type\" : \"_doc\",\n",
    "        \"_id\" : \"7\",\n",
    "        \"_score\" : 1.3174803,\n",
    "        \"_ignored\" : [\n",
    "          \"description.keyword\",\n",
    "          \"steps.keyword\"\n",
    "        ],\n",
    "        \"_source\" : {\n",
    "          \"title\" : \"Cacio e Pepe (Spaghetti With Black Pepper and Pecorino Romano)\"\n",
    "        }\n",
    "      }\n",
    "    ]\n",
    "  }\n",
    "}\n"
   ]
  },
  {
   "cell_type": "markdown",
   "metadata": {},
   "source": [
    "c) All dishes that received at least one 5-star rating and were created after 2016."
   ]
  },
  {
   "cell_type": "markdown",
   "metadata": {},
   "source": [
    "### Insert your answer here\n",
    "\n",
    "GET /dishes/_search \n",
    "{\n",
    "  \"_source\": [\n",
    "    \"title\",\n",
    "    \"ratings\",\n",
    "    \"created\"\n",
    "  ],\n",
    "  \"query\": {\n",
    "    \"bool\": {\n",
    "      \"must\": [\n",
    "        {\n",
    "          \"match\": {\n",
    "            \"ratings\": \"5.0\"\n",
    "          } \n",
    "        },\n",
    "        {\n",
    "          \"range\": {\n",
    "            \"created\": {\n",
    "              \"gte\": \"2017/01/01\", \n",
    "              \"lte\": \"now\"\n",
    "            }\n",
    "          }\n",
    "        }\n",
    "      ]\n",
    "    }\n",
    "  }\n",
    "}"
   ]
  },
  {
   "cell_type": "markdown",
   "metadata": {},
   "source": [
    "{\n",
    "  \"took\" : 2,\n",
    "  \"timed_out\" : false,\n",
    "  \"_shards\" : {\n",
    "    \"total\" : 1,\n",
    "    \"successful\" : 1,\n",
    "    \"skipped\" : 0,\n",
    "    \"failed\" : 0\n",
    "  },\n",
    "  \"hits\" : {\n",
    "    \"total\" : {\n",
    "      \"value\" : 2,\n",
    "      \"relation\" : \"eq\"\n",
    "    },\n",
    "    \"max_score\" : 2.0,\n",
    "    \"hits\" : [\n",
    "      {\n",
    "        \"_index\" : \"dishes\",\n",
    "        \"_type\" : \"_doc\",\n",
    "        \"_id\" : \"1\",\n",
    "        \"_score\" : 2.0,\n",
    "        \"_ignored\" : [\n",
    "          \"description.keyword\",\n",
    "          \"steps.keyword\"\n",
    "        ],\n",
    "        \"_source\" : {\n",
    "          \"created\" : \"2017/03/29\",\n",
    "          \"ratings\" : [\n",
    "            4.5,\n",
    "            5.0,\n",
    "            3.0,\n",
    "            4.5\n",
    "          ],\n",
    "          \"title\" : \"Fast and Easy Pasta With Blistered Cherry Tomato Sauce\"\n",
    "        }\n",
    "      },\n",
    "      {\n",
    "        \"_index\" : \"dishes\",\n",
    "        \"_type\" : \"_doc\",\n",
    "        \"_id\" : \"10\",\n",
    "        \"_score\" : 2.0,\n",
    "        \"_ignored\" : [\n",
    "          \"steps.keyword\"\n",
    "        ],\n",
    "        \"_source\" : {\n",
    "          \"created\" : \"2017/04/27\",\n",
    "          \"ratings\" : [\n",
    "            1.5,\n",
    "            2.0,\n",
    "            4.0,\n",
    "            3.5,\n",
    "            3.0,\n",
    "            5.0,\n",
    "            1.5\n",
    "          ],\n",
    "          \"title\" : \"Penne With Hot-As-You-Dare Arrabbiata Sauce\"\n",
    "        }\n",
    "      }\n",
    "    ]\n",
    "  }\n",
    "}\n"
   ]
  },
  {
   "cell_type": "markdown",
   "metadata": {},
   "source": [
    "d) Dishes that serve between 6 to 8 people."
   ]
  },
  {
   "cell_type": "markdown",
   "metadata": {},
   "source": [
    "### Insert your answer here\n",
    "\n",
    "GET /dishes/_search \n",
    "{\n",
    "  \"_source\": [\n",
    "    \"title\", \n",
    "    \"servings.max\",\n",
    "    \"servings.min\"\n",
    "  ],\n",
    "  \"query\": {\n",
    "    \"bool\": {\n",
    "      \"must\": [\n",
    "        {\n",
    "          \"range\": {\n",
    "            \"servings.min\": {\n",
    "              \"gte\": 6\n",
    "            }\n",
    "          }\n",
    "          },\n",
    "          {\n",
    "          \"range\": {\n",
    "            \"servings.max\": {\n",
    "              \"lte\": 8\n",
    "            }\n",
    "          }\n",
    "          }\n",
    "      ]\n",
    "    }\n",
    "  }\n",
    "}"
   ]
  },
  {
   "cell_type": "markdown",
   "metadata": {},
   "source": [
    "{\n",
    "  \"took\" : 2,\n",
    "  \"timed_out\" : false,\n",
    "  \"_shards\" : {\n",
    "    \"total\" : 1,\n",
    "    \"successful\" : 1,\n",
    "    \"skipped\" : 0,\n",
    "    \"failed\" : 0\n",
    "  },\n",
    "  \"hits\" : {\n",
    "    \"total\" : {\n",
    "      \"value\" : 1,\n",
    "      \"relation\" : \"eq\"\n",
    "    },\n",
    "    \"max_score\" : 2.0,\n",
    "    \"hits\" : [\n",
    "      {\n",
    "        \"_index\" : \"dishes\",\n",
    "        \"_type\" : \"_doc\",\n",
    "        \"_id\" : \"20\",\n",
    "        \"_score\" : 2.0,\n",
    "        \"_ignored\" : [\n",
    "          \"description.keyword\",\n",
    "          \"steps.keyword\"\n",
    "        ],\n",
    "        \"_source\" : {\n",
    "          \"servings\" : {\n",
    "            \"min\" : 6,\n",
    "            \"max\" : 8\n",
    "          },\n",
    "          \"title\" : \"Easy Skillet Baked Ziti With Sausage and Ricotta\"\n",
    "        }\n",
    "      }\n",
    "    ]\n",
    "  }\n",
    "}\n"
   ]
  },
  {
   "cell_type": "markdown",
   "metadata": {},
   "source": [
    "e) Dishes that mention both of the phrases \"pasta\" and \"parmigiano\" in the instructions."
   ]
  },
  {
   "cell_type": "markdown",
   "metadata": {},
   "source": [
    "### Insert your answer here\n",
    "\n",
    "GET /dishes/_search \n",
    "{\n",
    "  \"_source\": [\n",
    "    \"title\", \n",
    "    \"steps\"\n",
    "  ],\n",
    "  \"query\": {\n",
    "    \"bool\": {\n",
    "      \"must\": [\n",
    "        {\n",
    "          \"match\": {\n",
    "            \"steps\": \"pasta\"\n",
    "          }\n",
    "        },\n",
    "        {\n",
    "          \"match\": {\n",
    "            \"steps\": \"parmigiano\"\n",
    "          }\n",
    "        }\n",
    "      ]\n",
    "    }\n",
    "  }\n",
    "}"
   ]
  },
  {
   "cell_type": "markdown",
   "metadata": {},
   "source": [
    "{\n",
    "  \"took\" : 5,\n",
    "  \"timed_out\" : false,\n",
    "  \"_shards\" : {\n",
    "    \"total\" : 1,\n",
    "    \"successful\" : 1,\n",
    "    \"skipped\" : 0,\n",
    "    \"failed\" : 0\n",
    "  },\n",
    "  \"hits\" : {\n",
    "    \"total\" : {\n",
    "      \"value\" : 3,\n",
    "      \"relation\" : \"eq\"\n",
    "    },\n",
    "    \"max_score\" : 2.3426425,\n",
    "    \"hits\" : [\n",
    "      {\n",
    "        \"_index\" : \"dishes\",\n",
    "        \"_type\" : \"_doc\",\n",
    "        \"_id\" : \"13\",\n",
    "        \"_score\" : 2.3426425,\n",
    "        \"_ignored\" : [\n",
    "          \"steps.keyword\"\n",
    "        ],\n",
    "        \"_source\" : {\n",
    "          \"title\" : \"Pesto Pasta With Potatoes and Green Beans\",\n",
    "          \"steps\" : [\n",
    "            \"In a large pot of salted boiling water, boil pasta, potato, and green beans until pasta is al dente and potato and green beans are very tender. Drain, reserving 1 cup cooking water, and transfer pasta, potato, and green beans to a large mixing or serving bowl.\",\n",
    "            \"Add pesto sauce to pasta along with 1/4 cup pasta cooking water. Toss well to emulsify pesto and pasta water into a creamy sauce. Add more pasta water, 1 tablespoon at a time, as needed, if pasta is too dry. Drizzle in fresh olive oil, if desired. Serve with Parmigiano Reggiano on the side.\"\n",
    "          ]\n",
    "        }\n",
    "      },\n",
    "      {\n",
    "        \"_index\" : \"dishes\",\n",
    "        \"_type\" : \"_doc\",\n",
    "        \"_id\" : \"20\",\n",
    "        \"_score\" : 2.1880798,\n",
    "        \"_ignored\" : [\n",
    "          \"description.keyword\",\n",
    "          \"steps.keyword\"\n",
    "        ],\n",
    "        \"_source\" : {\n",
    "          \"title\" : \"Easy Skillet Baked Ziti With Sausage and Ricotta\",\n",
    "          \"steps\" : [\n",
    "            \"Place pasta in a large bowl and cover with hot water. Season generously with salt. Let rest, stirring twice during the first 10 minutes, while you prepare the other ingredients.\",\n",
    "            \"Use a hand blender or countertop blender to process tomatoes until mostly smooth, but still a little chunky. Set aside 3/4 cup of tomatoes. Combine remaining tomatoes, heavy cream, and chicken stock in a medium bowl. Season to taste with salt and set aside.\",\n",
    "            \"Heat oil and butter in a large straight-sided sauté pan or Dutch oven over medium-high heat, swirling, until butter is mostly melted. Add sausage and cook, mashing with a potato masher or a whisk, until sausage is no longer pink, about 5 minutes. Add onion and garlic, reduce heat to medium, and cook, stirring frequently, until softened but not browned, about 5 minutes. Add oregano, red pepper flakes, and half of parsley and cook, stirring, until fragrant, about 1 minute.\",\n",
    "            \"Add tomato and cream mixture to pan with sausage. Drain noodles in a large colander set in the sink, then add to pan and stir to combine. Stir in half of ricotta, then rapidly stir in half of mozzarella cheese. (Do not over-stir, or the mixture will stretch and stick to your spoon.) Spoon reserved 3/4 cup tomatoes over top of pasta. Dollop with remaining ricotta and scatter remaining mozzarella over top. Sprinkle with half of Parmigiano-Reggiano. Cover and cook over the lowest possible heat for 3 minutes. Remove from heat and let rest, covered, for 5 minutes.\",\n",
    "            \"Uncover, sprinkle with remaining Parmigiano-Reggiano and parsley, and serve immediately.\"\n",
    "          ]\n",
    "        }\n",
    "      },\n",
    "      {\n",
    "        \"_index\" : \"dishes\",\n",
    "        \"_type\" : \"_doc\",\n",
    "        \"_id\" : \"2\",\n",
    "        \"_score\" : 1.8295534,\n",
    "        \"_ignored\" : [\n",
    "          \"description.keyword\",\n",
    "          \"steps.keyword\"\n",
    "        ],\n",
    "        \"_source\" : {\n",
    "          \"title\" : \"Pasta With Butternut Squash and Sage Brown Butter\",\n",
    "          \"steps\" : [\n",
    "            \"Heat olive oil in a large stainless steel or cast-iron skillet over high heat until very lightly smoking. Immediately add squash, season with salt and pepper, and cook, stirring and tossing occasionally, until well-browned and squash is tender, about 5 minutes. Add butter and shallots and continue cooking, stirring frequently, until butter is lightly browned and smells nutty, about 1 minute longer. Add sage and stir to combine (sage should crackle and let off a great aroma). Remove from heat and stir in lemon juice. Set aside.\",\n",
    "            \"In a medium saucepan, combine pasta with enough room temperature or hot water to cover by about 2 inches. Season with salt. Set over high heat and bring to a boil while stirring frequently. Cook, stirring frequently, until pasta is just shy of al dente, about 2 minutes less than the package directions. Drain pasta, reserving a couple cups of the starchy cooking liquid.\",\n",
    "            \"Add pasta to skillet with squash along with a splash of pasta water. Bring to a simmer over high heat and cook until the pasta is perfectly al dente, stirring and tossing constantly and adding a splash of water as needed to keep the sauce loose and shiny. Off heat, stir in Parmigiano-Reggiano. Adjust seasoning with salt and pepper and texture with more pasta water as needed. Serve immediately, topped with more cheese at the table.\"\n",
    "          ]\n",
    "        }\n",
    "      }\n",
    "    ]\n",
    "  }\n",
    "}"
   ]
  },
  {
   "cell_type": "markdown",
   "metadata": {},
   "source": [
    "f) All recipes that require more than 10 ingredients"
   ]
  },
  {
   "cell_type": "markdown",
   "metadata": {},
   "source": [
    "### Insert your answer here\n",
    "\n",
    "GET dishes/_search\n",
    "{\n",
    "  \"_source\": [\n",
    "    \"title\", \n",
    "    \"ingredients.name\",\n",
    "    \"ingredients.quantity\"\n",
    "  ],\n",
    "  \"query\": {\n",
    "    \"bool\": {\n",
    "      \"must\": {\n",
    "        \"script\": {\n",
    "          \"script\": {\n",
    "            \"source\": \"doc['ingredients.name.keyword'].length > 10\",\n",
    "            \"lang\": \"painless\"\n",
    "          }\n",
    "        }\n",
    "      }\n",
    "    }\n",
    "  }\n",
    "}"
   ]
  },
  {
   "cell_type": "markdown",
   "metadata": {},
   "source": [
    "{'took': 13, 'timed_out': False, '_shards': {'total': 1, 'successful': 1, 'skipped': 0, 'failed': 0}, 'hits': {'total': {'value': 13, 'relation': 'eq'}, 'max_score': 1.0, 'hits': [{'_index': 'dishes', '_type': '_doc', '_id': '3', '_score': 1.0, '_ignored': ['description.keyword', 'steps.keyword'], '_source': {'ingredients': [{'quantity': '1 tablespoon', 'name': 'Extra-virgin olive oil'}, {'quantity': '115g', 'name': 'Thinly sliced prosciutto'}, {'quantity': '1/4 cup', 'name': 'Thinly sliced green garlic'}, {'quantity': '2', 'name': 'Cloves garlic'}, {'quantity': '450g', 'name': 'Asparagus'}, {'quantity': '1 cup', 'name': 'Heavy cream'}, {'quantity': '55g', 'name': 'Grated Parmigiano-Reggiano cheese'}, {'name': 'Kosher salt'}, {'name': 'Freshly ground black pepper'}, {'quantity': '1 tablespoon', 'name': 'Lemon juice'}, {'quantity': '1 teaspoon', 'name': 'grated zest'}, {'quantity': '2 tablespoons', 'name': 'Minced fresh chives'}, {'name': 'Ricotta'}], 'title': 'Ricotta Gnocchi With Asparagus and Prosciutto'}}, {'_index': 'dishes', '_type': '_doc', '_id': '4', '_score': 1.0, '_ignored': ['description.keyword', 'steps.keyword'], '_source': {'ingredients': [{'quantity': '1/2 teaspoon', 'name': 'Kosher salt'}, {'quantity': '340g', 'name': 'Large shrimp'}, {'name': 'Large pinch baking soda'}, {'quantity': '90ml', 'name': 'Extra-virgin olive oil'}, {'quantity': '4', 'name': 'Cloves garlic'}, {'quantity': '1,5 teaspoons', 'name': 'Dried oregano'}, {'quantity': '1-2 teaspoons', 'name': 'Red chili flakes '}, {'quantity': '30ml', 'name': 'Brandy'}, {'quantity': '800g', 'name': 'Whole peeled tomatoes'}, {'quantity': '120ml', 'name': 'Clam juice'}, {'quantity': '450g', 'name': 'Spaghetti'}, {'quantity': '1/4 cup', 'name': 'Minced flat-leaf parsley leaves'}], 'title': 'Shrimp Fra Diavolo (Spaghetti With Spicy Tomato Sauce)'}}, {'_index': 'dishes', '_type': '_doc', '_id': '8', '_score': 1.0, '_ignored': ['description.keyword', 'steps.keyword'], '_source': {'ingredients': [{'quantity': '200g', 'name': 'Silken tofu'}, {'quantity': '120ml', 'name': 'Sauerkraut brine'}, {'quantity': '15g', 'name': 'Nutritional yeast'}, {'quantity': '15ml', 'name': 'White miso'}, {'name': 'Cayenne pepper'}, {'quantity': '1/4 teaspoon', 'name': 'Smoked paprika'}, {'quantity': '2 teaspoons', 'name': 'Freshly ground black pepper'}, {'quantity': '1 teaspoon', 'name': 'White wine vinegar'}, {'name': 'Kosher salt'}, {'quantity': '120ml', 'name': 'Extra-virgin olive oil'}, {'quantity': '115g', 'name': 'King oyster mushrooms'}, {'quantity': '450g', 'name': 'Dry spaghetti or penne'}], 'title': 'Vegan Carbonara Pasta'}}, {'_index': 'dishes', '_type': '_doc', '_id': '11', '_score': 1.0, '_ignored': ['description.keyword', 'steps.keyword'], '_source': {'ingredients': [{'quantity': '225g', 'name': 'Dried spaghetti'}, {'name': 'Kosher salt'}, {'quantity': '6 tablespoons', 'name': 'Extra-virgin olive oil'}, {'quantity': '4', 'name': 'Cloves garlic'}, {'quantity': '4-6', 'name': 'Anchovy fillets'}, {'name': 'Large pinch red pepper flakes'}, {'quantity': '1/4 cup', 'name': 'Capers'}, {'quantity': '1/4 cup', 'name': 'Pitted black olives'}, {'quantity': '225g', 'name': 'Whole peeled tomatoes'}, {'quantity': 'Small handful', 'name': 'Minced fresh parsley leaves'}, {'quantity': '30g', 'name': 'Finely grated Pecorino Romano or Parmesan cheese'}, {'name': 'Freshly ground black pepper'}, {'quantity': '140g', 'name': 'Can oil-packed tuna'}], 'title': 'Spaghetti Puttanesca (Pasta or Spaghetti With Capers, Olives, and Anchovies)'}}, {'_index': 'dishes', '_type': '_doc', '_id': '12', '_score': 1.0, '_ignored': ['description.keyword', 'steps.keyword'], '_source': {'ingredients': [{'name': 'Kosher salt'}, {'quantity': '1', 'name': 'Large russet potato'}, {'quantity': '2', 'name': 'Medium carrots'}, {'quantity': '85g', 'name': 'String beans'}, {'quantity': '1/2', 'name': 'Small fennel bulb'}, {'quantity': '1', 'name': 'Small red onion'}, {'quantity': '450g', 'name': 'Dried penne'}, {'quantity': '2-4', 'name': 'Cloves garlic'}, {'quantity': '3/4 cup', 'name': 'Extra-virgin olive oil'}, {'quantity': '1/4 cup', 'name': 'Minced parsley'}, {'name': 'Freshly ground black pepper'}, {'name': 'Grated Parmigiano-Reggiano'}], 'title': 'Penne With Melted-Vegetable Sauce'}}, {'_index': 'dishes', '_type': '_doc', '_id': '14', '_score': 1.0, '_ignored': ['description.keyword', 'steps.keyword'], '_source': {'ingredients': [{'quantity': '140g', 'name': 'Grated Parmigiano Reggiano cheese'}, {'quantity': '30ml', 'name': 'Heavy cream'}, {'quantity': '1', 'name': 'Egg'}, {'quantity': '1 teaspoon', 'name': 'Cornstarch'}, {'quantity': '2 tablespoons', 'name': 'Extra-virgin olive oil'}, {'quantity': '1/2 teaspoons', 'name': 'Grated lemon zest'}, {'name': 'Kosher salt'}, {'name': 'Freshly ground black pepper'}, {'quantity': '450g', 'name': 'Fresh fettuccine'}, {'quantity': '1 teaspoon', 'name': 'Minced garlic'}, {'quantity': '30g', 'name': 'Unsalted butter'}, {'name': 'Minced fresh parsley'}], 'title': 'Lighter Fettuccine Alfredo Recipe'}}, {'_index': 'dishes', '_type': '_doc', '_id': '15', '_score': 1.0, '_ignored': ['description.keyword', 'steps.keyword'], '_source': {'ingredients': [{'quantity': '170g', 'name': 'Dried wide egg noodles'}, {'name': 'Kosher salt'}, {'quantity': '170g', 'name': 'Crème fraîche'}, {'quantity': '1', 'name': 'Egg'}, {'quantity': '2 teaspoons', 'name': 'Cornstarch'}, {'name': 'Freshly ground black pepper'}, {'quantity': '2 tablespoons', 'name': 'Lemon juice'}, {'quantity': '1 can', 'name': 'Tuna'}, {'quantity': '1 cup', 'name': 'Frozen peas'}, {'quantity': '1/4 cup', 'name': 'Picked fresh parsley leaves'}, {'name': 'Extra-virgin olive oil'}, {'name': 'Crushed potato chips'}], 'title': 'Lighter Tuna Noodle Casserole'}}, {'_index': 'dishes', '_type': '_doc', '_id': '16', '_score': 1.0, '_ignored': ['description.keyword', 'steps.keyword'], '_source': {'ingredients': [{'quantity': '2 tablespoons', 'name': 'Extra-virgin olive oil'}, {'quantity': '2 cups', 'name': 'Oyster mushrooms'}, {'name': 'Kosher salt'}, {'name': 'Freshly ground black pepper'}, {'quantity': '1', 'name': 'Shallot'}, {'quantity': '2', 'name': 'Cloves garlic'}, {'name': 'Dried red chili flakes'}, {'quantity': '1/4 cup', 'name': 'Dry white wine'}, {'quantity': '450g', 'name': 'Dried orecchiette'}, {'quantity': '950ml', 'name': 'Homemade chicken stock'}, {'quantity': '2 cups', 'name': 'Spinach'}, {'quantity': '450g', 'name': 'Medium shrimp'}, {'quantity': '2 tablespoons', 'name': 'Lemon juice'}], 'title': 'One-Skillet Orecchiette With Shrimp, Spinach, and Mushrooms'}}, {'_index': 'dishes', '_type': '_doc', '_id': '17', '_score': 1.0, '_ignored': ['description.keyword', 'steps.keyword'], '_source': {'ingredients': [{'quantity': '1/2 tablespoon', 'name': 'Extra-virgin olive oil'}, {'quantity': '115g', 'name': 'Panchetta'}, {'quantity': '2 cups', 'name': 'Shiitake mushrooms'}, {'quantity': '1', 'name': 'Shallot'}, {'quantity': '1/2', 'name': 'Serrano chile pepper'}, {'quantity': '5 cups', 'name': 'Homemade chicken or vegetable stock'}, {'quantity': '450g', 'name': 'Dried fusilli'}, {'name': 'Kosher salt'}, {'name': 'Freshly ground black pepper'}, {'quantity': '2 tablespoons', 'name': 'Fresh lemon juice'}, {'quantity': 'A bunch', 'name': 'Greens (e.g. kale)'}, {'name': 'Parmesan'}], 'title': 'Skillet Pasta With Mushrooms, Pancetta, and Wilted Greens'}}, {'_index': 'dishes', '_type': '_doc', '_id': '18', '_score': 1.0, '_ignored': ['description.keyword', 'steps.keyword'], '_source': {'ingredients': [{'quantity': '2 tablespoons', 'name': 'Olive oil'}, {'quantity': 'A bunch', 'name': 'Swiss chard'}, {'quantity': '1', 'name': 'Large shallot'}, {'name': 'Kosher salt'}, {'name': 'Freshly ground black pepper'}, {'name': 'Dried red chile flakes'}, {'quantity': '4,5 cups', 'name': 'Homemade vegetable stock'}, {'quantity': '450g', 'name': 'Whole wheat fusilli pasta'}, {'quantity': '2 tablespoons', 'name': 'Fresh lemon juice'}, {'quantity': '1 tablespoon', 'name': 'Sumac'}, {'name': 'Parmigiano-Reggiano'}], 'title': 'Vegetarian Citrus Pasta With Swiss Chard'}}, {'_index': 'dishes', '_type': '_doc', '_id': '19', '_score': 1.0, '_ignored': ['steps.keyword'], '_source': {'ingredients': [{'quantity': '3 tablespoons', 'name': 'Olive oil'}, {'quantity': '115g', 'name': 'Brussels sprouts'}, {'name': 'Kosher salt'}, {'name': 'Freshly ground black pepper'}, {'quantity': '225g', 'name': 'Mixed mushrooms'}, {'quantity': '1', 'name': 'Shallot'}, {'quantity': '2', 'name': 'Cloves garlic'}, {'quantity': '1 teaspoon', 'name': 'Fresh thyme leaves'}, {'quantity': '4 tablespoons', 'name': 'Butter'}, {'quantity': '2 teaspoons', 'name': 'Freshly squeezed lemon juice'}, {'quantity': '1/2 cup', 'name': 'Homemade vegetable or chicken stock'}, {'quantity': '450g', 'name': 'Dried orecchiette'}, {'quantity': '55g', 'name': 'Freshly grated Parmesan cheese'}], 'title': 'Pasta With Mushrooms, Brussels Sprouts, and Parmesan'}}, {'_index': 'dishes', '_type': '_doc', '_id': '20', '_score': 1.0, '_ignored': ['description.keyword', 'steps.keyword'], '_source': {'ingredients': [{'quantity': '450g', 'name': 'Dry ziti or penne'}, {'name': 'Kosher salt'}, {'quantity': '1', 'name': 'Can whole peeled tomatoes'}, {'quantity': '1 cup', 'name': 'Heavy cream'}, {'quantity': '1 cup', 'name': 'Homemade chicken stock'}, {'quantity': '2 tablespoons', 'name': 'Extra-virgin olive oil'}, {'quantity': '2 tablespoons', 'name': 'Unsalted butter'}, {'quantity': '450g', 'name': 'Italian sausage'}, {'quantity': '1', 'name': 'Large onion'}, {'quantity': '4', 'name': 'Cloves garlic'}, {'quantity': '1 tablespoon', 'name': 'Dried oregano'}, {'quantity': '1 teaspoon', 'name': 'Crushed red pepper flakes'}, {'quantity': '1/4 cup', 'name': 'Finely minced fresh parsley leaves'}, {'quantity': '350g', 'name': 'Ricotta cheese'}, {'quantity': '450g', 'name': 'Low-moisture whole-milk mozzarella cheese'}, {'quantity': '85g', 'name': 'Roughly grated Parmigiano-Reggiano'}], 'title': 'Easy Skillet Baked Ziti With Sausage and Ricotta'}}, {'_index': 'dishes', '_type': '_doc', '_id': '21', '_score': 1.0, '_ignored': ['description.keyword', 'steps.keyword'], '_source': {'ingredients': [{'quantity': '1 cup', 'name': 'Panko-style bread crumbs'}, {'quantity': '175g', 'name': 'Grated Parmesan cheese'}, {'quantity': '1/4 cup', 'name': 'Chopped fresh parsley leaves'}, {'quantity': '2 tablespoons', 'name': 'Finely minced fresh chives'}, {'quantity': '2', 'name': 'Shallots'}, {'quantity': '2', 'name': 'Cloves garlic'}, {'quantity': '2 tablespoons', 'name': 'Extra-virgin olive oil'}, {'name': 'Kosher salt'}, {'name': 'Freshly ground black pepper'}, {'quantity': '2 tablespoons', 'name': 'Unsalted butter'}, {'quantity': '225g', 'name': 'Italian sausage'}, {'quantity': '450g', 'name': 'Mixed mushrooms'}, {'quantity': '1 tablespoon', 'name': 'Soy sauce'}, {'quantity': '1 tablespoon', 'name': 'Fresh lemon juice'}, {'quantity': '2,5 tablespoons', 'name': 'Flour'}, {'quantity': '2 cups', 'name': 'Homemade chicken stock'}, {'quantity': '1 cup', 'name': 'Heavy cream'}, {'quantity': '350g', 'name': 'Fresh ridged pasta'}], 'title': 'Crispy Baked Pasta With Mushrooms, Sausage, and Parmesan Cream Sauce'}}]}}\n"
   ]
  },
  {
   "cell_type": "markdown",
   "metadata": {},
   "source": [
    "g) Extend your query from b), such that it searches for `spaghetti` in both the title *and* description field. Occurrences in the title field should be boosted by a factor of 3."
   ]
  },
  {
   "cell_type": "markdown",
   "metadata": {},
   "source": [
    "### Insert your answer here\n",
    "\n",
    "GET dishes/_search\n",
    "{\n",
    "  \"_source\": [\n",
    "    \"title\", \n",
    "    \"description\"\n",
    "  ],\n",
    "  \"query\": {\n",
    "    \"bool\": {\n",
    "      \"should\": [\n",
    "        { \"match\": { \"description\": \"spaghetti\"} },\n",
    "        { \"match\": { \"title\": {\n",
    "                      \"query\": \"spaghetti\",\n",
    "                      \"boost\": 3}\n",
    "                    }}\n",
    "      ]\n",
    "    }\n",
    "  }\n",
    "}"
   ]
  },
  {
   "cell_type": "markdown",
   "metadata": {},
   "source": [
    "{\n",
    "  \"took\" : 7,\n",
    "  \"timed_out\" : false,\n",
    "  \"_shards\" : {\n",
    "    \"total\" : 1,\n",
    "    \"successful\" : 1,\n",
    "    \"skipped\" : 0,\n",
    "    \"failed\" : 0\n",
    "  },\n",
    "  \"hits\" : {\n",
    "    \"total\" : {\n",
    "      \"value\" : 4,\n",
    "      \"relation\" : \"eq\"\n",
    "    },\n",
    "    \"max_score\" : 7.7521906,\n",
    "    \"hits\" : [\n",
    "      {\n",
    "        \"_index\" : \"dishes\",\n",
    "        \"_type\" : \"_doc\",\n",
    "        \"_id\" : \"7\",\n",
    "        \"_score\" : 7.7521906,\n",
    "        \"_ignored\" : [\n",
    "          \"description.keyword\",\n",
    "          \"steps.keyword\"\n",
    "        ],\n",
    "        \"_source\" : {\n",
    "          \"description\" : \"If you were to watch a practiced hand make cacio e pepe, you might think the instructions were as simple as this: Cook spaghetti and drain. Toss with olive oil, butter, black pepper, and grated Pecorino Romano cheese. Serve. But we all know that the simplest recipes can often be the most confounding, and so it is with cacio e pepe. Follow those instructions and, if you're lucky, you'll get what you're after: a creamy, emulsified sauce that coats each strand of spaghetti with flavor. More likely, you're gonna get what I (and, from the stories I've heard, many others as well) got on the first few tries—spaghetti in a thin, greasy sauce, or spaghetti with clumps of cheese that refuse to melt. Or, worse, both at the same time. Here's how to make it perfectly every time.\",\n",
    "          \"title\" : \"Cacio e Pepe (Spaghetti With Black Pepper and Pecorino Romano)\"\n",
    "        }\n",
    "      },\n",
    "      {\n",
    "        \"_index\" : \"dishes\",\n",
    "        \"_type\" : \"_doc\",\n",
    "        \"_id\" : \"11\",\n",
    "        \"_score\" : 5.7391615,\n",
    "        \"_ignored\" : [\n",
    "          \"description.keyword\",\n",
    "          \"steps.keyword\"\n",
    "        ],\n",
    "        \"_source\" : {\n",
    "          \"description\" : \"\\\"Puttanesca\\\" literally translates to \\\"in the style of prostitutes,\\\" supposedly because the pungent aromas of garlic, anchovies, capers, and olives tossed with pasta were how Neapolitan prostitutes would lead customers to their doors. This is one of those stories that seem, in the words of Douglas Adams, apocryphal or at least wildly inaccurate. That said, it's a fitting title—puttanesca packs an aromatic punch and then some.\",\n",
    "          \"title\" : \"Spaghetti Puttanesca (Pasta or Spaghetti With Capers, Olives, and Anchovies)\"\n",
    "        }\n",
    "      },\n",
    "      {\n",
    "        \"_index\" : \"dishes\",\n",
    "        \"_type\" : \"_doc\",\n",
    "        \"_id\" : \"6\",\n",
    "        \"_score\" : 5.303276,\n",
    "        \"_ignored\" : [\n",
    "          \"steps.keyword\"\n",
    "        ],\n",
    "        \"_source\" : {\n",
    "          \"description\" : \"One of the most basic pasta sauces, aglio e olio uses just garlic and olive oil (and maybe a pinch of red pepper flakes for heat). It sounds too simple to be good, but it's among the best.\",\n",
    "          \"title\" : \"Spaghetti Aglio e Olio Recipe\"\n",
    "        }\n",
    "      },\n",
    "      {\n",
    "        \"_index\" : \"dishes\",\n",
    "        \"_type\" : \"_doc\",\n",
    "        \"_id\" : \"4\",\n",
    "        \"_score\" : 4.400828,\n",
    "        \"_ignored\" : [\n",
    "          \"description.keyword\",\n",
    "          \"steps.keyword\"\n",
    "        ],\n",
    "        \"_source\" : {\n",
    "          \"description\" : \"Lobster fra diavolo is a classic Italian-American pasta dish, but the lobster version is a lot easier for restaurants than home cooks. Shrimp make an excellent stand-in, as long as you know how to infuse the spicy tomato sauce with some real shellfish flavor.\",\n",
    "          \"title\" : \"Shrimp Fra Diavolo (Spaghetti With Spicy Tomato Sauce)\"\n",
    "        }\n",
    "      }\n",
    "    ]\n",
    "  }\n",
    "}\n"
   ]
  },
  {
   "cell_type": "markdown",
   "metadata": {},
   "source": [
    "3. The default analyzer might not be perfect for working with recipe data. Provide the definition of a custom analyzer which adheres to the following specifications:\n",
    "   \n",
    "   - It performs *no* stop word filtering.\n",
    "   - It applies stemming to all tokens.\n",
    "   - It does *not* lowercase tokens, but keeps the original case of letters."
   ]
  },
  {
   "cell_type": "markdown",
   "metadata": {},
   "source": [
    "### Insert your answer here\n",
    "\n",
    "PUT /dishes/_settings\n",
    "{\n",
    "    \"analysis\": {\n",
    "      \"analyzer\": {\n",
    "        \"default\": {\n",
    "          \"tokenizer\": \"standard\",\n",
    "          \"filter\": [\"stemming_all_tokens_filter\"]\n",
    "        }\n",
    "      },\n",
    "      \"filter\": {\n",
    "        \"stemming_all_tokens_filter\":{\n",
    "          \"type\": \"stemmer\"\n",
    "        }\n",
    "      }\n",
    "    }\n",
    "}"
   ]
  },
  {
   "cell_type": "markdown",
   "metadata": {},
   "source": [
    "## Question 2-3: Document Representations (2 + 2 + 3 = 7 points)\n",
    "\n",
    "Please fill out the answers directly in the provided fields."
   ]
  },
  {
   "cell_type": "markdown",
   "metadata": {},
   "source": [
    "#### a) Why is it preferable to use cosine distance over Euclidean distance when computing document similarity?"
   ]
  },
  {
   "cell_type": "markdown",
   "metadata": {},
   "source": [
    "Answer:"
   ]
  },
  {
   "cell_type": "markdown",
   "metadata": {},
   "source": [
    "#### b) Identify two shortcomings of Bag-of-Word-based document representations"
   ]
  },
  {
   "cell_type": "markdown",
   "metadata": {},
   "source": [
    "Answer:"
   ]
  },
  {
   "cell_type": "markdown",
   "metadata": {},
   "source": [
    "#### c) Find the singular value decomposition of the following matrix:\n",
    "\n",
    "$A = \\left[ \\begin{matrix}1&-1\\\\ -2&2\\\\ 2&-2\\end{matrix} \\right]$.\n"
   ]
  },
  {
   "cell_type": "markdown",
   "metadata": {},
   "source": [
    "Answer:"
   ]
  },
  {
   "cell_type": "markdown",
   "metadata": {},
   "source": []
  }
 ],
 "metadata": {
  "kernelspec": {
   "display_name": "Python 3.10.8 64-bit",
   "language": "python",
   "name": "python3"
  },
  "language_info": {
   "codemirror_mode": {
    "name": "ipython",
    "version": 3
   },
   "file_extension": ".py",
   "mimetype": "text/x-python",
   "name": "python",
   "nbconvert_exporter": "python",
   "pygments_lexer": "ipython3",
   "version": "3.10.8"
  },
  "orig_nbformat": 4,
  "vscode": {
   "interpreter": {
    "hash": "aee8b7b246df8f9039afb4144a1f6fd8d2ca17a180786b69acc140d282b71a49"
   }
  }
 },
 "nbformat": 4,
 "nbformat_minor": 2
}
