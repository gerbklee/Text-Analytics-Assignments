{
 "cells": [
  {
   "cell_type": "code",
   "execution_count": 92,
   "metadata": {},
   "outputs": [],
   "source": [
    "test =\"[b-chm-pP]at|ot\""
   ]
  },
  {
   "cell_type": "code",
   "execution_count": 90,
   "metadata": {},
   "outputs": [],
   "source": [
    "umlauts = [\"ä\",\"ü\",\"ö\",\"Ä\",\"Ü\",\"Ö\",\"ß\"]\n",
    "jokers = [\"^\",\"|\",\"*\",\"+\",\"?\"]\n",
    "\n",
    "\n",
    "def reject_regex():\n",
    "    print(\"Your regular expression has been rejected\")\n",
    "    return False\n",
    "\n",
    "\n",
    "def accept_regex():\n",
    "    print(\"Your regular expression has been accepted\")\n",
    "    return True\n",
    "\n",
    "def verify_regex(exp):\n",
    "    left_bracket_counter = 0\n",
    "    right_bracket_counter = 0\n",
    "    if isinstance(exp, str) == False:        \n",
    "        return reject_regex()\n",
    "    for element in exp:\n",
    "        if str.isascii(element) == False:\n",
    "            if element not in umlauts:\n",
    "                print(\"You used unsupported characters\")\n",
    "                return reject_regex()\n",
    "        if element in jokers:\n",
    "            if last_letter == element:\n",
    "                print(\"The Characters ^,|,*,+ and ? may not appear next to each other\")\n",
    "                return reject_regex()\n",
    "        last_letter = element\n",
    "        if element == \"(\":\n",
    "            left_bracket_counter += 1\n",
    "        if element == \")\":\n",
    "            right_bracket_counter += 1\n",
    "\n",
    "    if left_bracket_counter > right_bracket_counter:\n",
    "        print(\"You forgot a right bracket somewhere\")\n",
    "        return reject_regex()\n",
    "           \n",
    "    if right_bracket_counter > left_bracket_counter :\n",
    "        print(\"You forgot a left bracket somewhere\")\n",
    "        return reject_regex()\n",
    "\n",
    "    return accept_regex()\n"
   ]
  },
  {
   "cell_type": "code",
   "execution_count": 93,
   "metadata": {},
   "outputs": [
    {
     "name": "stdout",
     "output_type": "stream",
     "text": [
      "Your regular expression has been accepted\n"
     ]
    },
    {
     "data": {
      "text/plain": [
       "True"
      ]
     },
     "execution_count": 93,
     "metadata": {},
     "output_type": "execute_result"
    }
   ],
   "source": [
    "verify_regex(test)\n"
   ]
  }
 ],
 "metadata": {
  "kernelspec": {
   "display_name": "Python 3.10.4 64-bit",
   "language": "python",
   "name": "python3"
  },
  "language_info": {
   "codemirror_mode": {
    "name": "ipython",
    "version": 3
   },
   "file_extension": ".py",
   "mimetype": "text/x-python",
   "name": "python",
   "nbconvert_exporter": "python",
   "pygments_lexer": "ipython3",
   "version": "3.10.4"
  },
  "orig_nbformat": 4,
  "vscode": {
   "interpreter": {
    "hash": "e2acad2d318e78a00a44646627195d999ce444529836353b37cf256bc45b04b9"
   }
  }
 },
 "nbformat": 4,
 "nbformat_minor": 2
}
