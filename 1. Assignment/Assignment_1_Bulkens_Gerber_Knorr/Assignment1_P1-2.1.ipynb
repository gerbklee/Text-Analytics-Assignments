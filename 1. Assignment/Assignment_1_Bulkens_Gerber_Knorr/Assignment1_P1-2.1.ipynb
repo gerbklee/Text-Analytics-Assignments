{
 "cells": [
  {
   "cell_type": "markdown",
   "metadata": {},
   "source": [
    "# Task 2.1"
   ]
  },
  {
   "cell_type": "code",
   "execution_count": 1,
   "metadata": {},
   "outputs": [],
   "source": [
    "#Input for Regex Checker\n",
    "\n",
    "test =\"abc\\\\$\""
   ]
  },
  {
   "cell_type": "code",
   "execution_count": 2,
   "metadata": {},
   "outputs": [],
   "source": [
    "#Helper Lists for checking contents\n",
    "\n",
    "umlauts = [\"ä\",\"ü\",\"ö\",\"Ä\",\"Ü\",\"Ö\",\"ß\"]\n",
    "jokers = [\"^\",\"|\",\"*\",\"+\",\"?\"]\n",
    "\n",
    "#Output if RegEx is rejected\n",
    "\n",
    "def reject_regex():\n",
    "    print(\"Your regular expression has been rejected\")\n",
    "    return False\n",
    "\n",
    "#Output if RegEx is accepted\n",
    "\n",
    "def accept_regex():\n",
    "    print(\"Your regular expression has been accepted\")\n",
    "    return True\n",
    "\n",
    "\n",
    "\n",
    "def verify_regex(exp):\n",
    "\n",
    "    #Counters to check if number of left and right brackets is equal\n",
    "\n",
    "    left_bracket_counter = 0\n",
    "    right_bracket_counter = 0\n",
    "\n",
    "    #Check if input is string\n",
    "\n",
    "    if isinstance(exp, str) == False:        \n",
    "        print(\"Please enter a string\")\n",
    "        return reject_regex()\n",
    "\n",
    "    for element in exp:\n",
    "\n",
    "        #If an element is not an ascii character, check if it is an umlaut\n",
    "\n",
    "        if str.isascii(element) == False:\n",
    "            if element not in umlauts:\n",
    "                print(\"You used unsupported characters\")\n",
    "                return reject_regex()\n",
    "\n",
    "        #Check if two joker characters are placed next to each other\n",
    "\n",
    "        if element in jokers:\n",
    "            if last_letter == element:\n",
    "                print(\"The Characters ^,|,*,+ and ? may not appear next to each other\")\n",
    "                return reject_regex()\n",
    "        last_letter = element\n",
    "\n",
    "        #Count brackets\n",
    "\n",
    "        if element == \"(\":\n",
    "            left_bracket_counter += 1\n",
    "        if element == \")\":\n",
    "            right_bracket_counter += 1\n",
    "\n",
    "    if left_bracket_counter > right_bracket_counter:\n",
    "        print(\"You forgot a right bracket somewhere\")\n",
    "        return reject_regex()\n",
    "           \n",
    "    if right_bracket_counter > left_bracket_counter :\n",
    "        print(\"You forgot a left bracket somewhere\")\n",
    "        return reject_regex()\n",
    "\n",
    "    return accept_regex()\n"
   ]
  },
  {
   "cell_type": "code",
   "execution_count": 3,
   "metadata": {},
   "outputs": [
    {
     "name": "stdout",
     "output_type": "stream",
     "text": [
      "Your regular expression has been accepted\n"
     ]
    },
    {
     "data": {
      "text/plain": [
       "True"
      ]
     },
     "execution_count": 3,
     "metadata": {},
     "output_type": "execute_result"
    }
   ],
   "source": [
    "verify_regex(test)\n"
   ]
  }
 ],
 "metadata": {
  "kernelspec": {
   "display_name": "Python 3.10.4 64-bit",
   "language": "python",
   "name": "python3"
  },
  "language_info": {
   "codemirror_mode": {
    "name": "ipython",
    "version": 3
   },
   "file_extension": ".py",
   "mimetype": "text/x-python",
   "name": "python",
   "nbconvert_exporter": "python",
   "pygments_lexer": "ipython3",
   "version": "3.10.4"
  },
  "orig_nbformat": 4,
  "vscode": {
   "interpreter": {
    "hash": "e2acad2d318e78a00a44646627195d999ce444529836353b37cf256bc45b04b9"
   }
  }
 },
 "nbformat": 4,
 "nbformat_minor": 2
}
